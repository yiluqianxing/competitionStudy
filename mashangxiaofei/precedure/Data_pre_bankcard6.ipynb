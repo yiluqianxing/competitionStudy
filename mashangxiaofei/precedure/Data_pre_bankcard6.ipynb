{
 "cells": [
  {
   "cell_type": "code",
   "execution_count": 25,
   "metadata": {},
   "outputs": [
    {
     "data": {
      "text/html": [
       "<div>\n",
       "<style>\n",
       "    .dataframe thead tr:only-child th {\n",
       "        text-align: right;\n",
       "    }\n",
       "\n",
       "    .dataframe thead th {\n",
       "        text-align: left;\n",
       "    }\n",
       "\n",
       "    .dataframe tbody tr th {\n",
       "        vertical-align: top;\n",
       "    }\n",
       "</style>\n",
       "<table border=\"1\" class=\"dataframe\">\n",
       "  <thead>\n",
       "    <tr style=\"text-align: right;\">\n",
       "      <th></th>\n",
       "      <th>bank_name</th>\n",
       "      <th>tail_num</th>\n",
       "      <th>card_type</th>\n",
       "      <th>phone</th>\n",
       "      <th>id</th>\n",
       "    </tr>\n",
       "  </thead>\n",
       "  <tbody>\n",
       "    <tr>\n",
       "      <th>0</th>\n",
       "      <td>中信银行</td>\n",
       "      <td>9753</td>\n",
       "      <td>储蓄卡</td>\n",
       "      <td>177****8427</td>\n",
       "      <td>585401206734589960</td>\n",
       "    </tr>\n",
       "    <tr>\n",
       "      <th>1</th>\n",
       "      <td>农业银行</td>\n",
       "      <td>2174</td>\n",
       "      <td>储蓄卡</td>\n",
       "      <td>150****4551</td>\n",
       "      <td>587694980785508360</td>\n",
       "    </tr>\n",
       "    <tr>\n",
       "      <th>2</th>\n",
       "      <td>中国交通银行</td>\n",
       "      <td>4832</td>\n",
       "      <td>信用卡</td>\n",
       "      <td>185****1989</td>\n",
       "      <td>602098357531316232</td>\n",
       "    </tr>\n",
       "    <tr>\n",
       "      <th>3</th>\n",
       "      <td>北京银行</td>\n",
       "      <td>5697</td>\n",
       "      <td>储蓄卡</td>\n",
       "      <td>186****1634</td>\n",
       "      <td>567205103669350408</td>\n",
       "    </tr>\n",
       "    <tr>\n",
       "      <th>4</th>\n",
       "      <td>中信银行</td>\n",
       "      <td>7703</td>\n",
       "      <td>储蓄卡</td>\n",
       "      <td>158****7655</td>\n",
       "      <td>577538085852549384</td>\n",
       "    </tr>\n",
       "  </tbody>\n",
       "</table>\n",
       "</div>"
      ],
      "text/plain": [
       "  bank_name  tail_num card_type        phone                  id\n",
       "0      中信银行      9753       储蓄卡  177****8427  585401206734589960\n",
       "1      农业银行      2174       储蓄卡  150****4551  587694980785508360\n",
       "2    中国交通银行      4832       信用卡  185****1989  602098357531316232\n",
       "3      北京银行      5697       储蓄卡  186****1634  567205103669350408\n",
       "4      中信银行      7703       储蓄卡  158****7655  577538085852549384"
      ]
     },
     "execution_count": 25,
     "metadata": {},
     "output_type": "execute_result"
    }
   ],
   "source": [
    "import pandas as pd\n",
    "import numpy as np\n",
    "import matplotlib.pyplot as plt\n",
    "from datetime import datetime \n",
    "%matplotlib inline\n",
    "train_bankcard= pd.read_csv(r'AI_risk_train_V3.0\\train_bankcard_info.csv')\n",
    "test_bankcard= pd.read_csv(r'AI_risk_test_V3.0\\test_bankcard_info.csv')\n",
    "merge_df = pd.concat([train_bankcard,test_bankcard],axis=0)\n",
    "merge_df.head()"
   ]
  },
  {
   "cell_type": "code",
   "execution_count": 26,
   "metadata": {},
   "outputs": [
    {
     "data": {
      "text/html": [
       "<div>\n",
       "<style>\n",
       "    .dataframe thead tr:only-child th {\n",
       "        text-align: right;\n",
       "    }\n",
       "\n",
       "    .dataframe thead th {\n",
       "        text-align: left;\n",
       "    }\n",
       "\n",
       "    .dataframe tbody tr th {\n",
       "        vertical-align: top;\n",
       "    }\n",
       "</style>\n",
       "<table border=\"1\" class=\"dataframe\">\n",
       "  <thead>\n",
       "    <tr style=\"text-align: right;\">\n",
       "      <th></th>\n",
       "      <th>bank_name</th>\n",
       "      <th>tail_num</th>\n",
       "      <th>card_type</th>\n",
       "      <th>phone</th>\n",
       "      <th>id</th>\n",
       "    </tr>\n",
       "  </thead>\n",
       "  <tbody>\n",
       "    <tr>\n",
       "      <th>96139</th>\n",
       "      <td>建设银行</td>\n",
       "      <td>9635</td>\n",
       "      <td>储蓄卡</td>\n",
       "      <td>136****6697</td>\n",
       "      <td>630245723375407112</td>\n",
       "    </tr>\n",
       "    <tr>\n",
       "      <th>96140</th>\n",
       "      <td>中国交通银行</td>\n",
       "      <td>1737</td>\n",
       "      <td>信用卡</td>\n",
       "      <td>159****8582</td>\n",
       "      <td>625057981578350600</td>\n",
       "    </tr>\n",
       "    <tr>\n",
       "      <th>96141</th>\n",
       "      <td>ccb</td>\n",
       "      <td>5097</td>\n",
       "      <td>储蓄卡</td>\n",
       "      <td>135****9912</td>\n",
       "      <td>628031341115478280</td>\n",
       "    </tr>\n",
       "    <tr>\n",
       "      <th>96142</th>\n",
       "      <td>建设银行</td>\n",
       "      <td>5100</td>\n",
       "      <td>储蓄卡</td>\n",
       "      <td>135****6922</td>\n",
       "      <td>632279204599173384</td>\n",
       "    </tr>\n",
       "    <tr>\n",
       "      <th>96143</th>\n",
       "      <td>ccb</td>\n",
       "      <td>7184</td>\n",
       "      <td>信用卡</td>\n",
       "      <td>135****7233</td>\n",
       "      <td>636281816289906952</td>\n",
       "    </tr>\n",
       "    <tr>\n",
       "      <th>96144</th>\n",
       "      <td>招商银行</td>\n",
       "      <td>3010</td>\n",
       "      <td>信用卡</td>\n",
       "      <td>151****1625</td>\n",
       "      <td>623581591351857160</td>\n",
       "    </tr>\n",
       "    <tr>\n",
       "      <th>96145</th>\n",
       "      <td>工商银行</td>\n",
       "      <td>7274</td>\n",
       "      <td>储蓄卡</td>\n",
       "      <td>135****0463</td>\n",
       "      <td>630240471955804424</td>\n",
       "    </tr>\n",
       "    <tr>\n",
       "      <th>96146</th>\n",
       "      <td>农业银行</td>\n",
       "      <td>1779</td>\n",
       "      <td>储蓄卡</td>\n",
       "      <td>138****0353</td>\n",
       "      <td>634962681584947208</td>\n",
       "    </tr>\n",
       "    <tr>\n",
       "      <th>96147</th>\n",
       "      <td>建设银行</td>\n",
       "      <td>6212</td>\n",
       "      <td>储蓄卡</td>\n",
       "      <td>139****7652</td>\n",
       "      <td>628987541764182024</td>\n",
       "    </tr>\n",
       "    <tr>\n",
       "      <th>96148</th>\n",
       "      <td>建设银行</td>\n",
       "      <td>4580</td>\n",
       "      <td>储蓄卡</td>\n",
       "      <td>152****4158</td>\n",
       "      <td>638171158235058440</td>\n",
       "    </tr>\n",
       "  </tbody>\n",
       "</table>\n",
       "</div>"
      ],
      "text/plain": [
       "      bank_name  tail_num card_type        phone                  id\n",
       "96139      建设银行      9635       储蓄卡  136****6697  630245723375407112\n",
       "96140    中国交通银行      1737       信用卡  159****8582  625057981578350600\n",
       "96141       ccb      5097       储蓄卡  135****9912  628031341115478280\n",
       "96142      建设银行      5100       储蓄卡  135****6922  632279204599173384\n",
       "96143       ccb      7184       信用卡  135****7233  636281816289906952\n",
       "96144      招商银行      3010       信用卡  151****1625  623581591351857160\n",
       "96145      工商银行      7274       储蓄卡  135****0463  630240471955804424\n",
       "96146      农业银行      1779       储蓄卡  138****0353  634962681584947208\n",
       "96147      建设银行      6212       储蓄卡  139****7652  628987541764182024\n",
       "96148      建设银行      4580       储蓄卡  152****4158  638171158235058440"
      ]
     },
     "execution_count": 26,
     "metadata": {},
     "output_type": "execute_result"
    }
   ],
   "source": [
    "merge_df.tail(10)"
   ]
  },
  {
   "cell_type": "code",
   "execution_count": 27,
   "metadata": {},
   "outputs": [
    {
     "name": "stdout",
     "output_type": "stream",
     "text": [
      "<class 'pandas.core.frame.DataFrame'>\n",
      "Int64Index: 411638 entries, 0 to 96148\n",
      "Data columns (total 5 columns):\n",
      "bank_name     411331 non-null object\n",
      "tail_num      411638 non-null int64\n",
      "card_type     411638 non-null object\n",
      "id            411638 non-null object\n",
      "bank_phone    411638 non-null object\n",
      "dtypes: int64(1), object(4)\n",
      "memory usage: 18.8+ MB\n"
     ]
    }
   ],
   "source": [
    "merge_df['bank_phone'] = merge_df.phone\n",
    "merge_df.pop('phone')\n",
    "merge_df.info()"
   ]
  },
  {
   "cell_type": "markdown",
   "metadata": {},
   "source": [
    "字段名\t字段解释\n",
    "id\t申请贷款唯一编号\n",
    "bank_name\t银行名称\n",
    "tail_num\t银行卡号后四位\n",
    "card_type\t银行卡类型\n",
    "phone\t银行卡绑定手机号(脱敏)\n"
   ]
  },
  {
   "cell_type": "code",
   "execution_count": 28,
   "metadata": {},
   "outputs": [
    {
     "name": "stdout",
     "output_type": "stream",
     "text": [
      "Variable bank_name has 307 records (0.07%) with missing values\n",
      "In total, there are 1 variables with missing values\n"
     ]
    }
   ],
   "source": [
    "vars_with_missing = []\n",
    "\n",
    "for f in merge_df.columns:\n",
    "    missings = merge_df[f].isnull().sum()\n",
    "    if missings > 0:\n",
    "        vars_with_missing.append(f)\n",
    "        missings_perc = missings/merge_df.shape[0]\n",
    "        \n",
    "        print('Variable {} has {} records ({:.2%}) with missing values'.format(f, missings, missings_perc))\n",
    "\n",
    "print('In total, there are {} variables with missing values'.format(len(vars_with_missing)))"
   ]
  },
  {
   "cell_type": "code",
   "execution_count": 29,
   "metadata": {},
   "outputs": [
    {
     "name": "stdout",
     "output_type": "stream",
     "text": [
      "Variable bank_name has 196 distinct values\n",
      "Variable tail_num has 10000 distinct values\n",
      "Variable card_type has 2 distinct values\n",
      "Variable id has 167960 distinct values\n",
      "Variable bank_phone has 124952 distinct values\n"
     ]
    }
   ],
   "source": [
    "for f in merge_df.columns:\n",
    "    dist_values = merge_df[f].value_counts().shape[0]\n",
    "    print('Variable {} has {} distinct values'.format(f, dist_values)) "
   ]
  },
  {
   "cell_type": "markdown",
   "metadata": {},
   "source": [
    "添加每个id绑定的银行卡数\n",
    "==="
   ]
  },
  {
   "cell_type": "code",
   "execution_count": 30,
   "metadata": {},
   "outputs": [
    {
     "data": {
      "text/html": [
       "<div>\n",
       "<style>\n",
       "    .dataframe thead tr:only-child th {\n",
       "        text-align: right;\n",
       "    }\n",
       "\n",
       "    .dataframe thead th {\n",
       "        text-align: left;\n",
       "    }\n",
       "\n",
       "    .dataframe tbody tr th {\n",
       "        vertical-align: top;\n",
       "    }\n",
       "</style>\n",
       "<table border=\"1\" class=\"dataframe\">\n",
       "  <thead>\n",
       "    <tr style=\"text-align: right;\">\n",
       "      <th></th>\n",
       "      <th>card_counts</th>\n",
       "    </tr>\n",
       "  </thead>\n",
       "  <tbody>\n",
       "    <tr>\n",
       "      <th>count</th>\n",
       "      <td>167960.000000</td>\n",
       "    </tr>\n",
       "    <tr>\n",
       "      <th>mean</th>\n",
       "      <td>2.450810</td>\n",
       "    </tr>\n",
       "    <tr>\n",
       "      <th>std</th>\n",
       "      <td>2.364677</td>\n",
       "    </tr>\n",
       "    <tr>\n",
       "      <th>min</th>\n",
       "      <td>1.000000</td>\n",
       "    </tr>\n",
       "    <tr>\n",
       "      <th>25%</th>\n",
       "      <td>1.000000</td>\n",
       "    </tr>\n",
       "    <tr>\n",
       "      <th>50%</th>\n",
       "      <td>2.000000</td>\n",
       "    </tr>\n",
       "    <tr>\n",
       "      <th>75%</th>\n",
       "      <td>3.000000</td>\n",
       "    </tr>\n",
       "    <tr>\n",
       "      <th>max</th>\n",
       "      <td>42.000000</td>\n",
       "    </tr>\n",
       "  </tbody>\n",
       "</table>\n",
       "</div>"
      ],
      "text/plain": [
       "         card_counts\n",
       "count  167960.000000\n",
       "mean        2.450810\n",
       "std         2.364677\n",
       "min         1.000000\n",
       "25%         1.000000\n",
       "50%         2.000000\n",
       "75%         3.000000\n",
       "max        42.000000"
      ]
     },
     "execution_count": 30,
     "metadata": {},
     "output_type": "execute_result"
    }
   ],
   "source": [
    "card_counts = merge_df.id.value_counts().to_frame(name='card_counts').reset_index()\n",
    "card_counts.columns=['id','card_counts']\n",
    "card_counts.describe()"
   ]
  },
  {
   "cell_type": "code",
   "execution_count": 31,
   "metadata": {},
   "outputs": [
    {
     "data": {
      "text/html": [
       "<div>\n",
       "<style>\n",
       "    .dataframe thead tr:only-child th {\n",
       "        text-align: right;\n",
       "    }\n",
       "\n",
       "    .dataframe thead th {\n",
       "        text-align: left;\n",
       "    }\n",
       "\n",
       "    .dataframe tbody tr th {\n",
       "        vertical-align: top;\n",
       "    }\n",
       "</style>\n",
       "<table border=\"1\" class=\"dataframe\">\n",
       "  <thead>\n",
       "    <tr style=\"text-align: right;\">\n",
       "      <th></th>\n",
       "      <th>bank_phone_counts</th>\n",
       "    </tr>\n",
       "  </thead>\n",
       "  <tbody>\n",
       "    <tr>\n",
       "      <th>count</th>\n",
       "      <td>167960.000000</td>\n",
       "    </tr>\n",
       "    <tr>\n",
       "      <th>mean</th>\n",
       "      <td>1.091236</td>\n",
       "    </tr>\n",
       "    <tr>\n",
       "      <th>std</th>\n",
       "      <td>0.323524</td>\n",
       "    </tr>\n",
       "    <tr>\n",
       "      <th>min</th>\n",
       "      <td>1.000000</td>\n",
       "    </tr>\n",
       "    <tr>\n",
       "      <th>25%</th>\n",
       "      <td>1.000000</td>\n",
       "    </tr>\n",
       "    <tr>\n",
       "      <th>50%</th>\n",
       "      <td>1.000000</td>\n",
       "    </tr>\n",
       "    <tr>\n",
       "      <th>75%</th>\n",
       "      <td>1.000000</td>\n",
       "    </tr>\n",
       "    <tr>\n",
       "      <th>max</th>\n",
       "      <td>8.000000</td>\n",
       "    </tr>\n",
       "  </tbody>\n",
       "</table>\n",
       "</div>"
      ],
      "text/plain": [
       "       bank_phone_counts\n",
       "count      167960.000000\n",
       "mean            1.091236\n",
       "std             0.323524\n",
       "min             1.000000\n",
       "25%             1.000000\n",
       "50%             1.000000\n",
       "75%             1.000000\n",
       "max             8.000000"
      ]
     },
     "execution_count": 31,
     "metadata": {},
     "output_type": "execute_result"
    }
   ],
   "source": [
    "df = merge_df[['id','bank_phone']].groupby(['id'])['bank_phone'].apply(lambda x:len(set(x))).reset_index()\n",
    "df.columns=['id','bank_phone_counts']\n",
    "df.describe()"
   ]
  },
  {
   "cell_type": "code",
   "execution_count": 32,
   "metadata": {},
   "outputs": [
    {
     "name": "stdout",
     "output_type": "stream",
     "text": [
      "<class 'pandas.core.frame.DataFrame'>\n",
      "Int64Index: 167960 entries, 0 to 167959\n",
      "Data columns (total 3 columns):\n",
      "id                   167960 non-null object\n",
      "card_counts          167960 non-null int64\n",
      "bank_phone_counts    167960 non-null int64\n",
      "dtypes: int64(2), object(1)\n",
      "memory usage: 5.1+ MB\n"
     ]
    }
   ],
   "source": [
    "df = pd.merge(card_counts,df,how='right',on='id')\n",
    "df.info()"
   ]
  },
  {
   "cell_type": "code",
   "execution_count": 33,
   "metadata": {},
   "outputs": [
    {
     "data": {
      "text/html": [
       "<div>\n",
       "<style>\n",
       "    .dataframe thead tr:only-child th {\n",
       "        text-align: right;\n",
       "    }\n",
       "\n",
       "    .dataframe thead th {\n",
       "        text-align: left;\n",
       "    }\n",
       "\n",
       "    .dataframe tbody tr th {\n",
       "        vertical-align: top;\n",
       "    }\n",
       "</style>\n",
       "<table border=\"1\" class=\"dataframe\">\n",
       "  <thead>\n",
       "    <tr style=\"text-align: right;\">\n",
       "      <th></th>\n",
       "      <th>tail_num_counts</th>\n",
       "    </tr>\n",
       "  </thead>\n",
       "  <tbody>\n",
       "    <tr>\n",
       "      <th>count</th>\n",
       "      <td>167960.000000</td>\n",
       "    </tr>\n",
       "    <tr>\n",
       "      <th>mean</th>\n",
       "      <td>2.114218</td>\n",
       "    </tr>\n",
       "    <tr>\n",
       "      <th>std</th>\n",
       "      <td>1.710564</td>\n",
       "    </tr>\n",
       "    <tr>\n",
       "      <th>min</th>\n",
       "      <td>1.000000</td>\n",
       "    </tr>\n",
       "    <tr>\n",
       "      <th>25%</th>\n",
       "      <td>1.000000</td>\n",
       "    </tr>\n",
       "    <tr>\n",
       "      <th>50%</th>\n",
       "      <td>2.000000</td>\n",
       "    </tr>\n",
       "    <tr>\n",
       "      <th>75%</th>\n",
       "      <td>3.000000</td>\n",
       "    </tr>\n",
       "    <tr>\n",
       "      <th>max</th>\n",
       "      <td>33.000000</td>\n",
       "    </tr>\n",
       "  </tbody>\n",
       "</table>\n",
       "</div>"
      ],
      "text/plain": [
       "       tail_num_counts\n",
       "count    167960.000000\n",
       "mean          2.114218\n",
       "std           1.710564\n",
       "min           1.000000\n",
       "25%           1.000000\n",
       "50%           2.000000\n",
       "75%           3.000000\n",
       "max          33.000000"
      ]
     },
     "execution_count": 33,
     "metadata": {},
     "output_type": "execute_result"
    }
   ],
   "source": [
    "tail_num = merge_df[['id','tail_num']].groupby(['id'])['tail_num'].apply(lambda x:len(set(x))).reset_index()\n",
    "tail_num.columns=['id','tail_num_counts']\n",
    "tail_num.describe()"
   ]
  },
  {
   "cell_type": "code",
   "execution_count": 34,
   "metadata": {},
   "outputs": [
    {
     "name": "stdout",
     "output_type": "stream",
     "text": [
      "<class 'pandas.core.frame.DataFrame'>\n",
      "Int64Index: 167960 entries, 0 to 167959\n",
      "Data columns (total 4 columns):\n",
      "id                   167960 non-null object\n",
      "tail_num_counts      167960 non-null int64\n",
      "card_counts          167960 non-null int64\n",
      "bank_phone_counts    167960 non-null int64\n",
      "dtypes: int64(3), object(1)\n",
      "memory usage: 6.4+ MB\n"
     ]
    }
   ],
   "source": [
    "df = pd.merge(tail_num,df,how='right',on='id')\n",
    "df.info()"
   ]
  },
  {
   "cell_type": "code",
   "execution_count": 35,
   "metadata": {},
   "outputs": [
    {
     "data": {
      "text/html": [
       "<div>\n",
       "<style>\n",
       "    .dataframe thead tr:only-child th {\n",
       "        text-align: right;\n",
       "    }\n",
       "\n",
       "    .dataframe thead th {\n",
       "        text-align: left;\n",
       "    }\n",
       "\n",
       "    .dataframe tbody tr th {\n",
       "        vertical-align: top;\n",
       "    }\n",
       "</style>\n",
       "<table border=\"1\" class=\"dataframe\">\n",
       "  <thead>\n",
       "    <tr style=\"text-align: right;\">\n",
       "      <th></th>\n",
       "      <th>bank_name_counts</th>\n",
       "    </tr>\n",
       "  </thead>\n",
       "  <tbody>\n",
       "    <tr>\n",
       "      <th>count</th>\n",
       "      <td>167960.000000</td>\n",
       "    </tr>\n",
       "    <tr>\n",
       "      <th>mean</th>\n",
       "      <td>2.136366</td>\n",
       "    </tr>\n",
       "    <tr>\n",
       "      <th>std</th>\n",
       "      <td>1.822336</td>\n",
       "    </tr>\n",
       "    <tr>\n",
       "      <th>min</th>\n",
       "      <td>1.000000</td>\n",
       "    </tr>\n",
       "    <tr>\n",
       "      <th>25%</th>\n",
       "      <td>1.000000</td>\n",
       "    </tr>\n",
       "    <tr>\n",
       "      <th>50%</th>\n",
       "      <td>2.000000</td>\n",
       "    </tr>\n",
       "    <tr>\n",
       "      <th>75%</th>\n",
       "      <td>2.000000</td>\n",
       "    </tr>\n",
       "    <tr>\n",
       "      <th>max</th>\n",
       "      <td>28.000000</td>\n",
       "    </tr>\n",
       "  </tbody>\n",
       "</table>\n",
       "</div>"
      ],
      "text/plain": [
       "       bank_name_counts\n",
       "count     167960.000000\n",
       "mean           2.136366\n",
       "std            1.822336\n",
       "min            1.000000\n",
       "25%            1.000000\n",
       "50%            2.000000\n",
       "75%            2.000000\n",
       "max           28.000000"
      ]
     },
     "execution_count": 35,
     "metadata": {},
     "output_type": "execute_result"
    }
   ],
   "source": [
    "bank_name = merge_df[['id','bank_name']].groupby(['id'])['bank_name'].apply(lambda x:len(set(x))).reset_index()\n",
    "bank_name.columns=['id','bank_name_counts']\n",
    "bank_name.describe()"
   ]
  },
  {
   "cell_type": "code",
   "execution_count": 36,
   "metadata": {},
   "outputs": [
    {
     "name": "stdout",
     "output_type": "stream",
     "text": [
      "<class 'pandas.core.frame.DataFrame'>\n",
      "Int64Index: 167960 entries, 0 to 167959\n",
      "Data columns (total 5 columns):\n",
      "id                   167960 non-null object\n",
      "bank_name_counts     167960 non-null int64\n",
      "tail_num_counts      167960 non-null int64\n",
      "card_counts          167960 non-null int64\n",
      "bank_phone_counts    167960 non-null int64\n",
      "dtypes: int64(4), object(1)\n",
      "memory usage: 7.7+ MB\n"
     ]
    }
   ],
   "source": [
    "df = pd.merge(bank_name,df,how='right',on='id')\n",
    "df.info()"
   ]
  },
  {
   "cell_type": "code",
   "execution_count": 37,
   "metadata": {},
   "outputs": [
    {
     "data": {
      "text/html": [
       "<div>\n",
       "<style>\n",
       "    .dataframe thead tr:only-child th {\n",
       "        text-align: right;\n",
       "    }\n",
       "\n",
       "    .dataframe thead th {\n",
       "        text-align: left;\n",
       "    }\n",
       "\n",
       "    .dataframe tbody tr th {\n",
       "        vertical-align: top;\n",
       "    }\n",
       "</style>\n",
       "<table border=\"1\" class=\"dataframe\">\n",
       "  <thead>\n",
       "    <tr style=\"text-align: right;\">\n",
       "      <th></th>\n",
       "      <th>card_type_counts</th>\n",
       "    </tr>\n",
       "  </thead>\n",
       "  <tbody>\n",
       "    <tr>\n",
       "      <th>count</th>\n",
       "      <td>167960.000000</td>\n",
       "    </tr>\n",
       "    <tr>\n",
       "      <th>mean</th>\n",
       "      <td>1.318165</td>\n",
       "    </tr>\n",
       "    <tr>\n",
       "      <th>std</th>\n",
       "      <td>0.465765</td>\n",
       "    </tr>\n",
       "    <tr>\n",
       "      <th>min</th>\n",
       "      <td>1.000000</td>\n",
       "    </tr>\n",
       "    <tr>\n",
       "      <th>25%</th>\n",
       "      <td>1.000000</td>\n",
       "    </tr>\n",
       "    <tr>\n",
       "      <th>50%</th>\n",
       "      <td>1.000000</td>\n",
       "    </tr>\n",
       "    <tr>\n",
       "      <th>75%</th>\n",
       "      <td>2.000000</td>\n",
       "    </tr>\n",
       "    <tr>\n",
       "      <th>max</th>\n",
       "      <td>2.000000</td>\n",
       "    </tr>\n",
       "  </tbody>\n",
       "</table>\n",
       "</div>"
      ],
      "text/plain": [
       "       card_type_counts\n",
       "count     167960.000000\n",
       "mean           1.318165\n",
       "std            0.465765\n",
       "min            1.000000\n",
       "25%            1.000000\n",
       "50%            1.000000\n",
       "75%            2.000000\n",
       "max            2.000000"
      ]
     },
     "execution_count": 37,
     "metadata": {},
     "output_type": "execute_result"
    }
   ],
   "source": [
    "card_type = merge_df[['id','card_type']].groupby(['id'])['card_type'].apply(lambda x:len(set(x))).reset_index()\n",
    "card_type.columns=['id','card_type_counts']\n",
    "card_type.describe()"
   ]
  },
  {
   "cell_type": "code",
   "execution_count": 38,
   "metadata": {},
   "outputs": [
    {
     "data": {
      "text/html": [
       "<div>\n",
       "<style>\n",
       "    .dataframe thead tr:only-child th {\n",
       "        text-align: right;\n",
       "    }\n",
       "\n",
       "    .dataframe thead th {\n",
       "        text-align: left;\n",
       "    }\n",
       "\n",
       "    .dataframe tbody tr th {\n",
       "        vertical-align: top;\n",
       "    }\n",
       "</style>\n",
       "<table border=\"1\" class=\"dataframe\">\n",
       "  <thead>\n",
       "    <tr style=\"text-align: right;\">\n",
       "      <th></th>\n",
       "      <th>card_type_counts</th>\n",
       "    </tr>\n",
       "  </thead>\n",
       "  <tbody>\n",
       "    <tr>\n",
       "      <th>count</th>\n",
       "      <td>167960.000000</td>\n",
       "    </tr>\n",
       "    <tr>\n",
       "      <th>mean</th>\n",
       "      <td>0.318165</td>\n",
       "    </tr>\n",
       "    <tr>\n",
       "      <th>std</th>\n",
       "      <td>0.465765</td>\n",
       "    </tr>\n",
       "    <tr>\n",
       "      <th>min</th>\n",
       "      <td>0.000000</td>\n",
       "    </tr>\n",
       "    <tr>\n",
       "      <th>25%</th>\n",
       "      <td>0.000000</td>\n",
       "    </tr>\n",
       "    <tr>\n",
       "      <th>50%</th>\n",
       "      <td>0.000000</td>\n",
       "    </tr>\n",
       "    <tr>\n",
       "      <th>75%</th>\n",
       "      <td>1.000000</td>\n",
       "    </tr>\n",
       "    <tr>\n",
       "      <th>max</th>\n",
       "      <td>1.000000</td>\n",
       "    </tr>\n",
       "  </tbody>\n",
       "</table>\n",
       "</div>"
      ],
      "text/plain": [
       "       card_type_counts\n",
       "count     167960.000000\n",
       "mean           0.318165\n",
       "std            0.465765\n",
       "min            0.000000\n",
       "25%            0.000000\n",
       "50%            0.000000\n",
       "75%            1.000000\n",
       "max            1.000000"
      ]
     },
     "execution_count": 38,
     "metadata": {},
     "output_type": "execute_result"
    }
   ],
   "source": [
    "card_type.card_type_counts = card_type.card_type_counts.map({1:0,2:1})\n",
    "card_type.describe()"
   ]
  },
  {
   "cell_type": "code",
   "execution_count": 39,
   "metadata": {},
   "outputs": [
    {
     "name": "stdout",
     "output_type": "stream",
     "text": [
      "<class 'pandas.core.frame.DataFrame'>\n",
      "Int64Index: 167960 entries, 0 to 167959\n",
      "Data columns (total 6 columns):\n",
      "id                   167960 non-null object\n",
      "card_type_counts     167960 non-null int64\n",
      "bank_name_counts     167960 non-null int64\n",
      "tail_num_counts      167960 non-null int64\n",
      "card_counts          167960 non-null int64\n",
      "bank_phone_counts    167960 non-null int64\n",
      "dtypes: int64(5), object(1)\n",
      "memory usage: 9.0+ MB\n"
     ]
    }
   ],
   "source": [
    "df = pd.merge(card_type,df,how='right',on='id')\n",
    "df.info()"
   ]
  },
  {
   "cell_type": "code",
   "execution_count": 40,
   "metadata": {
    "scrolled": true
   },
   "outputs": [
    {
     "data": {
      "text/plain": [
       "建设银行          76406\n",
       "工商银行          57187\n",
       "农业银行          50082\n",
       "招商银行          20989\n",
       "ccb           19498\n",
       "中国银行          19190\n",
       "中信银行          16979\n",
       "中国交通银行        14996\n",
       "icbc          14711\n",
       "中国光大银行        13198\n",
       "邮政储蓄          12835\n",
       "abc           11848\n",
       "中国民生银行         9246\n",
       "平安银行           8412\n",
       "广发银行           8368\n",
       "浦发银行           7374\n",
       "cmb            5769\n",
       "citic          5358\n",
       "boc            4963\n",
       "ceb            4547\n",
       "兴业银行           4370\n",
       "bcom           3981\n",
       "post           3253\n",
       "gdb            2975\n",
       "pab            2671\n",
       "cmbc           2198\n",
       "华夏银行           2061\n",
       "spdb           2013\n",
       "cib             996\n",
       "hxb             603\n",
       "              ...  \n",
       "临商银行              2\n",
       "营口银行              2\n",
       "boyk              2\n",
       "烟台银行              2\n",
       "吴江农村商业银行          2\n",
       "zjtlcb            2\n",
       "bojl              2\n",
       "威海市商业银行           2\n",
       "东营银行              2\n",
       "wzcb              2\n",
       "郑州银行              1\n",
       "莱商银行              1\n",
       "gdnycb            1\n",
       "铁岭银行              1\n",
       "cbhb              1\n",
       "盘锦银行              1\n",
       "gzrcc             1\n",
       "平顶山银行             1\n",
       "天津滨海农村商业银行        1\n",
       "hbcl              1\n",
       "洛阳银行              1\n",
       "ksrcb             1\n",
       "hljnx             1\n",
       "zjgrcb            1\n",
       "sdeb              1\n",
       "邢台银行              1\n",
       "江苏长江银行            1\n",
       "webank            1\n",
       "jzcb              1\n",
       "botz              1\n",
       "Name: bank_name, Length: 196, dtype: int64"
      ]
     },
     "execution_count": 40,
     "metadata": {},
     "output_type": "execute_result"
    }
   ],
   "source": [
    "merge_df.bank_name.value_counts()"
   ]
  },
  {
   "cell_type": "code",
   "execution_count": 41,
   "metadata": {},
   "outputs": [
    {
     "data": {
      "text/plain": [
       "a    95904\n",
       "b    71898\n",
       "c    61930\n",
       "d    28956\n",
       "e    24163\n",
       "f    22337\n",
       "h    17745\n",
       "i    16088\n",
       "g    14996\n",
       "o    13867\n",
       "k    11343\n",
       "n     9387\n",
       "j     9246\n",
       "l     8412\n",
       "m     5366\n",
       "Name: bank_name, dtype: int64"
      ]
     },
     "execution_count": 41,
     "metadata": {},
     "output_type": "execute_result"
    }
   ],
   "source": [
    "def tranf(x):\n",
    "    x = str(x)\n",
    "    if x.startswith(('建设','ccb')):\n",
    "        x= 'a'\n",
    "    elif x.startswith(('工商','icbc')):\n",
    "        x = 'b'\n",
    "    elif x.startswith(('农业','abc')):\n",
    "        x = 'c'\n",
    "    elif x.startswith(('招商','cmb')):\n",
    "        x = 'd' \n",
    "    elif x.startswith(('中国银行','boc')):\n",
    "        x = 'e'\n",
    "    elif x.startswith(('中信银行','ccb','citic')):\n",
    "        x = 'f'\n",
    "    elif x.startswith(('中国交通','bocom')):\n",
    "        x = 'g'\n",
    "    elif x.startswith(('中国光大','ceb')):\n",
    "        x = 'h'\n",
    "    elif x.startswith(('邮政储蓄','psbc','post')):\n",
    "        x = 'i'\n",
    "    elif x.startswith(('中国民生','cmbc')):\n",
    "        x = 'j'\n",
    "    elif x.startswith(('广发','gdb')):\n",
    "        x = 'k'\n",
    "    elif x.startswith(('平安')):\n",
    "        x = 'l'\n",
    "    elif x.startswith(('兴业','cib')):\n",
    "        x = 'm'\n",
    "    elif x.startswith(('浦发','spdb')):\n",
    "        x = 'n'\n",
    "    else :\n",
    "        x ='o'\n",
    "    return x\n",
    "merge_df['bank_name'] = merge_df['bank_name'].apply(tranf)\n",
    "merge_df['bank_name'].value_counts()"
   ]
  },
  {
   "cell_type": "code",
   "execution_count": 42,
   "metadata": {},
   "outputs": [
    {
     "data": {
      "text/html": [
       "<div>\n",
       "<style>\n",
       "    .dataframe thead tr:only-child th {\n",
       "        text-align: right;\n",
       "    }\n",
       "\n",
       "    .dataframe thead th {\n",
       "        text-align: left;\n",
       "    }\n",
       "\n",
       "    .dataframe tbody tr th {\n",
       "        vertical-align: top;\n",
       "    }\n",
       "</style>\n",
       "<table border=\"1\" class=\"dataframe\">\n",
       "  <thead>\n",
       "    <tr style=\"text-align: right;\">\n",
       "      <th></th>\n",
       "      <th>bank_name</th>\n",
       "      <th>tail_num</th>\n",
       "      <th>card_type</th>\n",
       "      <th>id</th>\n",
       "      <th>bank_phone</th>\n",
       "    </tr>\n",
       "  </thead>\n",
       "  <tbody>\n",
       "    <tr>\n",
       "      <th>0</th>\n",
       "      <td>f</td>\n",
       "      <td>9753</td>\n",
       "      <td>0</td>\n",
       "      <td>585401206734589960</td>\n",
       "      <td>177****8427</td>\n",
       "    </tr>\n",
       "    <tr>\n",
       "      <th>1</th>\n",
       "      <td>c</td>\n",
       "      <td>2174</td>\n",
       "      <td>0</td>\n",
       "      <td>587694980785508360</td>\n",
       "      <td>150****4551</td>\n",
       "    </tr>\n",
       "    <tr>\n",
       "      <th>2</th>\n",
       "      <td>g</td>\n",
       "      <td>4832</td>\n",
       "      <td>1</td>\n",
       "      <td>602098357531316232</td>\n",
       "      <td>185****1989</td>\n",
       "    </tr>\n",
       "    <tr>\n",
       "      <th>3</th>\n",
       "      <td>o</td>\n",
       "      <td>5697</td>\n",
       "      <td>0</td>\n",
       "      <td>567205103669350408</td>\n",
       "      <td>186****1634</td>\n",
       "    </tr>\n",
       "    <tr>\n",
       "      <th>4</th>\n",
       "      <td>f</td>\n",
       "      <td>7703</td>\n",
       "      <td>0</td>\n",
       "      <td>577538085852549384</td>\n",
       "      <td>158****7655</td>\n",
       "    </tr>\n",
       "  </tbody>\n",
       "</table>\n",
       "</div>"
      ],
      "text/plain": [
       "  bank_name  tail_num  card_type                  id   bank_phone\n",
       "0         f      9753          0  585401206734589960  177****8427\n",
       "1         c      2174          0  587694980785508360  150****4551\n",
       "2         g      4832          1  602098357531316232  185****1989\n",
       "3         o      5697          0  567205103669350408  186****1634\n",
       "4         f      7703          0  577538085852549384  158****7655"
      ]
     },
     "execution_count": 42,
     "metadata": {},
     "output_type": "execute_result"
    }
   ],
   "source": [
    "merge_df.card_type = merge_df.card_type.map({'储蓄卡':0,'信用卡':1})\n",
    "merge_df.head()"
   ]
  },
  {
   "cell_type": "code",
   "execution_count": 43,
   "metadata": {},
   "outputs": [
    {
     "name": "stdout",
     "output_type": "stream",
     "text": [
      "<class 'pandas.core.frame.DataFrame'>\n",
      "Int64Index: 167960 entries, 0 to 96148\n",
      "Data columns (total 5 columns):\n",
      "bank_name     167960 non-null object\n",
      "tail_num      167960 non-null int64\n",
      "card_type     167960 non-null int64\n",
      "id            167960 non-null object\n",
      "bank_phone    167960 non-null object\n",
      "dtypes: int64(2), object(3)\n",
      "memory usage: 7.7+ MB\n"
     ]
    }
   ],
   "source": [
    "merge_df_later = merge_df.groupby('id',as_index=False).tail(1)\n",
    "merge_df_later.info()"
   ]
  },
  {
   "cell_type": "code",
   "execution_count": 44,
   "metadata": {},
   "outputs": [
    {
     "name": "stdout",
     "output_type": "stream",
     "text": [
      "<class 'pandas.core.frame.DataFrame'>\n",
      "Int64Index: 167960 entries, 0 to 167959\n",
      "Data columns (total 10 columns):\n",
      "bank_name            167960 non-null object\n",
      "tail_num             167960 non-null int64\n",
      "card_type            167960 non-null int64\n",
      "id                   167960 non-null object\n",
      "bank_phone           167960 non-null object\n",
      "card_type_counts     167960 non-null int64\n",
      "bank_name_counts     167960 non-null int64\n",
      "tail_num_counts      167960 non-null int64\n",
      "card_counts          167960 non-null int64\n",
      "bank_phone_counts    167960 non-null int64\n",
      "dtypes: int64(7), object(3)\n",
      "memory usage: 14.1+ MB\n"
     ]
    }
   ],
   "source": [
    "merge_df_later = pd.merge(merge_df_later,df,how='left',on='id')\n",
    "merge_df_later.info()"
   ]
  },
  {
   "cell_type": "code",
   "execution_count": 45,
   "metadata": {},
   "outputs": [
    {
     "name": "stdout",
     "output_type": "stream",
     "text": [
      "<class 'pandas.core.frame.DataFrame'>\n",
      "Int64Index: 167960 entries, 0 to 167959\n",
      "Data columns (total 23 columns):\n",
      "tail_num             167960 non-null int64\n",
      "card_type            167960 non-null int64\n",
      "id                   167960 non-null object\n",
      "bank_phone           167960 non-null object\n",
      "card_type_counts     167960 non-null int64\n",
      "bank_name_counts     167960 non-null int64\n",
      "tail_num_counts      167960 non-null int64\n",
      "card_counts          167960 non-null int64\n",
      "bank_phone_counts    167960 non-null int64\n",
      "bank_name_b          167960 non-null uint8\n",
      "bank_name_c          167960 non-null uint8\n",
      "bank_name_d          167960 non-null uint8\n",
      "bank_name_e          167960 non-null uint8\n",
      "bank_name_f          167960 non-null uint8\n",
      "bank_name_g          167960 non-null uint8\n",
      "bank_name_h          167960 non-null uint8\n",
      "bank_name_i          167960 non-null uint8\n",
      "bank_name_j          167960 non-null uint8\n",
      "bank_name_k          167960 non-null uint8\n",
      "bank_name_l          167960 non-null uint8\n",
      "bank_name_m          167960 non-null uint8\n",
      "bank_name_n          167960 non-null uint8\n",
      "bank_name_o          167960 non-null uint8\n",
      "dtypes: int64(7), object(2), uint8(14)\n",
      "memory usage: 15.1+ MB\n"
     ]
    }
   ],
   "source": [
    "columns_object = ['bank_name']\n",
    "merge_df_later = pd.get_dummies(merge_df_later, columns=columns_object, drop_first=True)\n",
    "merge_df_later.info()"
   ]
  },
  {
   "cell_type": "code",
   "execution_count": 46,
   "metadata": {},
   "outputs": [
    {
     "name": "stdout",
     "output_type": "stream",
     "text": [
      "<class 'pandas.core.frame.DataFrame'>\n",
      "RangeIndex: 167960 entries, 0 to 167959\n",
      "Data columns (total 22 columns):\n",
      "card_type            167960 non-null int64\n",
      "id                   167960 non-null object\n",
      "bank_phone           167960 non-null object\n",
      "card_type_counts     167960 non-null int64\n",
      "bank_name_counts     167960 non-null int64\n",
      "tail_num_counts      167960 non-null int64\n",
      "card_counts          167960 non-null int64\n",
      "bank_phone_counts    167960 non-null int64\n",
      "bank_name_b          167960 non-null int64\n",
      "bank_name_c          167960 non-null int64\n",
      "bank_name_d          167960 non-null int64\n",
      "bank_name_e          167960 non-null int64\n",
      "bank_name_f          167960 non-null int64\n",
      "bank_name_g          167960 non-null int64\n",
      "bank_name_h          167960 non-null int64\n",
      "bank_name_i          167960 non-null int64\n",
      "bank_name_j          167960 non-null int64\n",
      "bank_name_k          167960 non-null int64\n",
      "bank_name_l          167960 non-null int64\n",
      "bank_name_m          167960 non-null int64\n",
      "bank_name_n          167960 non-null int64\n",
      "bank_name_o          167960 non-null int64\n",
      "dtypes: int64(20), object(2)\n",
      "memory usage: 28.2+ MB\n"
     ]
    },
    {
     "name": "stderr",
     "output_type": "stream",
     "text": [
      "E:\\soft-all\\anaconda\\lib\\site-packages\\IPython\\core\\interactiveshell.py:2717: DtypeWarning: Columns (1) have mixed types. Specify dtype option on import or set low_memory=False.\n",
      "  interactivity=interactivity, compiler=compiler, result=result)\n"
     ]
    }
   ],
   "source": [
    "merge_df_later.pop('tail_num')\n",
    "merge_df_later.to_csv(r'Datapre\\train_bankcard.csv',index=False,encoding='utf-8')\n",
    "df1 =pd.read_csv(r'Datapre\\train_bankcard.csv')\n",
    "df1.info()"
   ]
  },
  {
   "cell_type": "code",
   "execution_count": null,
   "metadata": {
    "collapsed": true
   },
   "outputs": [],
   "source": []
  },
  {
   "cell_type": "code",
   "execution_count": null,
   "metadata": {
    "collapsed": true
   },
   "outputs": [],
   "source": []
  }
 ],
 "metadata": {
  "kernelspec": {
   "display_name": "Python 3",
   "language": "python",
   "name": "python3"
  },
  "language_info": {
   "codemirror_mode": {
    "name": "ipython",
    "version": 3
   },
   "file_extension": ".py",
   "mimetype": "text/x-python",
   "name": "python",
   "nbconvert_exporter": "python",
   "pygments_lexer": "ipython3",
   "version": "3.6.3rc1"
  }
 },
 "nbformat": 4,
 "nbformat_minor": 2
}
