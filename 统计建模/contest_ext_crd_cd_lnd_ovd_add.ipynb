{
 "cells": [
  {
   "cell_type": "code",
   "execution_count": 14,
   "metadata": {},
   "outputs": [],
   "source": [
    "#coding=utf-8\n",
    "import numpy as np\n",
    "import pandas as pd\n",
    "from scipy.stats import mode\n",
    "import xgboost as xgb\n",
    "from xgboost import XGBRegressor\n",
    "from xgboost import XGBClassifier\n",
    "from sklearn.metrics import mean_squared_error,roc_auc_score\n",
    "from sklearn.model_selection import GridSearchCV\n",
    "from sklearn.model_selection import KFold\n",
    "from matplotlib import  pyplot\n",
    "import matplotlib.pyplot as plt\n",
    "import seaborn as sns\n",
    "from sklearn.ensemble import RandomForestRegressor,RandomForestClassifier\n",
    "from sklearn import preprocessing  \n",
    "min_max_scaler = preprocessing.MinMaxScaler()  \n",
    "from sklearn.model_selection import KFold,StratifiedKFold\n",
    "from sklearn.model_selection import train_test_split"
   ]
  },
  {
   "cell_type": "code",
   "execution_count": 15,
   "metadata": {
    "scrolled": true
   },
   "outputs": [
    {
     "name": "stdout",
     "output_type": "stream",
     "text": [
      "(199644, 3)\n",
      "Index(['REPORT_ID', 'LAST_MONTHS', 'AMOUNT'], dtype='object')\n"
     ]
    },
    {
     "data": {
      "text/html": [
       "<div>\n",
       "<style scoped>\n",
       "    .dataframe tbody tr th:only-of-type {\n",
       "        vertical-align: middle;\n",
       "    }\n",
       "\n",
       "    .dataframe tbody tr th {\n",
       "        vertical-align: top;\n",
       "    }\n",
       "\n",
       "    .dataframe thead th {\n",
       "        text-align: right;\n",
       "    }\n",
       "</style>\n",
       "<table border=\"1\" class=\"dataframe\">\n",
       "  <thead>\n",
       "    <tr style=\"text-align: right;\">\n",
       "      <th></th>\n",
       "      <th>REPORT_ID</th>\n",
       "      <th>LAST_MONTHS</th>\n",
       "      <th>AMOUNT</th>\n",
       "    </tr>\n",
       "  </thead>\n",
       "  <tbody>\n",
       "    <tr>\n",
       "      <th>0</th>\n",
       "      <td>24820</td>\n",
       "      <td>1.0</td>\n",
       "      <td>440.0</td>\n",
       "    </tr>\n",
       "    <tr>\n",
       "      <th>1</th>\n",
       "      <td>24820</td>\n",
       "      <td>1.0</td>\n",
       "      <td>95.0</td>\n",
       "    </tr>\n",
       "    <tr>\n",
       "      <th>2</th>\n",
       "      <td>54038</td>\n",
       "      <td>1.0</td>\n",
       "      <td>10.0</td>\n",
       "    </tr>\n",
       "    <tr>\n",
       "      <th>3</th>\n",
       "      <td>54038</td>\n",
       "      <td>1.0</td>\n",
       "      <td>671.0</td>\n",
       "    </tr>\n",
       "    <tr>\n",
       "      <th>4</th>\n",
       "      <td>88203</td>\n",
       "      <td>1.0</td>\n",
       "      <td>1321.0</td>\n",
       "    </tr>\n",
       "  </tbody>\n",
       "</table>\n",
       "</div>"
      ],
      "text/plain": [
       "   REPORT_ID  LAST_MONTHS  AMOUNT\n",
       "0      24820          1.0   440.0\n",
       "1      24820          1.0    95.0\n",
       "2      54038          1.0    10.0\n",
       "3      54038          1.0   671.0\n",
       "4      88203          1.0  1321.0"
      ]
     },
     "execution_count": 15,
     "metadata": {},
     "output_type": "execute_result"
    }
   ],
   "source": [
    "data = pd.read_csv(\"../inputnew/contest_ext_crd_cd_lnd_ovd.csv\")\n",
    "print(data.shape)\n",
    "print(data.columns)\n",
    "data.head()"
   ]
  },
  {
   "cell_type": "code",
   "execution_count": 16,
   "metadata": {},
   "outputs": [
    {
     "data": {
      "text/plain": [
       "1.0    147563\n",
       "2.0     24415\n",
       "7.0     10061\n",
       "3.0      8678\n",
       "4.0      4309\n",
       "5.0      2691\n",
       "6.0      1927\n",
       "Name: LAST_MONTHS, dtype: int64"
      ]
     },
     "execution_count": 16,
     "metadata": {},
     "output_type": "execute_result"
    }
   ],
   "source": [
    "data.LAST_MONTHS.value_counts()"
   ]
  },
  {
   "cell_type": "code",
   "execution_count": 17,
   "metadata": {},
   "outputs": [],
   "source": [
    "def groupDeal(group):\n",
    "    # print(group)\n",
    "    LAST_MONTHS_max = group.LAST_MONTHS.max()\n",
    "    LAST_MONTHS_min = group.LAST_MONTHS.min()\n",
    "    LAST_MONTHS_mean = round(group.LAST_MONTHS.mean())\n",
    "    LAST_MONTHS_zongshu = group.LAST_MONTHS.value_counts().iloc[0]\n",
    "    LAST_MONTHS_num = group.LAST_MONTHS.shape[0]\n",
    "\n",
    "    AMOUNT_max = group.AMOUNT.max()\n",
    "    AMOUNT_min = group.AMOUNT.min()\n",
    "    AMOUNT_mean = group.AMOUNT.mean()\n",
    "    AMOUNT_zongshu = group.AMOUNT.value_counts().iloc[0]\n",
    "    AMOUNT_num = group.AMOUNT.shape[0]\n",
    "\n",
    "\n",
    "    indexs = {\n",
    "        \"REPORT_ID\":int(group.REPORT_ID.iloc[0]),\n",
    "        \n",
    "        \"LAST_MONTHS_max\": LAST_MONTHS_max,\n",
    "        \"LAST_MONTHS_min\": LAST_MONTHS_min,\n",
    "        \"LAST_MONTHS_mean\": LAST_MONTHS_mean,\n",
    "        \"LAST_MONTHS_zongshu\": LAST_MONTHS_zongshu,\n",
    "        \"LAST_MONTHS_num\": LAST_MONTHS_num,\n",
    "\n",
    "        \"AMOUNT_max\": AMOUNT_max,\n",
    "        \"AMOUNT_min\": AMOUNT_min,\n",
    "        \"AMOUNT_mean\": AMOUNT_mean,\n",
    "        \"AMOUNTt_zongshu\": AMOUNT_zongshu,\n",
    "        \"AMOUNT_num\": AMOUNT_num,\n",
    "    }\n",
    "    return pd.Series(data=[indexs[c] for c in indexs], index=[c for c in indexs])"
   ]
  },
  {
   "cell_type": "code",
   "execution_count": 19,
   "metadata": {},
   "outputs": [],
   "source": [
    "# tmp1 = data.iloc[0:30,:].groupby(by=['REPORT_ID']).apply(groupDeal)\n",
    "tmp1 = data.groupby(by=['REPORT_ID']).apply(groupDeal)\n",
    "# tmp1\n",
    "tmp1.to_csv(\"../add/willnorm/contest_ext_crd_cd_lnd_ovdRaw.csv\",index = False)"
   ]
  },
  {
   "cell_type": "code",
   "execution_count": 20,
   "metadata": {},
   "outputs": [
    {
     "name": "stdout",
     "output_type": "stream",
     "text": [
      "(16429, 11)\n",
      "Index(['REPORT_ID', 'LAST_MONTHS_max', 'LAST_MONTHS_min', 'LAST_MONTHS_mean',\n",
      "       'LAST_MONTHS_zongshu', 'LAST_MONTHS_num', 'AMOUNT_max', 'AMOUNT_min',\n",
      "       'AMOUNT_mean', 'AMOUNTt_zongshu', 'AMOUNT_num'],\n",
      "      dtype='object')\n"
     ]
    },
    {
     "data": {
      "text/html": [
       "<div>\n",
       "<style scoped>\n",
       "    .dataframe tbody tr th:only-of-type {\n",
       "        vertical-align: middle;\n",
       "    }\n",
       "\n",
       "    .dataframe tbody tr th {\n",
       "        vertical-align: top;\n",
       "    }\n",
       "\n",
       "    .dataframe thead th {\n",
       "        text-align: right;\n",
       "    }\n",
       "</style>\n",
       "<table border=\"1\" class=\"dataframe\">\n",
       "  <thead>\n",
       "    <tr style=\"text-align: right;\">\n",
       "      <th></th>\n",
       "      <th>REPORT_ID</th>\n",
       "      <th>LAST_MONTHS_max</th>\n",
       "      <th>LAST_MONTHS_min</th>\n",
       "      <th>LAST_MONTHS_mean</th>\n",
       "      <th>LAST_MONTHS_zongshu</th>\n",
       "      <th>LAST_MONTHS_num</th>\n",
       "      <th>AMOUNT_max</th>\n",
       "      <th>AMOUNT_min</th>\n",
       "      <th>AMOUNT_mean</th>\n",
       "      <th>AMOUNTt_zongshu</th>\n",
       "      <th>AMOUNT_num</th>\n",
       "    </tr>\n",
       "  </thead>\n",
       "  <tbody>\n",
       "    <tr>\n",
       "      <th>0</th>\n",
       "      <td>24820.0</td>\n",
       "      <td>1.0</td>\n",
       "      <td>1.0</td>\n",
       "      <td>1.0</td>\n",
       "      <td>2.0</td>\n",
       "      <td>2.0</td>\n",
       "      <td>440.0</td>\n",
       "      <td>95.0</td>\n",
       "      <td>267.500000</td>\n",
       "      <td>1.0</td>\n",
       "      <td>2.0</td>\n",
       "    </tr>\n",
       "    <tr>\n",
       "      <th>1</th>\n",
       "      <td>54038.0</td>\n",
       "      <td>1.0</td>\n",
       "      <td>1.0</td>\n",
       "      <td>1.0</td>\n",
       "      <td>2.0</td>\n",
       "      <td>2.0</td>\n",
       "      <td>671.0</td>\n",
       "      <td>10.0</td>\n",
       "      <td>340.500000</td>\n",
       "      <td>1.0</td>\n",
       "      <td>2.0</td>\n",
       "    </tr>\n",
       "    <tr>\n",
       "      <th>2</th>\n",
       "      <td>88203.0</td>\n",
       "      <td>2.0</td>\n",
       "      <td>1.0</td>\n",
       "      <td>1.0</td>\n",
       "      <td>9.0</td>\n",
       "      <td>10.0</td>\n",
       "      <td>1321.0</td>\n",
       "      <td>16.0</td>\n",
       "      <td>473.900000</td>\n",
       "      <td>1.0</td>\n",
       "      <td>10.0</td>\n",
       "    </tr>\n",
       "    <tr>\n",
       "      <th>3</th>\n",
       "      <td>125045.0</td>\n",
       "      <td>1.0</td>\n",
       "      <td>1.0</td>\n",
       "      <td>1.0</td>\n",
       "      <td>6.0</td>\n",
       "      <td>6.0</td>\n",
       "      <td>2526.0</td>\n",
       "      <td>39.0</td>\n",
       "      <td>1078.666667</td>\n",
       "      <td>2.0</td>\n",
       "      <td>6.0</td>\n",
       "    </tr>\n",
       "    <tr>\n",
       "      <th>4</th>\n",
       "      <td>128445.0</td>\n",
       "      <td>1.0</td>\n",
       "      <td>1.0</td>\n",
       "      <td>1.0</td>\n",
       "      <td>2.0</td>\n",
       "      <td>2.0</td>\n",
       "      <td>957.0</td>\n",
       "      <td>141.0</td>\n",
       "      <td>549.000000</td>\n",
       "      <td>1.0</td>\n",
       "      <td>2.0</td>\n",
       "    </tr>\n",
       "  </tbody>\n",
       "</table>\n",
       "</div>"
      ],
      "text/plain": [
       "   REPORT_ID  LAST_MONTHS_max  LAST_MONTHS_min  LAST_MONTHS_mean  \\\n",
       "0    24820.0              1.0              1.0               1.0   \n",
       "1    54038.0              1.0              1.0               1.0   \n",
       "2    88203.0              2.0              1.0               1.0   \n",
       "3   125045.0              1.0              1.0               1.0   \n",
       "4   128445.0              1.0              1.0               1.0   \n",
       "\n",
       "   LAST_MONTHS_zongshu  LAST_MONTHS_num  AMOUNT_max  AMOUNT_min  AMOUNT_mean  \\\n",
       "0                  2.0              2.0       440.0        95.0   267.500000   \n",
       "1                  2.0              2.0       671.0        10.0   340.500000   \n",
       "2                  9.0             10.0      1321.0        16.0   473.900000   \n",
       "3                  6.0              6.0      2526.0        39.0  1078.666667   \n",
       "4                  2.0              2.0       957.0       141.0   549.000000   \n",
       "\n",
       "   AMOUNTt_zongshu  AMOUNT_num  \n",
       "0              1.0         2.0  \n",
       "1              1.0         2.0  \n",
       "2              1.0        10.0  \n",
       "3              2.0         6.0  \n",
       "4              1.0         2.0  "
      ]
     },
     "execution_count": 20,
     "metadata": {},
     "output_type": "execute_result"
    }
   ],
   "source": [
    "data = pd.read_csv(\"../add/willnorm/contest_ext_crd_cd_lnd_ovdRaw.csv\")\n",
    "print(data.shape)\n",
    "print(data.columns)\n",
    "data.head()"
   ]
  },
  {
   "cell_type": "code",
   "execution_count": 21,
   "metadata": {},
   "outputs": [
    {
     "data": {
      "text/html": [
       "<div>\n",
       "<style scoped>\n",
       "    .dataframe tbody tr th:only-of-type {\n",
       "        vertical-align: middle;\n",
       "    }\n",
       "\n",
       "    .dataframe tbody tr th {\n",
       "        vertical-align: top;\n",
       "    }\n",
       "\n",
       "    .dataframe thead th {\n",
       "        text-align: right;\n",
       "    }\n",
       "</style>\n",
       "<table border=\"1\" class=\"dataframe\">\n",
       "  <thead>\n",
       "    <tr style=\"text-align: right;\">\n",
       "      <th></th>\n",
       "      <th>REPORT_ID</th>\n",
       "      <th>LAST_MONTHS_max</th>\n",
       "      <th>LAST_MONTHS_min</th>\n",
       "      <th>LAST_MONTHS_mean</th>\n",
       "      <th>LAST_MONTHS_zongshu</th>\n",
       "      <th>LAST_MONTHS_num</th>\n",
       "      <th>AMOUNT_max</th>\n",
       "      <th>AMOUNT_min</th>\n",
       "      <th>AMOUNT_mean</th>\n",
       "      <th>AMOUNTt_zongshu</th>\n",
       "      <th>AMOUNT_num</th>\n",
       "    </tr>\n",
       "  </thead>\n",
       "  <tbody>\n",
       "    <tr>\n",
       "      <th>0</th>\n",
       "      <td>24820.0</td>\n",
       "      <td>0.000000</td>\n",
       "      <td>0.0</td>\n",
       "      <td>0.0</td>\n",
       "      <td>0.008929</td>\n",
       "      <td>0.000000</td>\n",
       "      <td>0.001088</td>\n",
       "      <td>0.000960</td>\n",
       "      <td>0.001403</td>\n",
       "      <td>0.000000</td>\n",
       "      <td>0.000000</td>\n",
       "    </tr>\n",
       "    <tr>\n",
       "      <th>1</th>\n",
       "      <td>54038.0</td>\n",
       "      <td>0.000000</td>\n",
       "      <td>0.0</td>\n",
       "      <td>0.0</td>\n",
       "      <td>0.008929</td>\n",
       "      <td>0.000000</td>\n",
       "      <td>0.001660</td>\n",
       "      <td>0.000101</td>\n",
       "      <td>0.001787</td>\n",
       "      <td>0.000000</td>\n",
       "      <td>0.000000</td>\n",
       "    </tr>\n",
       "    <tr>\n",
       "      <th>2</th>\n",
       "      <td>88203.0</td>\n",
       "      <td>0.166667</td>\n",
       "      <td>0.0</td>\n",
       "      <td>0.0</td>\n",
       "      <td>0.071429</td>\n",
       "      <td>0.049383</td>\n",
       "      <td>0.003270</td>\n",
       "      <td>0.000162</td>\n",
       "      <td>0.002490</td>\n",
       "      <td>0.000000</td>\n",
       "      <td>0.049383</td>\n",
       "    </tr>\n",
       "    <tr>\n",
       "      <th>3</th>\n",
       "      <td>125045.0</td>\n",
       "      <td>0.000000</td>\n",
       "      <td>0.0</td>\n",
       "      <td>0.0</td>\n",
       "      <td>0.044643</td>\n",
       "      <td>0.024691</td>\n",
       "      <td>0.006255</td>\n",
       "      <td>0.000394</td>\n",
       "      <td>0.005674</td>\n",
       "      <td>0.027027</td>\n",
       "      <td>0.024691</td>\n",
       "    </tr>\n",
       "    <tr>\n",
       "      <th>4</th>\n",
       "      <td>128445.0</td>\n",
       "      <td>0.000000</td>\n",
       "      <td>0.0</td>\n",
       "      <td>0.0</td>\n",
       "      <td>0.008929</td>\n",
       "      <td>0.000000</td>\n",
       "      <td>0.002368</td>\n",
       "      <td>0.001424</td>\n",
       "      <td>0.002885</td>\n",
       "      <td>0.000000</td>\n",
       "      <td>0.000000</td>\n",
       "    </tr>\n",
       "  </tbody>\n",
       "</table>\n",
       "</div>"
      ],
      "text/plain": [
       "   REPORT_ID  LAST_MONTHS_max  LAST_MONTHS_min  LAST_MONTHS_mean  \\\n",
       "0    24820.0         0.000000              0.0               0.0   \n",
       "1    54038.0         0.000000              0.0               0.0   \n",
       "2    88203.0         0.166667              0.0               0.0   \n",
       "3   125045.0         0.000000              0.0               0.0   \n",
       "4   128445.0         0.000000              0.0               0.0   \n",
       "\n",
       "   LAST_MONTHS_zongshu  LAST_MONTHS_num  AMOUNT_max  AMOUNT_min  AMOUNT_mean  \\\n",
       "0             0.008929         0.000000    0.001088    0.000960     0.001403   \n",
       "1             0.008929         0.000000    0.001660    0.000101     0.001787   \n",
       "2             0.071429         0.049383    0.003270    0.000162     0.002490   \n",
       "3             0.044643         0.024691    0.006255    0.000394     0.005674   \n",
       "4             0.008929         0.000000    0.002368    0.001424     0.002885   \n",
       "\n",
       "   AMOUNTt_zongshu  AMOUNT_num  \n",
       "0         0.000000    0.000000  \n",
       "1         0.000000    0.000000  \n",
       "2         0.000000    0.049383  \n",
       "3         0.027027    0.024691  \n",
       "4         0.000000    0.000000  "
      ]
     },
     "execution_count": 21,
     "metadata": {},
     "output_type": "execute_result"
    }
   ],
   "source": [
    "label = data.iloc[:,1:].columns\n",
    "# print(label)\n",
    "number = data.iloc[:,1:]\n",
    "kk = min_max_scaler.fit_transform(number)  \n",
    "numbernew = pd.DataFrame(kk,columns = label)\n",
    "numbernew.head()\n",
    "fulldata = pd.concat([data.REPORT_ID,numbernew],axis = 1)\n",
    "fulldata.head()"
   ]
  },
  {
   "cell_type": "code",
   "execution_count": 22,
   "metadata": {},
   "outputs": [
    {
     "name": "stdout",
     "output_type": "stream",
     "text": [
      "  REPORT_ID  LAST_MONTHS_max  LAST_MONTHS_min  LAST_MONTHS_mean  \\\n",
      "0     24820         0.000000              0.0               0.0   \n",
      "1     54038         0.000000              0.0               0.0   \n",
      "2     88203         0.166667              0.0               0.0   \n",
      "3    125045         0.000000              0.0               0.0   \n",
      "4    128445         0.000000              0.0               0.0   \n",
      "\n",
      "   LAST_MONTHS_zongshu  LAST_MONTHS_num  AMOUNT_max  AMOUNT_min  AMOUNT_mean  \\\n",
      "0             0.008929         0.000000    0.001088    0.000960     0.001403   \n",
      "1             0.008929         0.000000    0.001660    0.000101     0.001787   \n",
      "2             0.071429         0.049383    0.003270    0.000162     0.002490   \n",
      "3             0.044643         0.024691    0.006255    0.000394     0.005674   \n",
      "4             0.008929         0.000000    0.002368    0.001424     0.002885   \n",
      "\n",
      "   AMOUNTt_zongshu  AMOUNT_num  Y  \n",
      "0         0.000000    0.000000  1  \n",
      "1         0.000000    0.000000  0  \n",
      "2         0.000000    0.049383  0  \n",
      "3         0.027027    0.024691  0  \n",
      "4         0.000000    0.000000  0  \n",
      "(12760, 12)\n"
     ]
    }
   ],
   "source": [
    "#删掉一些维度\n",
    "train = pd.read_csv(\"../input/contest_basic_train.tsv\",sep='\\t')\n",
    "mm = pd.concat([train.REPORT_ID,train.Y],axis = 1)\n",
    "ceshidata = fulldata.merge(mm,how = 'inner',left_on = 'REPORT_ID',right_on = 'REPORT_ID') \n",
    "print(ceshidata.head())\n",
    "print(ceshidata.shape)"
   ]
  },
  {
   "cell_type": "code",
   "execution_count": 23,
   "metadata": {},
   "outputs": [
    {
     "data": {
      "text/plain": [
       "0    12112\n",
       "1      648\n",
       "Name: Y, dtype: int64"
      ]
     },
     "execution_count": 23,
     "metadata": {},
     "output_type": "execute_result"
    }
   ],
   "source": [
    "ceshidata.Y.value_counts()"
   ]
  },
  {
   "cell_type": "code",
   "execution_count": 8,
   "metadata": {},
   "outputs": [],
   "source": [
    "# from imblearn.over_sampling import SMOTE, ADASYN\n",
    "# X_resampled, y_resampled = SMOTE(kind='borderline1').fit_sample(ceshidata.iloc[:,1:-1], ceshidata.iloc[:,-1])"
   ]
  },
  {
   "cell_type": "code",
   "execution_count": 24,
   "metadata": {},
   "outputs": [
    {
     "name": "stdout",
     "output_type": "stream",
     "text": [
      "(8932, 10)\n",
      "(8932,)\n",
      "(3828, 10)\n",
      "(3828,)\n"
     ]
    }
   ],
   "source": [
    "\n",
    "# print(X_resampled[0:10,:])\n",
    "# print(X_resampled.shape)\n",
    "# print(y_resampled[0:10])\n",
    "# print(y_resampled.shape)\n",
    "# pd.Series(y_resampled).value_counts()\n",
    "# x_train,x_valid,y_train, y_valid= train_test_split(X_resampled,y_resampled,test_size = 0.3)\n",
    "x_train,x_valid,y_train, y_valid= train_test_split(ceshidata.iloc[:,1:-1],ceshidata.iloc[:,-1],test_size = 0.3)\n",
    "print(x_train.shape)\n",
    "print(y_train.shape)\n",
    "print(x_valid.shape)\n",
    "print(y_valid.shape)"
   ]
  },
  {
   "cell_type": "code",
   "execution_count": 32,
   "metadata": {},
   "outputs": [
    {
     "data": {
      "text/plain": [
       "0    6454\n",
       "1     339\n",
       "Name: Y, dtype: int64"
      ]
     },
     "execution_count": 32,
     "metadata": {},
     "output_type": "execute_result"
    }
   ],
   "source": [
    "pd.Series(y_train).value_counts()"
   ]
  },
  {
   "cell_type": "code",
   "execution_count": 25,
   "metadata": {},
   "outputs": [
    {
     "data": {
      "text/html": [
       "<div>\n",
       "<style scoped>\n",
       "    .dataframe tbody tr th:only-of-type {\n",
       "        vertical-align: middle;\n",
       "    }\n",
       "\n",
       "    .dataframe tbody tr th {\n",
       "        vertical-align: top;\n",
       "    }\n",
       "\n",
       "    .dataframe thead th {\n",
       "        text-align: right;\n",
       "    }\n",
       "</style>\n",
       "<table border=\"1\" class=\"dataframe\">\n",
       "  <thead>\n",
       "    <tr style=\"text-align: right;\">\n",
       "      <th></th>\n",
       "      <th>test-auc-mean</th>\n",
       "      <th>test-auc-std</th>\n",
       "      <th>train-auc-mean</th>\n",
       "      <th>train-auc-std</th>\n",
       "    </tr>\n",
       "  </thead>\n",
       "  <tbody>\n",
       "    <tr>\n",
       "      <th>0</th>\n",
       "      <td>0.562427</td>\n",
       "      <td>0.010375</td>\n",
       "      <td>0.564816</td>\n",
       "      <td>0.005106</td>\n",
       "    </tr>\n",
       "    <tr>\n",
       "      <th>1</th>\n",
       "      <td>0.562054</td>\n",
       "      <td>0.010627</td>\n",
       "      <td>0.566606</td>\n",
       "      <td>0.006645</td>\n",
       "    </tr>\n",
       "    <tr>\n",
       "      <th>2</th>\n",
       "      <td>0.560218</td>\n",
       "      <td>0.010842</td>\n",
       "      <td>0.578459</td>\n",
       "      <td>0.016510</td>\n",
       "    </tr>\n",
       "    <tr>\n",
       "      <th>3</th>\n",
       "      <td>0.559965</td>\n",
       "      <td>0.011100</td>\n",
       "      <td>0.578892</td>\n",
       "      <td>0.016542</td>\n",
       "    </tr>\n",
       "    <tr>\n",
       "      <th>4</th>\n",
       "      <td>0.560431</td>\n",
       "      <td>0.011150</td>\n",
       "      <td>0.581789</td>\n",
       "      <td>0.015061</td>\n",
       "    </tr>\n",
       "    <tr>\n",
       "      <th>5</th>\n",
       "      <td>0.569319</td>\n",
       "      <td>0.024718</td>\n",
       "      <td>0.615902</td>\n",
       "      <td>0.016550</td>\n",
       "    </tr>\n",
       "    <tr>\n",
       "      <th>6</th>\n",
       "      <td>0.567852</td>\n",
       "      <td>0.025820</td>\n",
       "      <td>0.632895</td>\n",
       "      <td>0.029090</td>\n",
       "    </tr>\n",
       "    <tr>\n",
       "      <th>7</th>\n",
       "      <td>0.566790</td>\n",
       "      <td>0.025594</td>\n",
       "      <td>0.639196</td>\n",
       "      <td>0.025940</td>\n",
       "    </tr>\n",
       "    <tr>\n",
       "      <th>8</th>\n",
       "      <td>0.571427</td>\n",
       "      <td>0.023118</td>\n",
       "      <td>0.649040</td>\n",
       "      <td>0.026418</td>\n",
       "    </tr>\n",
       "    <tr>\n",
       "      <th>9</th>\n",
       "      <td>0.570648</td>\n",
       "      <td>0.022742</td>\n",
       "      <td>0.668313</td>\n",
       "      <td>0.023454</td>\n",
       "    </tr>\n",
       "    <tr>\n",
       "      <th>10</th>\n",
       "      <td>0.571094</td>\n",
       "      <td>0.023250</td>\n",
       "      <td>0.677745</td>\n",
       "      <td>0.024232</td>\n",
       "    </tr>\n",
       "    <tr>\n",
       "      <th>11</th>\n",
       "      <td>0.571510</td>\n",
       "      <td>0.024029</td>\n",
       "      <td>0.683826</td>\n",
       "      <td>0.020622</td>\n",
       "    </tr>\n",
       "    <tr>\n",
       "      <th>12</th>\n",
       "      <td>0.571711</td>\n",
       "      <td>0.023070</td>\n",
       "      <td>0.688285</td>\n",
       "      <td>0.019253</td>\n",
       "    </tr>\n",
       "    <tr>\n",
       "      <th>13</th>\n",
       "      <td>0.573975</td>\n",
       "      <td>0.025551</td>\n",
       "      <td>0.695115</td>\n",
       "      <td>0.017948</td>\n",
       "    </tr>\n",
       "  </tbody>\n",
       "</table>\n",
       "</div>"
      ],
      "text/plain": [
       "    test-auc-mean  test-auc-std  train-auc-mean  train-auc-std\n",
       "0        0.562427      0.010375        0.564816       0.005106\n",
       "1        0.562054      0.010627        0.566606       0.006645\n",
       "2        0.560218      0.010842        0.578459       0.016510\n",
       "3        0.559965      0.011100        0.578892       0.016542\n",
       "4        0.560431      0.011150        0.581789       0.015061\n",
       "5        0.569319      0.024718        0.615902       0.016550\n",
       "6        0.567852      0.025820        0.632895       0.029090\n",
       "7        0.566790      0.025594        0.639196       0.025940\n",
       "8        0.571427      0.023118        0.649040       0.026418\n",
       "9        0.570648      0.022742        0.668313       0.023454\n",
       "10       0.571094      0.023250        0.677745       0.024232\n",
       "11       0.571510      0.024029        0.683826       0.020622\n",
       "12       0.571711      0.023070        0.688285       0.019253\n",
       "13       0.573975      0.025551        0.695115       0.017948"
      ]
     },
     "execution_count": 25,
     "metadata": {},
     "output_type": "execute_result"
    }
   ],
   "source": [
    "# x_train = ceshidata.iloc[0:18000,1:-1]\n",
    "# y_train = ceshidata.iloc[0:18000,-1]\n",
    "# x_valid = ceshidata.iloc[18000:,1:-1]\n",
    "# y_valid = ceshidata.iloc[18000:,-1]\n",
    "\n",
    "skf = StratifiedKFold(n_splits=5)\n",
    "xgb1 = XGBClassifier(\n",
    "        learning_rate =0.1,\n",
    "        n_estimators=1000,\n",
    "        max_depth=5,\n",
    "        min_child_weight=1,\n",
    "        gamma=0,\n",
    "        subsample=0.8,\n",
    "        colsample_bytree=0.8,\n",
    "        objective= 'binary:logistic',\n",
    "        nthread=3,\n",
    "        scale_pos_weight=1,\n",
    "        StratifiedKFold = True,\n",
    "        seed=27)\n",
    "xgb_param = xgb1.get_xgb_params()\n",
    "#构建稀疏矩阵，运行更快\n",
    "xgtrain = xgb.DMatrix(x_train, label = y_train)\n",
    "# xgtest =xgb.DMatrix(dtest[predictors].values)\n",
    "mm = xgb.cv(xgb_param, xgtrain, num_boost_round=1000, nfold=3,\n",
    "    metrics='auc', early_stopping_rounds=50)\n",
    "mm"
   ]
  },
  {
   "cell_type": "code",
   "execution_count": 26,
   "metadata": {},
   "outputs": [
    {
     "name": "stdout",
     "output_type": "stream",
     "text": [
      "(8932, 10)\n",
      "(8932,)\n",
      "(3828, 10)\n",
      "(3828,)\n"
     ]
    }
   ],
   "source": [
    "\n",
    "print(x_train.shape)\n",
    "print(y_train.shape)\n",
    "print(x_valid.shape)\n",
    "print(y_valid.shape)"
   ]
  },
  {
   "cell_type": "code",
   "execution_count": 28,
   "metadata": {},
   "outputs": [
    {
     "name": "stdout",
     "output_type": "stream",
     "text": [
      "0\n",
      "1\n",
      "2\n",
      "3\n",
      "4\n"
     ]
    }
   ],
   "source": [
    "feature = 0\n",
    "for i in range(5):\n",
    "    xgb2 = XGBClassifier(\n",
    "            learning_rate =0.1,\n",
    "            n_estimators=mm.shape[0],\n",
    "            max_depth=5,\n",
    "            min_child_weight=1,\n",
    "            gamma=0,\n",
    "            subsample=0.8,\n",
    "            colsample_bytree=0.8,\n",
    "            objective= 'binary:logistic',\n",
    "            nthread=4,\n",
    "            scale_pos_weight=1,   #15:1\n",
    "            StratifiedKFold = True,\n",
    "            seed=27)\n",
    "    xgb2.fit(x_train,y_train)\n",
    "    feature += xgb2.feature_importances_\n",
    "    print(i)\n",
    "#     pred = xgb2.predict_proba(x_valid)[:,1]\n",
    "#     print(pred)\n",
    "#     auc = roc_auc_score(y_valid, pred)  \n",
    "#     auc\n",
    "feature = feature/5"
   ]
  },
  {
   "cell_type": "code",
   "execution_count": 29,
   "metadata": {},
   "outputs": [
    {
     "data": {
      "text/plain": [
       "array([0.06857143, 0.01714286, 0.10285714, 0.02857143, 0.07428572,\n",
       "       0.33142856, 0.16      , 0.16571428, 0.04      , 0.01142857],\n",
       "      dtype=float32)"
      ]
     },
     "execution_count": 29,
     "metadata": {},
     "output_type": "execute_result"
    }
   ],
   "source": [
    "feature"
   ]
  },
  {
   "cell_type": "code",
   "execution_count": 30,
   "metadata": {},
   "outputs": [
    {
     "name": "stdout",
     "output_type": "stream",
     "text": [
      "Index(['LAST_MONTHS_max', 'LAST_MONTHS_min', 'LAST_MONTHS_mean',\n",
      "       'LAST_MONTHS_zongshu', 'LAST_MONTHS_num', 'AMOUNT_max', 'AMOUNT_min',\n",
      "       'AMOUNT_mean', 'AMOUNTt_zongshu', 'AMOUNT_num'],\n",
      "      dtype='object')\n",
      "[0.06857143 0.01714286 0.10285714 0.02857143 0.07428572 0.33142856\n",
      " 0.16       0.16571428 0.04       0.01142857]\n"
     ]
    },
    {
     "data": {
      "text/plain": [
       "(10,)"
      ]
     },
     "execution_count": 30,
     "metadata": {},
     "output_type": "execute_result"
    }
   ],
   "source": [
    "print(x_train.columns)\n",
    "print(feature[feature>0.000008])\n",
    "x_train.columns[feature>0.0000008].shape"
   ]
  },
  {
   "cell_type": "code",
   "execution_count": 31,
   "metadata": {
    "scrolled": true
   },
   "outputs": [
    {
     "data": {
      "text/html": [
       "<div>\n",
       "<style scoped>\n",
       "    .dataframe tbody tr th:only-of-type {\n",
       "        vertical-align: middle;\n",
       "    }\n",
       "\n",
       "    .dataframe tbody tr th {\n",
       "        vertical-align: top;\n",
       "    }\n",
       "\n",
       "    .dataframe thead th {\n",
       "        text-align: right;\n",
       "    }\n",
       "</style>\n",
       "<table border=\"1\" class=\"dataframe\">\n",
       "  <thead>\n",
       "    <tr style=\"text-align: right;\">\n",
       "      <th></th>\n",
       "      <th>REPORT_ID</th>\n",
       "      <th>LAST_MONTHS_max</th>\n",
       "      <th>LAST_MONTHS_min</th>\n",
       "      <th>LAST_MONTHS_mean</th>\n",
       "      <th>LAST_MONTHS_zongshu</th>\n",
       "      <th>LAST_MONTHS_num</th>\n",
       "      <th>AMOUNT_max</th>\n",
       "      <th>AMOUNT_min</th>\n",
       "      <th>AMOUNT_mean</th>\n",
       "      <th>AMOUNTt_zongshu</th>\n",
       "      <th>AMOUNT_num</th>\n",
       "    </tr>\n",
       "  </thead>\n",
       "  <tbody>\n",
       "    <tr>\n",
       "      <th>0</th>\n",
       "      <td>24820.0</td>\n",
       "      <td>0.000000</td>\n",
       "      <td>0.0</td>\n",
       "      <td>0.0</td>\n",
       "      <td>0.008929</td>\n",
       "      <td>0.000000</td>\n",
       "      <td>0.001088</td>\n",
       "      <td>0.000960</td>\n",
       "      <td>0.001403</td>\n",
       "      <td>0.000000</td>\n",
       "      <td>0.000000</td>\n",
       "    </tr>\n",
       "    <tr>\n",
       "      <th>1</th>\n",
       "      <td>54038.0</td>\n",
       "      <td>0.000000</td>\n",
       "      <td>0.0</td>\n",
       "      <td>0.0</td>\n",
       "      <td>0.008929</td>\n",
       "      <td>0.000000</td>\n",
       "      <td>0.001660</td>\n",
       "      <td>0.000101</td>\n",
       "      <td>0.001787</td>\n",
       "      <td>0.000000</td>\n",
       "      <td>0.000000</td>\n",
       "    </tr>\n",
       "    <tr>\n",
       "      <th>2</th>\n",
       "      <td>88203.0</td>\n",
       "      <td>0.166667</td>\n",
       "      <td>0.0</td>\n",
       "      <td>0.0</td>\n",
       "      <td>0.071429</td>\n",
       "      <td>0.049383</td>\n",
       "      <td>0.003270</td>\n",
       "      <td>0.000162</td>\n",
       "      <td>0.002490</td>\n",
       "      <td>0.000000</td>\n",
       "      <td>0.049383</td>\n",
       "    </tr>\n",
       "    <tr>\n",
       "      <th>3</th>\n",
       "      <td>125045.0</td>\n",
       "      <td>0.000000</td>\n",
       "      <td>0.0</td>\n",
       "      <td>0.0</td>\n",
       "      <td>0.044643</td>\n",
       "      <td>0.024691</td>\n",
       "      <td>0.006255</td>\n",
       "      <td>0.000394</td>\n",
       "      <td>0.005674</td>\n",
       "      <td>0.027027</td>\n",
       "      <td>0.024691</td>\n",
       "    </tr>\n",
       "    <tr>\n",
       "      <th>4</th>\n",
       "      <td>128445.0</td>\n",
       "      <td>0.000000</td>\n",
       "      <td>0.0</td>\n",
       "      <td>0.0</td>\n",
       "      <td>0.008929</td>\n",
       "      <td>0.000000</td>\n",
       "      <td>0.002368</td>\n",
       "      <td>0.001424</td>\n",
       "      <td>0.002885</td>\n",
       "      <td>0.000000</td>\n",
       "      <td>0.000000</td>\n",
       "    </tr>\n",
       "  </tbody>\n",
       "</table>\n",
       "</div>"
      ],
      "text/plain": [
       "   REPORT_ID  LAST_MONTHS_max  LAST_MONTHS_min  LAST_MONTHS_mean  \\\n",
       "0    24820.0         0.000000              0.0               0.0   \n",
       "1    54038.0         0.000000              0.0               0.0   \n",
       "2    88203.0         0.166667              0.0               0.0   \n",
       "3   125045.0         0.000000              0.0               0.0   \n",
       "4   128445.0         0.000000              0.0               0.0   \n",
       "\n",
       "   LAST_MONTHS_zongshu  LAST_MONTHS_num  AMOUNT_max  AMOUNT_min  AMOUNT_mean  \\\n",
       "0             0.008929         0.000000    0.001088    0.000960     0.001403   \n",
       "1             0.008929         0.000000    0.001660    0.000101     0.001787   \n",
       "2             0.071429         0.049383    0.003270    0.000162     0.002490   \n",
       "3             0.044643         0.024691    0.006255    0.000394     0.005674   \n",
       "4             0.008929         0.000000    0.002368    0.001424     0.002885   \n",
       "\n",
       "   AMOUNTt_zongshu  AMOUNT_num  \n",
       "0         0.000000    0.000000  \n",
       "1         0.000000    0.000000  \n",
       "2         0.000000    0.049383  \n",
       "3         0.027027    0.024691  \n",
       "4         0.000000    0.000000  "
      ]
     },
     "execution_count": 31,
     "metadata": {},
     "output_type": "execute_result"
    }
   ],
   "source": [
    "fulldata.head()\n",
    "fulldataok = []\n",
    "fulldataok = fulldata[x_train.columns[feature>0.0000008]]  #一定要小心是谁的ID\n",
    "fulldataok = pd.concat([fulldata.REPORT_ID,fulldataok],axis = 1)\n",
    "fulldataok.head()"
   ]
  },
  {
   "cell_type": "code",
   "execution_count": 32,
   "metadata": {},
   "outputs": [],
   "source": [
    "fulldataok.to_csv(\"../add/contest_ext_crd_cd_lnd_ovdok.csv\",index = False)"
   ]
  },
  {
   "cell_type": "code",
   "execution_count": 33,
   "metadata": {},
   "outputs": [
    {
     "data": {
      "text/plain": [
       "(16429, 11)"
      ]
     },
     "execution_count": 33,
     "metadata": {},
     "output_type": "execute_result"
    }
   ],
   "source": [
    "fulldataok.shape"
   ]
  }
 ],
 "metadata": {
  "kernelspec": {
   "display_name": "Python 3",
   "language": "python",
   "name": "python3"
  },
  "language_info": {
   "codemirror_mode": {
    "name": "ipython",
    "version": 3
   },
   "file_extension": ".py",
   "mimetype": "text/x-python",
   "name": "python",
   "nbconvert_exporter": "python",
   "pygments_lexer": "ipython3",
   "version": "3.6.3rc1"
  }
 },
 "nbformat": 4,
 "nbformat_minor": 2
}
