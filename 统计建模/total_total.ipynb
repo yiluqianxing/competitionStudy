{
 "cells": [
  {
   "cell_type": "markdown",
   "metadata": {},
   "source": [
    "## Import Libraries:"
   ]
  },
  {
   "cell_type": "code",
   "execution_count": 1,
   "metadata": {},
   "outputs": [
    {
     "name": "stderr",
     "output_type": "stream",
     "text": [
      "c:\\users\\llb\\appdata\\local\\programs\\python\\python36\\lib\\site-packages\\sklearn\\cross_validation.py:41: DeprecationWarning: This module was deprecated in version 0.18 in favor of the model_selection module into which all the refactored classes and functions are moved. Also note that the interface of the new CV iterators are different from that of this module. This module will be removed in 0.20.\n",
      "  \"This module will be removed in 0.20.\", DeprecationWarning)\n",
      "c:\\users\\llb\\appdata\\local\\programs\\python\\python36\\lib\\site-packages\\sklearn\\grid_search.py:42: DeprecationWarning: This module was deprecated in version 0.18 in favor of the model_selection module into which all the refactored classes and functions are moved. This module will be removed in 0.20.\n",
      "  DeprecationWarning)\n"
     ]
    },
    {
     "name": "stdout",
     "output_type": "stream",
     "text": [
      "llb\n"
     ]
    }
   ],
   "source": [
    "import pandas as pd\n",
    "import numpy as np\n",
    "import xgboost as xgb\n",
    "from xgboost.sklearn import XGBClassifier\n",
    "from sklearn import cross_validation, metrics\n",
    "from sklearn.grid_search import GridSearchCV\n",
    "\n",
    "import matplotlib.pylab as plt\n",
    "%matplotlib inline\n",
    "from matplotlib.pylab import rcParams\n",
    "rcParams['figure.figsize'] = 12, 4\n",
    "import numpy as np\n",
    "import pandas as pd\n",
    "from scipy.stats import mode\n",
    "import xgboost as xgb\n",
    "from xgboost import XGBRegressor,XGBClassifier\n",
    "from sklearn.metrics import mean_squared_error,roc_auc_score\n",
    "from sklearn.model_selection import GridSearchCV\n",
    "from sklearn.model_selection import KFold,StratifiedKFold\n",
    "from matplotlib import  pyplot\n",
    "import matplotlib.pyplot as plt\n",
    "import seaborn as sns\n",
    "from sklearn.ensemble import RandomForestRegressor"
   ]
  },
  {
   "cell_type": "code",
   "execution_count": 2,
   "metadata": {},
   "outputs": [
    {
     "name": "stdout",
     "output_type": "stream",
     "text": [
      "(40000, 462)\n"
     ]
    }
   ],
   "source": [
    "fulldata = pd.read_csv(\"../merge/fulltable_RandomForstRegressor_fill.csv\")   \n",
    "# fulldata = pd.read_csv(\"../merge/fulltable_No_fill.csv\")                                                                               \n",
    "print(fulldata.shape)"
   ]
  },
  {
   "cell_type": "code",
   "execution_count": 3,
   "metadata": {
    "scrolled": true
   },
   "outputs": [
    {
     "name": "stdout",
     "output_type": "stream",
     "text": [
      "AMOUNT_num                   0\n",
      "type_dw_more_4.0_x           0\n",
      "type_dw_more_10.0            0\n",
      "type_dw_more_18.0            0\n",
      "type_dw_more_19.0            0\n",
      "type_dw_more_23.0            0\n",
      "type_dw_more_28.0_x          0\n",
      "type_dw_more_31.0            0\n",
      "type_dw_more_32.0            0\n",
      "type_dw_less_1.0_x           0\n",
      "type_dw_less_2.0_x           0\n",
      "type_dw_less_4.0             0\n",
      "type_dw_less_6.0_x           0\n",
      "type_dw_less_7.0             0\n",
      "type_dw_less_9.0             0\n",
      "type_dw_less_18.0            0\n",
      "type_dw_less_21.0            0\n",
      "type_dw_less_24.0            0\n",
      "guarantee_type_more_2.0_x    0\n",
      "guarantee_type_more_4.0_x    0\n",
      "guarantee_type_more_7.0      0\n",
      "guarantee_type_more_10.0     0\n",
      "guarantee_type_more_15.0     0\n",
      "guarantee_type_more_16.0     0\n",
      "guarantee_type_more_17.0     0\n",
      "guarantee_type_more_19.0     0\n",
      "guarantee_type_more_22.0     0\n",
      "type_dw_more_6.0_x           0\n",
      "finance_org_less_2.0_x       0\n",
      "guarantee_type_less_2.0_x    0\n",
      "                            ..\n",
      "FINANCE_ORG_COUNT_zongshu    0\n",
      "guarantee_type_less_12.0     0\n",
      "guarantee_type_less_2.0_y    0\n",
      "guarantee_type_less_1.0      0\n",
      "currency_more_10.0           0\n",
      "finance_org_more_8.0         0\n",
      "finance_org_more_11.0        0\n",
      "finance_org_more_14.0        0\n",
      "finance_org_less_2.0_y       0\n",
      "finance_org_less_3.0         0\n",
      "currency_more_3.0            0\n",
      "currency_more_4.0            0\n",
      "currency_more_5.0            0\n",
      "currency_more_6.0            0\n",
      "currency_more_7.0            0\n",
      "currency_more_9.0            0\n",
      "currency_more_14.0           0\n",
      "guarantee_type_more_23.0     0\n",
      "currency_more_15.0           0\n",
      "currency_more_16.0           0\n",
      "currency_less_1.0            0\n",
      "currency_less_2.0            0\n",
      "currency_less_10.0           0\n",
      "guarantee_type_more_2.0_y    0\n",
      "guarantee_type_more_3.0      0\n",
      "guarantee_type_more_4.0_y    0\n",
      "guarantee_type_more_9.0      0\n",
      "guarantee_type_more_12.0     0\n",
      "guarantee_type_more_13.0     0\n",
      "REPORT_ID                    0\n",
      "Length: 462, dtype: int64\n"
     ]
    },
    {
     "data": {
      "text/html": [
       "<div>\n",
       "<style scoped>\n",
       "    .dataframe tbody tr th:only-of-type {\n",
       "        vertical-align: middle;\n",
       "    }\n",
       "\n",
       "    .dataframe tbody tr th {\n",
       "        vertical-align: top;\n",
       "    }\n",
       "\n",
       "    .dataframe thead th {\n",
       "        text-align: right;\n",
       "    }\n",
       "</style>\n",
       "<table border=\"1\" class=\"dataframe\">\n",
       "  <thead>\n",
       "    <tr style=\"text-align: right;\">\n",
       "      <th></th>\n",
       "      <th>REPORT_ID</th>\n",
       "      <th>AGENT_0</th>\n",
       "      <th>AGENT_1</th>\n",
       "      <th>AGENT_2</th>\n",
       "      <th>AGENT_3</th>\n",
       "      <th>AGENT_4</th>\n",
       "      <th>AGENT_5</th>\n",
       "      <th>AGENT_6</th>\n",
       "      <th>AGENT_7</th>\n",
       "      <th>AGENT_8</th>\n",
       "      <th>...</th>\n",
       "      <th>LAST_MONTHS_max</th>\n",
       "      <th>LAST_MONTHS_min</th>\n",
       "      <th>LAST_MONTHS_mean</th>\n",
       "      <th>LAST_MONTHS_zongshu</th>\n",
       "      <th>LAST_MONTHS_num</th>\n",
       "      <th>AMOUNT_max</th>\n",
       "      <th>AMOUNT_min</th>\n",
       "      <th>AMOUNT_mean</th>\n",
       "      <th>AMOUNTt_zongshu</th>\n",
       "      <th>AMOUNT_num</th>\n",
       "    </tr>\n",
       "  </thead>\n",
       "  <tbody>\n",
       "    <tr>\n",
       "      <th>0</th>\n",
       "      <td>8787</td>\n",
       "      <td>0</td>\n",
       "      <td>1</td>\n",
       "      <td>0</td>\n",
       "      <td>0</td>\n",
       "      <td>0</td>\n",
       "      <td>0</td>\n",
       "      <td>0</td>\n",
       "      <td>0</td>\n",
       "      <td>0</td>\n",
       "      <td>...</td>\n",
       "      <td>0.266667</td>\n",
       "      <td>0.0</td>\n",
       "      <td>0.15</td>\n",
       "      <td>0.019643</td>\n",
       "      <td>0.035802</td>\n",
       "      <td>0.040660</td>\n",
       "      <td>0.065798</td>\n",
       "      <td>0.050971</td>\n",
       "      <td>0.008108</td>\n",
       "      <td>0.037037</td>\n",
       "    </tr>\n",
       "    <tr>\n",
       "      <th>1</th>\n",
       "      <td>9410</td>\n",
       "      <td>0</td>\n",
       "      <td>0</td>\n",
       "      <td>0</td>\n",
       "      <td>0</td>\n",
       "      <td>0</td>\n",
       "      <td>0</td>\n",
       "      <td>0</td>\n",
       "      <td>0</td>\n",
       "      <td>0</td>\n",
       "      <td>...</td>\n",
       "      <td>0.000000</td>\n",
       "      <td>0.0</td>\n",
       "      <td>0.00</td>\n",
       "      <td>0.008929</td>\n",
       "      <td>0.000000</td>\n",
       "      <td>0.001661</td>\n",
       "      <td>0.000295</td>\n",
       "      <td>0.001959</td>\n",
       "      <td>0.005405</td>\n",
       "      <td>0.000000</td>\n",
       "    </tr>\n",
       "    <tr>\n",
       "      <th>2</th>\n",
       "      <td>22999</td>\n",
       "      <td>0</td>\n",
       "      <td>1</td>\n",
       "      <td>0</td>\n",
       "      <td>0</td>\n",
       "      <td>0</td>\n",
       "      <td>0</td>\n",
       "      <td>0</td>\n",
       "      <td>0</td>\n",
       "      <td>0</td>\n",
       "      <td>...</td>\n",
       "      <td>0.000000</td>\n",
       "      <td>0.0</td>\n",
       "      <td>0.00</td>\n",
       "      <td>0.008929</td>\n",
       "      <td>0.000000</td>\n",
       "      <td>0.001661</td>\n",
       "      <td>0.000295</td>\n",
       "      <td>0.001811</td>\n",
       "      <td>0.000000</td>\n",
       "      <td>0.000000</td>\n",
       "    </tr>\n",
       "    <tr>\n",
       "      <th>3</th>\n",
       "      <td>24820</td>\n",
       "      <td>0</td>\n",
       "      <td>1</td>\n",
       "      <td>0</td>\n",
       "      <td>0</td>\n",
       "      <td>0</td>\n",
       "      <td>0</td>\n",
       "      <td>0</td>\n",
       "      <td>0</td>\n",
       "      <td>0</td>\n",
       "      <td>...</td>\n",
       "      <td>0.000000</td>\n",
       "      <td>0.0</td>\n",
       "      <td>0.00</td>\n",
       "      <td>0.008929</td>\n",
       "      <td>0.000000</td>\n",
       "      <td>0.001088</td>\n",
       "      <td>0.000960</td>\n",
       "      <td>0.001403</td>\n",
       "      <td>0.000000</td>\n",
       "      <td>0.000000</td>\n",
       "    </tr>\n",
       "    <tr>\n",
       "      <th>4</th>\n",
       "      <td>25708</td>\n",
       "      <td>1</td>\n",
       "      <td>0</td>\n",
       "      <td>0</td>\n",
       "      <td>0</td>\n",
       "      <td>0</td>\n",
       "      <td>0</td>\n",
       "      <td>0</td>\n",
       "      <td>0</td>\n",
       "      <td>0</td>\n",
       "      <td>...</td>\n",
       "      <td>0.000000</td>\n",
       "      <td>0.0</td>\n",
       "      <td>0.00</td>\n",
       "      <td>0.017857</td>\n",
       "      <td>0.012346</td>\n",
       "      <td>0.001269</td>\n",
       "      <td>0.002420</td>\n",
       "      <td>0.002157</td>\n",
       "      <td>0.008108</td>\n",
       "      <td>0.012346</td>\n",
       "    </tr>\n",
       "  </tbody>\n",
       "</table>\n",
       "<p>5 rows × 462 columns</p>\n",
       "</div>"
      ],
      "text/plain": [
       "   REPORT_ID  AGENT_0  AGENT_1  AGENT_2  AGENT_3  AGENT_4  AGENT_5  AGENT_6  \\\n",
       "0       8787        0        1        0        0        0        0        0   \n",
       "1       9410        0        0        0        0        0        0        0   \n",
       "2      22999        0        1        0        0        0        0        0   \n",
       "3      24820        0        1        0        0        0        0        0   \n",
       "4      25708        1        0        0        0        0        0        0   \n",
       "\n",
       "   AGENT_7  AGENT_8     ...      LAST_MONTHS_max  LAST_MONTHS_min  \\\n",
       "0        0        0     ...             0.266667              0.0   \n",
       "1        0        0     ...             0.000000              0.0   \n",
       "2        0        0     ...             0.000000              0.0   \n",
       "3        0        0     ...             0.000000              0.0   \n",
       "4        0        0     ...             0.000000              0.0   \n",
       "\n",
       "   LAST_MONTHS_mean  LAST_MONTHS_zongshu  LAST_MONTHS_num  AMOUNT_max  \\\n",
       "0              0.15             0.019643         0.035802    0.040660   \n",
       "1              0.00             0.008929         0.000000    0.001661   \n",
       "2              0.00             0.008929         0.000000    0.001661   \n",
       "3              0.00             0.008929         0.000000    0.001088   \n",
       "4              0.00             0.017857         0.012346    0.001269   \n",
       "\n",
       "   AMOUNT_min  AMOUNT_mean  AMOUNTt_zongshu  AMOUNT_num  \n",
       "0    0.065798     0.050971         0.008108    0.037037  \n",
       "1    0.000295     0.001959         0.005405    0.000000  \n",
       "2    0.000295     0.001811         0.000000    0.000000  \n",
       "3    0.000960     0.001403         0.000000    0.000000  \n",
       "4    0.002420     0.002157         0.008108    0.012346  \n",
       "\n",
       "[5 rows x 462 columns]"
      ]
     },
     "execution_count": 3,
     "metadata": {},
     "output_type": "execute_result"
    }
   ],
   "source": [
    "print(fulldata.isnull().sum().sort_values(ascending = False))\n",
    "fulldata.head()\n"
   ]
  },
  {
   "cell_type": "code",
   "execution_count": 5,
   "metadata": {},
   "outputs": [
    {
     "name": "stdout",
     "output_type": "stream",
     "text": [
      "(30000, 463) (10000, 462)\n"
     ]
    },
    {
     "data": {
      "text/plain": [
       "(   REPORT_ID  Y  AGENT_0  AGENT_1  AGENT_2  AGENT_3  AGENT_4  AGENT_5  \\\n",
       " 0       8787  0        0        1        0        0        0        0   \n",
       " 1       9410  0        0        0        0        0        0        0   \n",
       " 2      22999  0        0        1        0        0        0        0   \n",
       " 3      24820  1        0        1        0        0        0        0   \n",
       " 4      25708  0        1        0        0        0        0        0   \n",
       " \n",
       "    AGENT_6  AGENT_7     ...      LAST_MONTHS_max  LAST_MONTHS_min  \\\n",
       " 0        0        0     ...             0.266667              0.0   \n",
       " 1        0        0     ...             0.000000              0.0   \n",
       " 2        0        0     ...             0.000000              0.0   \n",
       " 3        0        0     ...             0.000000              0.0   \n",
       " 4        0        0     ...             0.000000              0.0   \n",
       " \n",
       "    LAST_MONTHS_mean  LAST_MONTHS_zongshu  LAST_MONTHS_num  AMOUNT_max  \\\n",
       " 0              0.15             0.019643         0.035802    0.040660   \n",
       " 1              0.00             0.008929         0.000000    0.001661   \n",
       " 2              0.00             0.008929         0.000000    0.001661   \n",
       " 3              0.00             0.008929         0.000000    0.001088   \n",
       " 4              0.00             0.017857         0.012346    0.001269   \n",
       " \n",
       "    AMOUNT_min  AMOUNT_mean  AMOUNTt_zongshu  AMOUNT_num  \n",
       " 0    0.065798     0.050971         0.008108    0.037037  \n",
       " 1    0.000295     0.001959         0.005405    0.000000  \n",
       " 2    0.000295     0.001811         0.000000    0.000000  \n",
       " 3    0.000960     0.001403         0.000000    0.000000  \n",
       " 4    0.002420     0.002157         0.008108    0.012346  \n",
       " \n",
       " [5 rows x 463 columns],\n",
       "    REPORT_ID  AGENT_0  AGENT_1  AGENT_2  AGENT_3  AGENT_4  AGENT_5  AGENT_6  \\\n",
       " 0    7754420        1        0        0        0        0        0        0   \n",
       " 1    8709548        0        1        0        0        0        0        0   \n",
       " 2    8753538        1        0        0        0        0        0        0   \n",
       " 3    8101125        0        0        0        0        1        0        0   \n",
       " 4    8572887        1        0        0        0        0        0        0   \n",
       " \n",
       "    AGENT_7  AGENT_8     ...      LAST_MONTHS_max  LAST_MONTHS_min  \\\n",
       " 0        0        0     ...                  0.0             0.00   \n",
       " 1        0        0     ...                  0.0             0.00   \n",
       " 2        0        0     ...                  0.0             0.05   \n",
       " 3        0        0     ...                  0.3             0.00   \n",
       " 4        0        0     ...                  0.0             0.00   \n",
       " \n",
       "    LAST_MONTHS_mean  LAST_MONTHS_zongshu  LAST_MONTHS_num  AMOUNT_max  \\\n",
       " 0          0.000000             0.008929         0.000000    0.001630   \n",
       " 1          0.000000             0.012500         0.000000    0.001493   \n",
       " 2          0.000000             0.008929         0.000000    0.001661   \n",
       " 3          0.116667             0.033929         0.039506    0.033318   \n",
       " 4          0.000000             0.080357         0.049383    0.014363   \n",
       " \n",
       "    AMOUNT_min  AMOUNT_mean  AMOUNTt_zongshu  AMOUNT_num  \n",
       " 0    0.003959     0.002675         0.000000    0.000000  \n",
       " 1    0.000436     0.001835         0.000000    0.000000  \n",
       " 2    0.000295     0.001883         0.000000    0.000000  \n",
       " 3    0.003159     0.020250         0.008108    0.037037  \n",
       " 4    0.001354     0.005424         0.054054    0.049383  \n",
       " \n",
       " [5 rows x 462 columns])"
      ]
     },
     "execution_count": 5,
     "metadata": {},
     "output_type": "execute_result"
    }
   ],
   "source": [
    "\n",
    "basic_train = pd.read_csv(\"../input/contest_basic_train.tsv\",sep = '\\t')\n",
    "basic_test = pd.read_csv(\"../input/contest_basic_test.tsv\",sep = '\\t')\n",
    "\n",
    "mm = pd.concat([basic_train['REPORT_ID'],basic_train['Y']],axis = 1)\n",
    "train = mm.merge(fulldata,how = 'left',left_on = 'REPORT_ID',right_on = 'REPORT_ID')\n",
    "# print(train.isnull().sum().sort_values(ascending = False))\n",
    "\n",
    "nn = pd.DataFrame(basic_test['REPORT_ID'],columns = ['REPORT_ID'])\n",
    "test = nn.merge(fulldata,how = 'left',left_on = 'REPORT_ID',right_on = 'REPORT_ID')\n",
    "print(train.shape,test.shape)\n",
    "train.head(),test.head()"
   ]
  },
  {
   "cell_type": "code",
   "execution_count": 7,
   "metadata": {},
   "outputs": [
    {
     "name": "stdout",
     "output_type": "stream",
     "text": [
      "(30000, 461) (30000,)\n"
     ]
    },
    {
     "data": {
      "text/plain": [
       "(   AGENT_0  AGENT_1  AGENT_2  AGENT_3  AGENT_4  AGENT_5  AGENT_6  AGENT_7  \\\n",
       " 0        0        1        0        0        0        0        0        0   \n",
       " 1        0        0        0        0        0        0        0        0   \n",
       " 2        0        1        0        0        0        0        0        0   \n",
       " 3        0        1        0        0        0        0        0        0   \n",
       " 4        1        0        0        0        0        0        0        0   \n",
       " \n",
       "    AGENT_8  AGENT_9     ...      LAST_MONTHS_max  LAST_MONTHS_min  \\\n",
       " 0        0        0     ...             0.266667              0.0   \n",
       " 1        0        0     ...             0.000000              0.0   \n",
       " 2        0        0     ...             0.000000              0.0   \n",
       " 3        0        0     ...             0.000000              0.0   \n",
       " 4        0        0     ...             0.000000              0.0   \n",
       " \n",
       "    LAST_MONTHS_mean  LAST_MONTHS_zongshu  LAST_MONTHS_num  AMOUNT_max  \\\n",
       " 0              0.15             0.019643         0.035802    0.040660   \n",
       " 1              0.00             0.008929         0.000000    0.001661   \n",
       " 2              0.00             0.008929         0.000000    0.001661   \n",
       " 3              0.00             0.008929         0.000000    0.001088   \n",
       " 4              0.00             0.017857         0.012346    0.001269   \n",
       " \n",
       "    AMOUNT_min  AMOUNT_mean  AMOUNTt_zongshu  AMOUNT_num  \n",
       " 0    0.065798     0.050971         0.008108    0.037037  \n",
       " 1    0.000295     0.001959         0.005405    0.000000  \n",
       " 2    0.000295     0.001811         0.000000    0.000000  \n",
       " 3    0.000960     0.001403         0.000000    0.000000  \n",
       " 4    0.002420     0.002157         0.008108    0.012346  \n",
       " \n",
       " [5 rows x 461 columns], 0    0\n",
       " 1    0\n",
       " 2    0\n",
       " 3    1\n",
       " 4    0\n",
       " Name: Y, dtype: int64)"
      ]
     },
     "execution_count": 7,
     "metadata": {},
     "output_type": "execute_result"
    }
   ],
   "source": [
    "trainx = train.iloc[:,2:]\n",
    "trainy = train.iloc[:,1]\n",
    "print(trainx.shape,trainy.shape)\n",
    "trainx.head(),trainy.head()"
   ]
  },
  {
   "cell_type": "code",
   "execution_count": 82,
   "metadata": {
    "scrolled": false
   },
   "outputs": [
    {
     "name": "stdout",
     "output_type": "stream",
     "text": [
      "      REPORT_ID  AGENT_0  AGENT_1  AGENT_2  AGENT_3  AGENT_4  AGENT_5  \\\n",
      "0       7754420        1        0        0        0        0        0   \n",
      "1       8709548        0        1        0        0        0        0   \n",
      "2       8753538        1        0        0        0        0        0   \n",
      "3       8101125        0        0        0        0        1        0   \n",
      "4       8572887        1        0        0        0        0        0   \n",
      "5       5384111        0        1        0        0        0        0   \n",
      "6       7640038        1        0        0        0        0        0   \n",
      "7       8919014        1        0        0        0        0        0   \n",
      "8       7771552        1        0        0        0        0        0   \n",
      "9       5280496        0        0        0        0        0        0   \n",
      "10      8017557        0        0        0        0        0        0   \n",
      "11      5956992        1        0        0        0        0        0   \n",
      "12      5804272        1        0        0        0        0        0   \n",
      "13      8091223        1        0        0        0        0        0   \n",
      "14      8851105        1        0        0        0        0        0   \n",
      "15      8096376        1        0        0        0        0        0   \n",
      "16      8217459        1        0        0        0        0        0   \n",
      "17      8594389        0        0        0        0        0        0   \n",
      "18      5802321        1        0        0        0        0        0   \n",
      "19      8631876        0        1        0        0        0        0   \n",
      "20      7372534        0        1        0        0        0        0   \n",
      "21      8278977        0        0        0        0        0        0   \n",
      "22      6179025        1        0        0        0        0        0   \n",
      "23      8132720        0        1        0        0        0        0   \n",
      "24      8652946        0        1        0        0        0        0   \n",
      "25      8088864        1        0        0        0        0        0   \n",
      "26      8228600        0        1        0        0        0        0   \n",
      "27      7526800        0        0        0        0        0        0   \n",
      "28      8475262        0        1        0        0        0        0   \n",
      "29      5763226        0        1        0        0        0        0   \n",
      "...         ...      ...      ...      ...      ...      ...      ...   \n",
      "9970    8760274        0        1        0        0        0        0   \n",
      "9971    7270669        1        0        0        0        0        0   \n",
      "9972    7398533        0        1        0        0        0        0   \n",
      "9973    8486552        1        0        0        0        0        0   \n",
      "9974    8058937        1        0        0        0        0        0   \n",
      "9975    8974059        0        1        0        0        0        0   \n",
      "9976    7460936        0        1        0        0        0        0   \n",
      "9977    6208501        0        1        0        0        0        0   \n",
      "9978    8178812        1        0        0        0        0        0   \n",
      "9979    8148713        1        0        0        0        0        0   \n",
      "9980    9014648        0        1        0        0        0        0   \n",
      "9981    8429821        1        0        0        0        0        0   \n",
      "9982    8222251        0        1        0        0        0        0   \n",
      "9983    7798736        1        0        0        0        0        0   \n",
      "9984    6613927        0        1        0        0        0        0   \n",
      "9985    7380401        0        0        0        0        0        0   \n",
      "9986    5558548        0        1        0        0        0        0   \n",
      "9987    8623010        0        1        0        0        0        0   \n",
      "9988    8725591        0        1        0        0        0        0   \n",
      "9989     873467        0        1        0        0        0        0   \n",
      "9990    8011786        1        0        0        0        0        0   \n",
      "9991    7342463        0        1        0        0        0        0   \n",
      "9992    7589098        0        1        0        0        0        0   \n",
      "9993    6031605        1        0        0        0        0        0   \n",
      "9994    7724745        1        0        0        0        0        0   \n",
      "9995    8750721        1        0        0        0        0        0   \n",
      "9996    5642278        0        1        0        0        0        0   \n",
      "9997    6621224        0        1        0        0        0        0   \n",
      "9998    6160020        1        0        0        0        0        0   \n",
      "9999    7344507        1        0        0        0        0        0   \n",
      "\n",
      "      AGENT_6  AGENT_7  AGENT_8     ...      LAST_MONTHS_max  LAST_MONTHS_min  \\\n",
      "0           0        0        0     ...             0.000000         0.000000   \n",
      "1           0        0        0     ...             0.000000         0.000000   \n",
      "2           0        0        0     ...             0.000000         0.050000   \n",
      "3           0        0        0     ...             0.300000         0.000000   \n",
      "4           0        0        0     ...             0.000000         0.000000   \n",
      "5           0        0        0     ...             0.000000         0.000000   \n",
      "6           0        0        0     ...             0.000000         0.000000   \n",
      "7           0        0        0     ...             0.166667         0.000000   \n",
      "8           0        0        0     ...             0.166667         0.000000   \n",
      "9           0        0        0     ...             0.166667         0.000000   \n",
      "10          0        0        1     ...             0.000000         0.000000   \n",
      "11          0        0        0     ...             0.000000         0.000000   \n",
      "12          0        0        0     ...             0.000000         0.000000   \n",
      "13          0        0        0     ...             0.333333         0.000000   \n",
      "14          0        0        0     ...             0.000000         0.000000   \n",
      "15          0        0        0     ...             1.000000         0.000000   \n",
      "16          0        0        0     ...             0.000000         0.000000   \n",
      "17          0        0        0     ...             0.316667         0.000000   \n",
      "18          0        0        0     ...             0.333333         0.000000   \n",
      "19          0        0        0     ...             0.316667         0.000000   \n",
      "20          0        0        0     ...             0.333333         0.000000   \n",
      "21          0        0        0     ...             0.000000         0.000000   \n",
      "22          0        0        0     ...             0.166667         0.000000   \n",
      "23          0        0        0     ...             0.000000         0.000000   \n",
      "24          0        0        0     ...             0.000000         0.000000   \n",
      "25          0        0        0     ...             0.000000         0.000000   \n",
      "26          0        0        0     ...             0.000000         0.033333   \n",
      "27          0        0        0     ...             0.100000         0.000000   \n",
      "28          0        0        0     ...             0.000000         0.000000   \n",
      "29          0        0        0     ...             0.000000         0.000000   \n",
      "...       ...      ...      ...     ...                  ...              ...   \n",
      "9970        0        0        0     ...             0.150000         0.000000   \n",
      "9971        0        0        0     ...             0.066667         0.000000   \n",
      "9972        0        0        0     ...             0.000000         0.000000   \n",
      "9973        0        0        0     ...             0.000000         0.000000   \n",
      "9974        0        0        0     ...             0.000000         0.000000   \n",
      "9975        0        0        0     ...             0.166667         0.000000   \n",
      "9976        0        0        0     ...             0.000000         0.000000   \n",
      "9977        0        0        0     ...             0.000000         0.000000   \n",
      "9978        0        0        0     ...             0.500000         0.000000   \n",
      "9979        0        0        0     ...             0.283333         0.000000   \n",
      "9980        0        0        0     ...             0.000000         0.000000   \n",
      "9981        0        0        0     ...             0.000000         0.000000   \n",
      "9982        0        0        0     ...             0.000000         0.000000   \n",
      "9983        0        0        0     ...             0.000000         0.000000   \n",
      "9984        0        0        0     ...             0.000000         0.000000   \n",
      "9985        0        0        0     ...             0.000000         0.000000   \n",
      "9986        0        0        0     ...             0.000000         0.000000   \n",
      "9987        0        0        0     ...             0.000000         0.000000   \n",
      "9988        0        0        0     ...             0.083333         0.000000   \n",
      "9989        0        0        0     ...             0.633333         0.033333   \n",
      "9990        0        0        0     ...             0.000000         0.000000   \n",
      "9991        0        0        0     ...             0.000000         0.000000   \n",
      "9992        0        0        0     ...             0.000000         0.000000   \n",
      "9993        0        0        0     ...             0.000000         0.000000   \n",
      "9994        0        0        0     ...             0.166667         0.000000   \n",
      "9995        0        0        0     ...             0.000000         0.000000   \n",
      "9996        0        0        0     ...             0.166667         0.000000   \n",
      "9997        0        0        0     ...             0.666667         0.000000   \n",
      "9998        0        0        0     ...             0.000000         0.000000   \n",
      "9999        0        0        0     ...             0.433333         0.033333   \n",
      "\n",
      "      LAST_MONTHS_mean  LAST_MONTHS_zongshu  LAST_MONTHS_num  AMOUNT_max  \\\n",
      "0             0.000000             0.008929         0.000000    0.001630   \n",
      "1             0.000000             0.012500         0.000000    0.001493   \n",
      "2             0.000000             0.008929         0.000000    0.001661   \n",
      "3             0.116667             0.033929         0.039506    0.033318   \n",
      "4             0.000000             0.080357         0.049383    0.014363   \n",
      "5             0.000000             0.008929         0.000000    0.001657   \n",
      "6             0.000000             0.026786         0.012346    0.001660   \n",
      "7             0.000000             0.107143         0.111111    0.002901   \n",
      "8             0.000000             0.035714         0.024691    0.011856   \n",
      "9             0.000000             0.035714         0.024691    0.002831   \n",
      "10            0.000000             0.062500         0.037037    0.004756   \n",
      "11            0.000000             0.008929         0.000000    0.004749   \n",
      "12            0.000000             0.014286         0.012346    0.001420   \n",
      "13            0.166667             0.062500         0.086420    0.033507   \n",
      "14            0.000000             0.008929         0.000000    0.001631   \n",
      "15            1.000000             0.107143         0.074074    0.111943   \n",
      "16            0.000000             0.008929         0.000000    0.001660   \n",
      "17            0.100000             0.025893         0.029630    0.037198   \n",
      "18            0.000000             0.080357         0.061728    0.013318   \n",
      "19            0.133333             0.000000         0.000000    0.039038   \n",
      "20            0.166667             0.107143         0.123457    0.012089   \n",
      "21            0.000000             0.008929         0.000000    0.001657   \n",
      "22            0.000000             0.017857         0.012346    0.004276   \n",
      "23            0.000000             0.008929         0.000000    0.001661   \n",
      "24            0.000000             0.026786         0.012346    0.003676   \n",
      "25            0.000000             0.008929         0.000000    0.001660   \n",
      "26            0.000000             0.008929         0.000000    0.000617   \n",
      "27            0.033333             0.025893         0.024691    0.001566   \n",
      "28            0.000000             0.008929         0.000000    0.001661   \n",
      "29            0.000000             0.018750         0.012346    0.001631   \n",
      "...                ...                  ...              ...         ...   \n",
      "9970          0.083333             0.019643         0.012346    0.006648   \n",
      "9971          0.000000             0.016071         0.012346    0.001630   \n",
      "9972          0.000000             0.008929         0.000000    0.001660   \n",
      "9973          0.000000             0.008929         0.000000    0.001661   \n",
      "9974          0.000000             0.008929         0.000000    0.001596   \n",
      "9975          0.000000             0.089286         0.074074    0.012391   \n",
      "9976          0.000000             0.008929         0.000000    0.001661   \n",
      "9977          0.000000             0.028571         0.012346    0.004318   \n",
      "9978          0.166667             0.000000         0.012346    0.003758   \n",
      "9979          0.166667             0.008036         0.011111    0.018415   \n",
      "9980          0.000000             0.012500         0.000000    0.001625   \n",
      "9981          0.000000             0.008929         0.000000    0.006765   \n",
      "9982          0.000000             0.008929         0.000000    0.001657   \n",
      "9983          0.000000             0.008929         0.000000    0.007506   \n",
      "9984          0.000000             0.008929         0.000000    0.001596   \n",
      "9985          0.000000             0.008929         0.000000    0.011151   \n",
      "9986          0.000000             0.008929         0.000000    0.001657   \n",
      "9987          0.000000             0.016071         0.012346    0.009906   \n",
      "9988          0.000000             0.015179         0.012346    0.001289   \n",
      "9989          0.150000             0.241071         0.260494    0.015912   \n",
      "9990          0.000000             0.008929         0.000000    0.001702   \n",
      "9991          0.000000             0.026786         0.012346    0.003718   \n",
      "9992          0.000000             0.008929         0.000000    0.001660   \n",
      "9993          0.000000             0.021429         0.012346    0.002524   \n",
      "9994          0.000000             0.089286         0.061728    0.001660   \n",
      "9995          0.000000             0.016071         0.012346    0.002550   \n",
      "9996          0.166667             0.000000         0.000000    0.014118   \n",
      "9997          0.166667             0.044643         0.049383    0.119821   \n",
      "9998          0.000000             0.008929         0.000000    0.001657   \n",
      "9999          0.133333             0.025893         0.049383    0.133704   \n",
      "\n",
      "      AMOUNT_min  AMOUNT_mean  AMOUNTt_zongshu  AMOUNT_num  \n",
      "0       0.003959     0.002675         0.000000    0.000000  \n",
      "1       0.000436     0.001835         0.000000    0.000000  \n",
      "2       0.000295     0.001883         0.000000    0.000000  \n",
      "3       0.003159     0.020250         0.008108    0.037037  \n",
      "4       0.001354     0.005424         0.054054    0.049383  \n",
      "5       0.002902     0.002594         0.000000    0.000000  \n",
      "6       0.000111     0.000996         0.000000    0.012346  \n",
      "7       0.001202     0.003402         0.000000    0.111111  \n",
      "8       0.004960     0.011495         0.000000    0.024691  \n",
      "9       0.002697     0.003734         0.000000    0.024691  \n",
      "10      0.004405     0.005408         0.054054    0.037037  \n",
      "11      0.006779     0.006810         0.000000    0.000000  \n",
      "12      0.002537     0.002594         0.010811    0.012346  \n",
      "13      0.006779     0.037700         0.000000    0.086420  \n",
      "14      0.000295     0.001807         0.000000    0.000000  \n",
      "15      0.006779     0.197414         0.000000    0.074074  \n",
      "16      0.000263     0.001829         0.000000    0.000000  \n",
      "17      0.037426     0.036160         0.018919    0.024691  \n",
      "18      0.001081     0.006364         0.027027    0.061728  \n",
      "19      0.067046     0.052135         0.000000    0.000000  \n",
      "20      0.001667     0.010757         0.027027    0.123457  \n",
      "21      0.002902     0.002594         0.000000    0.000000  \n",
      "22      0.006779     0.005785         0.000000    0.012346  \n",
      "23      0.000295     0.001900         0.000000    0.000000  \n",
      "24      0.005021     0.004370         0.027027    0.012346  \n",
      "25      0.002273     0.002353         0.000000    0.000000  \n",
      "26      0.000295     0.000900         0.013514    0.000000  \n",
      "27      0.000216     0.001022         0.037838    0.024691  \n",
      "28      0.000295     0.001900         0.002703    0.000000  \n",
      "29      0.003413     0.002635         0.005405    0.012346  \n",
      "...          ...          ...              ...         ...  \n",
      "9970    0.005163     0.007816         0.013514    0.012346  \n",
      "9971    0.001539     0.002141         0.002703    0.012346  \n",
      "9972    0.003526     0.002680         0.000000    0.000000  \n",
      "9973    0.000295     0.001874         0.000000    0.000000  \n",
      "9974    0.004977     0.003221         0.000000    0.000000  \n",
      "9975    0.003101     0.011272         0.000000    0.074074  \n",
      "9976    0.000295     0.001811         0.000000    0.000000  \n",
      "9977    0.002925     0.004493         0.013514    0.012346  \n",
      "9978    0.004617     0.005174         0.000000    0.012346  \n",
      "9979    0.027951     0.026318         0.013514    0.012346  \n",
      "9980    0.004568     0.002812         0.000000    0.000000  \n",
      "9981    0.014244     0.010898         0.000000    0.000000  \n",
      "9982    0.002902     0.002594         0.000000    0.000000  \n",
      "9983    0.006779     0.009740         0.000000    0.000000  \n",
      "9984    0.004631     0.002812         0.000000    0.000000  \n",
      "9985    0.009526     0.013470         0.000000    0.000000  \n",
      "9986    0.002902     0.002594         0.000000    0.000000  \n",
      "9987    0.004983     0.010425         0.000000    0.012346  \n",
      "9988    0.001965     0.002040         0.013514    0.012346  \n",
      "9989    0.000547     0.009744         0.024324    0.259259  \n",
      "9990    0.006779     0.003572         0.000000    0.000000  \n",
      "9991    0.002728     0.003679         0.000000    0.012346  \n",
      "9992    0.000727     0.001951         0.000000    0.000000  \n",
      "9993    0.003677     0.003756         0.002703    0.012346  \n",
      "9994    0.000465     0.001399         0.000000    0.061728  \n",
      "9995    0.003402     0.003824         0.000000    0.012346  \n",
      "9996    0.030993     0.023075         0.000000    0.000000  \n",
      "9997    0.001465     0.090322         0.000000    0.049383  \n",
      "9998    0.004797     0.003221         0.000000    0.000000  \n",
      "9999    0.059228     0.168483         0.002703    0.049383  \n",
      "\n",
      "[10000 rows x 462 columns]\n"
     ]
    },
    {
     "data": {
      "text/plain": [
       "0    28125\n",
       "1     1875\n",
       "Name: Y, dtype: int64"
      ]
     },
     "execution_count": 82,
     "metadata": {},
     "output_type": "execute_result"
    }
   ],
   "source": [
    "print(test)\n",
    "trainy.value_counts()\n"
   ]
  },
  {
   "cell_type": "markdown",
   "metadata": {},
   "source": [
    "## Define a function for modeling and cross-validation\n",
    "1.通过XGboost 自带的XGboostcv和earning 获得所需要的树的数目\n",
    "2.其他关键参数通过 网格搜索 寻找\n",
    "http://blog.csdn.net/q383700092/article/details/53763328"
   ]
  },
  {
   "cell_type": "markdown",
   "metadata": {},
   "source": [
    "## Step 1- Find the number of estimators for a high learning rate"
   ]
  },
  {
   "cell_type": "code",
   "execution_count": 9,
   "metadata": {},
   "outputs": [
    {
     "name": "stdout",
     "output_type": "stream",
     "text": [
      "trainx.shape (30000, 461)\n",
      "trainy.shape (30000,)\n",
      "x_train.shape (24000, 461)\n",
      "x_valid.shape (6000, 461)\n",
      "y_train.shape (24000,)\n",
      "y_valid.shape (6000,)\n"
     ]
    }
   ],
   "source": [
    "print(\"trainx.shape\",trainx.shape)\n",
    "print(\"trainy.shape\",trainy.shape)\n",
    "from sklearn.cross_validation import train_test_split\n",
    "x_train,x_valid,y_train,y_valid = train_test_split(trainx,trainy,test_size = 0.2,random_state = 2)  \n",
    "print(\"x_train.shape\",x_train.shape)\n",
    "print(\"x_valid.shape\",x_valid.shape)\n",
    "print(\"y_train.shape\",y_train.shape)\n",
    "print(\"y_valid.shape\",y_valid.shape)"
   ]
  },
  {
   "cell_type": "code",
   "execution_count": 51,
   "metadata": {},
   "outputs": [
    {
     "name": "stdout",
     "output_type": "stream",
     "text": [
      "(24000, 461)\n"
     ]
    },
    {
     "data": {
      "text/html": [
       "<div>\n",
       "<style scoped>\n",
       "    .dataframe tbody tr th:only-of-type {\n",
       "        vertical-align: middle;\n",
       "    }\n",
       "\n",
       "    .dataframe tbody tr th {\n",
       "        vertical-align: top;\n",
       "    }\n",
       "\n",
       "    .dataframe thead th {\n",
       "        text-align: right;\n",
       "    }\n",
       "</style>\n",
       "<table border=\"1\" class=\"dataframe\">\n",
       "  <thead>\n",
       "    <tr style=\"text-align: right;\">\n",
       "      <th></th>\n",
       "      <th>test-auc-mean</th>\n",
       "      <th>test-auc-std</th>\n",
       "      <th>train-auc-mean</th>\n",
       "      <th>train-auc-std</th>\n",
       "    </tr>\n",
       "  </thead>\n",
       "  <tbody>\n",
       "    <tr>\n",
       "      <th>82</th>\n",
       "      <td>0.870601</td>\n",
       "      <td>0.012018</td>\n",
       "      <td>0.959068</td>\n",
       "      <td>0.001373</td>\n",
       "    </tr>\n",
       "    <tr>\n",
       "      <th>83</th>\n",
       "      <td>0.870545</td>\n",
       "      <td>0.012101</td>\n",
       "      <td>0.959745</td>\n",
       "      <td>0.001311</td>\n",
       "    </tr>\n",
       "    <tr>\n",
       "      <th>84</th>\n",
       "      <td>0.870749</td>\n",
       "      <td>0.012187</td>\n",
       "      <td>0.960312</td>\n",
       "      <td>0.001326</td>\n",
       "    </tr>\n",
       "  </tbody>\n",
       "</table>\n",
       "</div>"
      ],
      "text/plain": [
       "    test-auc-mean  test-auc-std  train-auc-mean  train-auc-std\n",
       "82       0.870601      0.012018        0.959068       0.001373\n",
       "83       0.870545      0.012101        0.959745       0.001311\n",
       "84       0.870749      0.012187        0.960312       0.001326"
      ]
     },
     "execution_count": 51,
     "metadata": {},
     "output_type": "execute_result"
    }
   ],
   "source": [
    "# x_train = trainx\n",
    "# y_train = trainy\n",
    "print(x_train.shape)\n",
    "skf = StratifiedKFold(n_splits=5)\n",
    "xgb1 = XGBClassifier(\n",
    "#         booster = 'dart',\n",
    "        learning_rate =0.1,\n",
    "        n_estimators=5000,\n",
    "        max_depth=5,\n",
    "        min_child_weight=5,\n",
    "        gamma=0.1,\n",
    "        subsample=0.8,\n",
    "        colsample_bytree=0.8,\n",
    "        objective= 'binary:logistic',\n",
    "        nthread=4,\n",
    "        scale_pos_weight=1,\n",
    "        StratifiedKFold = True,          #0.866124\t0.008005\t0.965337\t0.002286\n",
    "        seed=1)\n",
    "xgb_param = xgb1.get_xgb_params()\n",
    "#构建稀疏矩阵，运行更快\n",
    "xgtrain = xgb.DMatrix(x_train, label = y_train)\n",
    "# xgtest =xgb.DMatrix(dtest[predictors].values)   \n",
    "mm = xgb.cv(xgb_param, xgtrain, num_boost_round=1000, nfold=10,\n",
    "    metrics='auc', early_stopping_rounds=50)\n",
    "mm.iloc[-3:,:]\n",
    "#0.2比例数据用于训练： 0.867883\t0.006550\t0.957971\t0.001910   \n",
    "    #seed = 1：0.867687\t0.003652\t0.968111\t0.001480\n",
    "    #seed = 3：0.866441\t0.007777\t0.950949\t0.001576\n",
    "#全部数据用于训练     0.874547\t0.007870\t0.959760\t0.000931   5\n",
    "#全部数据用于训练     0.875289\t0.008347\t0.949510\t0.001448   10                  0.8711\n",
    "\n",
    "\n",
    "#0.874704\t0.011258\t0.978534\t0.000831   0.025  eta\n"
   ]
  },
  {
   "cell_type": "code",
   "execution_count": 11,
   "metadata": {},
   "outputs": [],
   "source": [
    "from sklearn.model_selection import cross_val_score\n",
    "from sklearn.model_selection import StratifiedKFold\n",
    "# from scikitplot import plotters as skplt\n",
    "\n",
    "from sklearn.linear_model import LogisticRegression\n",
    "from sklearn.linear_model import RidgeClassifier\n",
    "from sklearn.ensemble import RandomForestClassifier\n",
    "from sklearn.ensemble import AdaBoostClassifier\n",
    "from xgboost import XGBClassifier\n",
    "from sklearn.svm import SVC, LinearSVC\n",
    "\n",
    "cv = StratifiedKFold(n_splits=5, shuffle=True)\n",
    "\n",
    "def estimate(estimator, name='estimator'):\n",
    "    auc = cross_val_score(estimator, x_train, y_train, scoring='roc_auc', cv=cv).mean()\n",
    "    accuracy = cross_val_score(estimator, x_train, y_train, scoring='accuracy', cv=cv).mean()\n",
    "    recall = cross_val_score(estimator, x_train, y_train, scoring='recall', cv=cv).mean()\n",
    "\n",
    "    print(\"{}: auc:{:f}, recall:{:f}, accuracy:{:f}\".format(name, auc, recall, accuracy))\n",
    "    return auc"
   ]
  },
  {
   "cell_type": "raw",
   "metadata": {},
   "source": [
    "看下每个单独模型的效果如何"
   ]
  },
  {
   "cell_type": "code",
   "execution_count": 63,
   "metadata": {},
   "outputs": [
    {
     "name": "stderr",
     "output_type": "stream",
     "text": [
      "c:\\users\\llb\\appdata\\local\\programs\\python\\python36\\lib\\site-packages\\sklearn\\preprocessing\\label.py:151: DeprecationWarning: The truth value of an empty array is ambiguous. Returning False, but in future this will result in an error. Use `array.size > 0` to check that an array is not empty.\n",
      "  if diff:\n",
      "c:\\users\\llb\\appdata\\local\\programs\\python\\python36\\lib\\site-packages\\sklearn\\preprocessing\\label.py:151: DeprecationWarning: The truth value of an empty array is ambiguous. Returning False, but in future this will result in an error. Use `array.size > 0` to check that an array is not empty.\n",
      "  if diff:\n",
      "c:\\users\\llb\\appdata\\local\\programs\\python\\python36\\lib\\site-packages\\sklearn\\preprocessing\\label.py:151: DeprecationWarning: The truth value of an empty array is ambiguous. Returning False, but in future this will result in an error. Use `array.size > 0` to check that an array is not empty.\n",
      "  if diff:\n",
      "c:\\users\\llb\\appdata\\local\\programs\\python\\python36\\lib\\site-packages\\sklearn\\preprocessing\\label.py:151: DeprecationWarning: The truth value of an empty array is ambiguous. Returning False, but in future this will result in an error. Use `array.size > 0` to check that an array is not empty.\n",
      "  if diff:\n",
      "c:\\users\\llb\\appdata\\local\\programs\\python\\python36\\lib\\site-packages\\sklearn\\preprocessing\\label.py:151: DeprecationWarning: The truth value of an empty array is ambiguous. Returning False, but in future this will result in an error. Use `array.size > 0` to check that an array is not empty.\n",
      "  if diff:\n",
      "c:\\users\\llb\\appdata\\local\\programs\\python\\python36\\lib\\site-packages\\sklearn\\preprocessing\\label.py:151: DeprecationWarning: The truth value of an empty array is ambiguous. Returning False, but in future this will result in an error. Use `array.size > 0` to check that an array is not empty.\n",
      "  if diff:\n",
      "c:\\users\\llb\\appdata\\local\\programs\\python\\python36\\lib\\site-packages\\sklearn\\preprocessing\\label.py:151: DeprecationWarning: The truth value of an empty array is ambiguous. Returning False, but in future this will result in an error. Use `array.size > 0` to check that an array is not empty.\n",
      "  if diff:\n",
      "c:\\users\\llb\\appdata\\local\\programs\\python\\python36\\lib\\site-packages\\sklearn\\preprocessing\\label.py:151: DeprecationWarning: The truth value of an empty array is ambiguous. Returning False, but in future this will result in an error. Use `array.size > 0` to check that an array is not empty.\n",
      "  if diff:\n",
      "c:\\users\\llb\\appdata\\local\\programs\\python\\python36\\lib\\site-packages\\sklearn\\preprocessing\\label.py:151: DeprecationWarning: The truth value of an empty array is ambiguous. Returning False, but in future this will result in an error. Use `array.size > 0` to check that an array is not empty.\n",
      "  if diff:\n",
      "c:\\users\\llb\\appdata\\local\\programs\\python\\python36\\lib\\site-packages\\sklearn\\preprocessing\\label.py:151: DeprecationWarning: The truth value of an empty array is ambiguous. Returning False, but in future this will result in an error. Use `array.size > 0` to check that an array is not empty.\n",
      "  if diff:\n"
     ]
    },
    {
     "name": "stdout",
     "output_type": "stream",
     "text": [
      "XGBClassifier: auc:0.870386, recall:0.039735, accuracy:0.936583\n",
      ".......................................\n"
     ]
    },
    {
     "name": "stderr",
     "output_type": "stream",
     "text": [
      "c:\\users\\llb\\appdata\\local\\programs\\python\\python36\\lib\\site-packages\\sklearn\\preprocessing\\label.py:151: DeprecationWarning: The truth value of an empty array is ambiguous. Returning False, but in future this will result in an error. Use `array.size > 0` to check that an array is not empty.\n",
      "  if diff:\n",
      "c:\\users\\llb\\appdata\\local\\programs\\python\\python36\\lib\\site-packages\\sklearn\\preprocessing\\label.py:151: DeprecationWarning: The truth value of an empty array is ambiguous. Returning False, but in future this will result in an error. Use `array.size > 0` to check that an array is not empty.\n",
      "  if diff:\n",
      "c:\\users\\llb\\appdata\\local\\programs\\python\\python36\\lib\\site-packages\\sklearn\\preprocessing\\label.py:151: DeprecationWarning: The truth value of an empty array is ambiguous. Returning False, but in future this will result in an error. Use `array.size > 0` to check that an array is not empty.\n",
      "  if diff:\n",
      "c:\\users\\llb\\appdata\\local\\programs\\python\\python36\\lib\\site-packages\\sklearn\\preprocessing\\label.py:151: DeprecationWarning: The truth value of an empty array is ambiguous. Returning False, but in future this will result in an error. Use `array.size > 0` to check that an array is not empty.\n",
      "  if diff:\n",
      "c:\\users\\llb\\appdata\\local\\programs\\python\\python36\\lib\\site-packages\\sklearn\\preprocessing\\label.py:151: DeprecationWarning: The truth value of an empty array is ambiguous. Returning False, but in future this will result in an error. Use `array.size > 0` to check that an array is not empty.\n",
      "  if diff:\n",
      "c:\\users\\llb\\appdata\\local\\programs\\python\\python36\\lib\\site-packages\\sklearn\\preprocessing\\label.py:151: DeprecationWarning: The truth value of an empty array is ambiguous. Returning False, but in future this will result in an error. Use `array.size > 0` to check that an array is not empty.\n",
      "  if diff:\n",
      "c:\\users\\llb\\appdata\\local\\programs\\python\\python36\\lib\\site-packages\\sklearn\\preprocessing\\label.py:151: DeprecationWarning: The truth value of an empty array is ambiguous. Returning False, but in future this will result in an error. Use `array.size > 0` to check that an array is not empty.\n",
      "  if diff:\n",
      "c:\\users\\llb\\appdata\\local\\programs\\python\\python36\\lib\\site-packages\\sklearn\\preprocessing\\label.py:151: DeprecationWarning: The truth value of an empty array is ambiguous. Returning False, but in future this will result in an error. Use `array.size > 0` to check that an array is not empty.\n",
      "  if diff:\n",
      "c:\\users\\llb\\appdata\\local\\programs\\python\\python36\\lib\\site-packages\\sklearn\\preprocessing\\label.py:151: DeprecationWarning: The truth value of an empty array is ambiguous. Returning False, but in future this will result in an error. Use `array.size > 0` to check that an array is not empty.\n",
      "  if diff:\n"
     ]
    },
    {
     "name": "stdout",
     "output_type": "stream",
     "text": [
      "XGBClassifier: auc:0.874258, recall:0.050331, accuracy:0.936583\n"
     ]
    },
    {
     "name": "stderr",
     "output_type": "stream",
     "text": [
      "c:\\users\\llb\\appdata\\local\\programs\\python\\python36\\lib\\site-packages\\sklearn\\preprocessing\\label.py:151: DeprecationWarning: The truth value of an empty array is ambiguous. Returning False, but in future this will result in an error. Use `array.size > 0` to check that an array is not empty.\n",
      "  if diff:\n"
     ]
    },
    {
     "data": {
      "text/plain": [
       "0.8742580219611954"
      ]
     },
     "execution_count": 63,
     "metadata": {},
     "output_type": "execute_result"
    }
   ],
   "source": [
    "estimate(XGBClassifier(\n",
    "            booster = 'dart',\n",
    "            learning_rate =0.08,\n",
    "            n_estimators=128,\n",
    "            max_depth=4,\n",
    "            min_child_weight=5,\n",
    "            gamma=0.3,\n",
    "            subsample=0.9,\n",
    "            colsample_bytree=0.9,\n",
    "            objective= 'binary:logistic',\n",
    "            nthread=4,\n",
    "            scale_pos_weight=1,\n",
    "            StratifiedKFold = True,        \n",
    "            seed=1)\n",
    "         , 'XGBClassifier') \n",
    "\n",
    "print(\".......................................\")\n",
    "estimate(XGBClassifier(\n",
    "            learning_rate =0.08,\n",
    "            n_estimators=103,\n",
    "            max_depth=7,\n",
    "            min_child_weight=8,\n",
    "            gamma=0.3,\n",
    "            subsample=0.9,\n",
    "            colsample_bytree=0.8,\n",
    "            objective= 'binary:logistic',\n",
    "            nthread=4,\n",
    "            scale_pos_weight=1,\n",
    "            StratifiedKFold = True,        \n",
    "            seed=1)\n",
    "         , 'XGBClassifier')    \n",
    "# aucc = []\n",
    "# for i in range(6):\n",
    "#     if i== 0:\n",
    "#         aucc.append(estimate(RidgeClassifier(), 'RidgeClassifier'))        #0.7969\n",
    "#     if i== 1:\n",
    "#         aucc.append(estimate(LogisticRegression(), 'LogisticRegression'))   #0.797659\n",
    "#     if i == 2:\n",
    "#         aucc.append(estimate(RandomForestClassifier(), 'RandomForestClassifier'))  #0.714345\n",
    "#     if i == 3:\n",
    "#         aucc.append(estimate(AdaBoostClassifier(), 'AdaBoostClassifier'))  #0.838858\n",
    "#     if i == 4:\n",
    "#         aucc.append(estimate(SVC(), 'SVC'))# too long to wait\n",
    "#     if i == 5:\n",
    "#         aucc.append(estimate(LinearSVC(), 'LinearSVC'))\n",
    "# print(\"最终的AUC\",aucc)\n",
    "\n",
    "\n",
    "#RidgeClassifier: auc:0.802545, recall:0.000000, accuracy:0.936875\n",
    "# LogisticRegression: auc:0.799948, recall:0.029108, accuracy:0.935792\n",
    "# RandomForestClassifier: auc:0.699755, recall:0.016521, accuracy:0.936167\n",
    "# AdaBoostClassifier: auc:0.834362, recall:0.059533, accuracy:0.934541\n",
    "# SVC: auc:0.698281, recall:0.000000, accuracy:0.937000\n",
    "# LinearSVC: auc:0.798138, recall:0.001982, accuracy:0.936750         20%预留数据"
   ]
  },
  {
   "cell_type": "raw",
   "metadata": {},
   "source": [
    "#  集成投票，看总体效果\n",
    "#  注意在这之前先遍历每个模型的参数最优"
   ]
  },
  {
   "cell_type": "code",
   "execution_count": 85,
   "metadata": {},
   "outputs": [
    {
     "data": {
      "text/plain": [
       "(   AGENT_0  AGENT_1  AGENT_2  AGENT_3  AGENT_4  AGENT_5  AGENT_6  AGENT_7  \\\n",
       " 0        1        0        0        0        0        0        0        0   \n",
       " 1        0        1        0        0        0        0        0        0   \n",
       " 2        1        0        0        0        0        0        0        0   \n",
       " 3        0        0        0        0        1        0        0        0   \n",
       " 4        1        0        0        0        0        0        0        0   \n",
       " \n",
       "    AGENT_8  AGENT_9     ...      LAST_MONTHS_max  LAST_MONTHS_min  \\\n",
       " 0        0        0     ...                  0.0             0.00   \n",
       " 1        0        0     ...                  0.0             0.00   \n",
       " 2        0        0     ...                  0.0             0.05   \n",
       " 3        0        0     ...                  0.3             0.00   \n",
       " 4        0        0     ...                  0.0             0.00   \n",
       " \n",
       "    LAST_MONTHS_mean  LAST_MONTHS_zongshu  LAST_MONTHS_num  AMOUNT_max  \\\n",
       " 0          0.000000             0.008929         0.000000    0.001630   \n",
       " 1          0.000000             0.012500         0.000000    0.001493   \n",
       " 2          0.000000             0.008929         0.000000    0.001661   \n",
       " 3          0.116667             0.033929         0.039506    0.033318   \n",
       " 4          0.000000             0.080357         0.049383    0.014363   \n",
       " \n",
       "    AMOUNT_min  AMOUNT_mean  AMOUNTt_zongshu  AMOUNT_num  \n",
       " 0    0.003959     0.002675         0.000000    0.000000  \n",
       " 1    0.000436     0.001835         0.000000    0.000000  \n",
       " 2    0.000295     0.001883         0.000000    0.000000  \n",
       " 3    0.003159     0.020250         0.008108    0.037037  \n",
       " 4    0.001354     0.005424         0.054054    0.049383  \n",
       " \n",
       " [5 rows x 461 columns],\n",
       "        AGENT_0  AGENT_1  AGENT_2  AGENT_3  AGENT_4  AGENT_5  AGENT_6  AGENT_7  \\\n",
       " 19282        1        0        0        0        0        0        0        0   \n",
       " 1713         1        0        0        0        0        0        0        0   \n",
       " 15937        1        0        0        0        0        0        0        0   \n",
       " 699          1        0        0        0        0        0        0        0   \n",
       " 29598        0        1        0        0        0        0        0        0   \n",
       " \n",
       "        AGENT_8  AGENT_9     ...      LAST_MONTHS_max  LAST_MONTHS_min  \\\n",
       " 19282        0        0     ...             0.166667              0.0   \n",
       " 1713         0        0     ...             0.000000              0.0   \n",
       " 15937        0        0     ...             0.000000              0.0   \n",
       " 699          0        0     ...             0.333333              0.0   \n",
       " 29598        0        0     ...             0.000000              0.0   \n",
       " \n",
       "        LAST_MONTHS_mean  LAST_MONTHS_zongshu  LAST_MONTHS_num  AMOUNT_max  \\\n",
       " 19282          0.166667             0.008929         0.012346    0.005215   \n",
       " 1713           0.000000             0.116071         0.074074    0.015460   \n",
       " 15937          0.000000             0.008929         0.000000    0.001661   \n",
       " 699            0.000000             0.119643         0.093827    0.010308   \n",
       " 29598          0.000000             0.008929         0.000000    0.001660   \n",
       " \n",
       "        AMOUNT_min  AMOUNT_mean  AMOUNTt_zongshu  AMOUNT_num  \n",
       " 19282    0.006779     0.006490         0.000000    0.012346  \n",
       " 1713     0.000414     0.014893         0.027027    0.074074  \n",
       " 15937    0.000295     0.001920         0.000000    0.000000  \n",
       " 699      0.000632     0.006053         0.027027    0.098765  \n",
       " 29598    0.000909     0.001998         0.000000    0.000000  \n",
       " \n",
       " [5 rows x 461 columns])"
      ]
     },
     "execution_count": 85,
     "metadata": {},
     "output_type": "execute_result"
    }
   ],
   "source": [
    "test.iloc[:,1:].head(),x_train.head()"
   ]
  },
  {
   "cell_type": "code",
   "execution_count": 61,
   "metadata": {},
   "outputs": [
    {
     "name": "stdout",
     "output_type": "stream",
     "text": [
      "(24000, 461)\n",
      "(24000,)\n",
      "mm.shape[0] 85\n",
      "xgb1 auc 0.874961529579074\n",
      "xgb2 auc 0.8756718649341809\n",
      "total auc 0.8767312904911815\n"
     ]
    }
   ],
   "source": [
    "print(x_train.shape)   #0.690831\t0.010714\t0.776624\t0.002014\n",
    "print(y_train.shape)\n",
    "print(\"mm.shape[0]\",mm.shape[0])\n",
    "xgb1 = XGBClassifier(\n",
    "            booster = 'dart',\n",
    "            learning_rate =0.08,\n",
    "            n_estimators=128,\n",
    "            max_depth=4,\n",
    "            min_child_weight=5,\n",
    "            gamma=0.3,\n",
    "            subsample=0.9,\n",
    "            colsample_bytree=0.9,\n",
    "            objective= 'binary:logistic',\n",
    "            nthread=4,\n",
    "            scale_pos_weight=1,\n",
    "            StratifiedKFold = True,        \n",
    "            seed=1)\n",
    "xgb1.fit(x_train,y_train)\n",
    "pred1 = xgb1.predict_proba(x_valid)[:,1]\n",
    "auc = roc_auc_score(y_valid,pred1)\n",
    "print(\"xgb1 auc\",auc)\n",
    "\n",
    "\n",
    "xgb2 = XGBClassifier(\n",
    "            learning_rate =0.08,\n",
    "            n_estimators=103,\n",
    "            max_depth=7,\n",
    "            min_child_weight=8,\n",
    "            gamma=0.3,\n",
    "            subsample=0.9,\n",
    "            colsample_bytree=0.8,\n",
    "            objective= 'binary:logistic',\n",
    "            nthread=4,\n",
    "            scale_pos_weight=1,\n",
    "            StratifiedKFold = True,        \n",
    "            seed=1)\n",
    "xgb2.fit(x_train,y_train)\n",
    "pred2 = xgb2.predict_proba(x_valid)[:,1]\n",
    "# pred1 = xgb2.predict_proba(x_valid)\n",
    "auc = roc_auc_score(y_valid,pred2)\n",
    "print(\"xgb2 auc\",auc)\n",
    "predttal = 0.8*pred1 + 0.2*pred2#+0.01*pred5\n",
    "auc = roc_auc_score(y_valid,predttal)\n",
    "print(\"total auc\",auc)\n",
    "\n",
    "#划分数据集 种子1\n",
    "# xgb1 auc 0.8811458725823234\n",
    "# xgb2 auc 0.879132903372102\n",
    "# total auc 0.8823769163892053\n",
    "\n",
    "#划分数据集 种子2\n",
    "\n",
    "\n"
   ]
  },
  {
   "cell_type": "code",
   "execution_count": 86,
   "metadata": {},
   "outputs": [
    {
     "name": "stdout",
     "output_type": "stream",
     "text": [
      "0.9305579439328346\n",
      "rand [0.9342349077767629, 0.8767530058831151, 0.8910102304145874, 0.9194468618681169, 0.8661126591790965, 0.8750625304808892, 0.8677861896427991, 0.8963524586825469, 0.9290635643243113, 0.927015647888572, 0.8725936346721158, 0.9250058891250146, 0.900547221070918, 0.9393418956829184, 0.8730785637613113, 0.8550004961374454, 0.8510973262940745, 0.8955297167917619, 0.903463933469629, 0.8888218288560606, 0.8939986639589079, 0.9210869759259905, 0.8585517686040097, 0.9250235729920607, 0.8872113322756269, 0.8608208136836271, 0.9124973167242, 0.9076588572384732, 0.9104627584028719, 0.8987411655468898]\n"
     ]
    }
   ],
   "source": [
    "# 看下很多个随机数结果怎么样？  30个随机数\n",
    "import random\n",
    "print (random.uniform(0.85,0.95))  \n",
    "rand = []\n",
    "for i in range(30):\n",
    "    rand.append(random.uniform(0.85,0.95))\n",
    "print(\"rand\",rand)\n",
    "last = 0\n",
    "for i in range(30):\n",
    "    pred1 = 0\n",
    "    xgb1 = XGBClassifier(\n",
    "            booster = 'dart',\n",
    "            learning_rate =0.08,\n",
    "            n_estimators=128,\n",
    "            max_depth=4,\n",
    "            min_child_weight=5,\n",
    "            gamma=0.3,\n",
    "            subsample=rand[i],\n",
    "            colsample_bytree=0.9,\n",
    "            objective= 'binary:logistic',\n",
    "            nthread=4,\n",
    "            scale_pos_weight=1,\n",
    "            StratifiedKFold = True,        \n",
    "            seed=1)\n",
    "    xgb1.fit(x_train,y_train)\n",
    "    pred1 = xgb1.predict_proba(test.iloc[:,1:])[:,1] \n",
    "#     pred1 = xgb1.predict_proba(x_valid)[:,1]  REPORT_ID\n",
    "#     auc = roc_auc_score(y_valid,pred1)\n",
    "    last += pred1\n",
    "#     print(\"i:{},xgb1 auc:{}\".format(i,auc))\n",
    "xgb1 = XGBClassifier(\n",
    "            booster = 'dart',\n",
    "            learning_rate =0.08,\n",
    "            n_estimators=128,\n",
    "            max_depth=4,\n",
    "            min_child_weight=5,\n",
    "            gamma=0.3,\n",
    "            subsample=0.9,\n",
    "            colsample_bytree=0.9,\n",
    "            objective= 'binary:logistic',\n",
    "            nthread=4,\n",
    "            scale_pos_weight=1,\n",
    "            StratifiedKFold = True,        \n",
    "            seed=1)\n",
    "xgb1.fit(x_train,y_train)\n",
    "pred0 = xgb1.predict_proba(test.iloc[:,1:])[:,1]\n",
    "# pred0 = xgb1.predict_proba(x_valid)[:,1]\n",
    "# auc = roc_auc_score(y_valid,pred0)\n",
    "# print(\"sumple = 0.8\",auc)\n",
    "last += pred0\n",
    "last = last/31\n",
    "# roc_auc_score(y_valid,last)\n",
    "\n",
    "#划分数据集的种子1\n",
    "# i:0,xgb1 auc:0.8821081295318076\n",
    "# i:1,xgb1 auc:0.8845237903247483\n",
    "# i:2,xgb1 auc:0.8869663298034288\n",
    "# i:3,xgb1 auc:0.8810119678570015\n",
    "# i:4,xgb1 auc:0.8838410717069578\n",
    "# i:5,xgb1 auc:0.8831979380627113\n",
    "# i:6,xgb1 auc:0.8825132646314127\n",
    "# i:7,xgb1 auc:0.8841641046392121\n",
    "# i:8,xgb1 auc:0.8814801456922506\n",
    "# sumple = 0.8 0.8811458725823234\n",
    "# Out[50]:\n",
    "# 0.8864654088419147\n",
    "\n",
    "# i:0,xgb1 auc:0.876384145081499\n",
    "# i:1,xgb1 auc:0.8769277145045034\n",
    "# i:2,xgb1 auc:0.8778522201018585\n",
    "# i:3,xgb1 auc:0.8763282323054297\n",
    "# i:4,xgb1 auc:0.8760491546231357\n",
    "# i:5,xgb1 auc:0.8763890070620268\n",
    "# i:6,xgb1 auc:0.8761916106525993\n",
    "# i:7,xgb1 auc:0.8753524328135067\n",
    "# i:8,xgb1 auc:0.8752795031055901\n",
    "# sumple = 0.8 0.8776137399569713\n",
    "# Out[29]:\n",
    "# 0.8774357914696551"
   ]
  },
  {
   "cell_type": "code",
   "execution_count": 87,
   "metadata": {},
   "outputs": [
    {
     "name": "stdout",
     "output_type": "stream",
     "text": [
      "rand [0.9476409682544764, 0.8953775054455586, 0.8512518027087432, 0.9228951089401374, 0.9409054452116784, 0.8935882541265096, 0.9291277127033143, 0.9049650501126413, 0.9080491291854176, 0.9332104886011403, 0.8771546422699255, 0.927473064291222, 0.9044888730050088, 0.8854482865715768, 0.9444579412074745, 0.8883093960726984, 0.9476835705086385, 0.9292769758531199, 0.9005114712137648, 0.8739143626437157, 0.9069986396864625, 0.9311684317086566, 0.9187632284161857, 0.8974392165012887, 0.9426838526874581, 0.9331158494023933, 0.8654054632407047, 0.9158619949566912, 0.9364425309274242, 0.9183293962893184]\n"
     ]
    }
   ],
   "source": [
    "rand2 = []\n",
    "for i in range(30):\n",
    "    rand2.append(random.uniform(0.85,0.95))\n",
    "print(\"rand\",rand2)\n",
    "last2 = 0\n",
    "for i in range(30):\n",
    "    pred2 = 0\n",
    "    xgb2 = XGBClassifier(\n",
    "            learning_rate =0.08,\n",
    "            n_estimators=103,\n",
    "            max_depth=7,\n",
    "            min_child_weight=8,\n",
    "            gamma=0.3,\n",
    "            subsample=rand2[i],\n",
    "            colsample_bytree=0.8,\n",
    "            objective= 'binary:logistic',\n",
    "            nthread=4,\n",
    "            scale_pos_weight=1,\n",
    "            StratifiedKFold = True,        \n",
    "            seed=1)\n",
    "    xgb2.fit(x_train,y_train)\n",
    "    pred2 = xgb2.predict_proba(test.iloc[:,1:])[:,1]\n",
    "#     pred2 = xgb2.predict_proba(x_valid)[:,1]\n",
    "#     auc = roc_auc_score(y_valid,pred2)\n",
    "    last2 += pred2\n",
    "#     print(\"i:{},xgb1 auc:{}\".format(i,auc))\n",
    "xgb2 = XGBClassifier(\n",
    "            learning_rate =0.08,\n",
    "            n_estimators=103,\n",
    "            max_depth=7,\n",
    "            min_child_weight=8,\n",
    "            gamma=0.3,\n",
    "            subsample=0.9,\n",
    "            colsample_bytree=0.8,\n",
    "            objective= 'binary:logistic',\n",
    "            nthread=4,\n",
    "            scale_pos_weight=1,\n",
    "            StratifiedKFold = True,        \n",
    "            seed=1)\n",
    "xgb2.fit(x_train,y_train)\n",
    "pred2 = xgb1.predict_proba(test.iloc[:,1:])[:,1]\n",
    "# pred2 = xgb1.predict_proba(x_valid)[:,1]\n",
    "# auc = roc_auc_score(y_valid,pred2)\n",
    "# print(\"sumple = 0.8\",auc)\n",
    "last2 += pred2\n",
    "last2 = last2/31\n",
    "# roc_auc_score(y_valid,last2)"
   ]
  },
  {
   "cell_type": "code",
   "execution_count": 88,
   "metadata": {
    "scrolled": true
   },
   "outputs": [],
   "source": [
    "# dd = (0.8*predttal + 0.2*last)\n",
    "dd = 0.4*last + 0.6*last2\n",
    "# print(roc_auc_score(y_valid,dd))\n",
    "# rr = RandomForestClassifier(oob_score=True,\n",
    "#                        n_estimators = 107,\n",
    "#                        max_depth=13,\n",
    "#                        min_samples_split = 8,\n",
    "#                        min_samples_leaf=12,\n",
    "#                        max_features='sqrt' , \n",
    "#                        random_state=3)\n",
    "\n",
    "# rr.fit(x_train,y_train)\n",
    "# pred3 = rr.predict_proba(x_valid)[:,1]\n",
    "# auc = roc_auc_score(y_valid,pred3)\n",
    "# print(\"rr\",auc)\n",
    "# dd = 0.4*last + 0.4*last2+0.2 * pred3\n",
    "# roc_auc_score(y_valid,dd)"
   ]
  },
  {
   "cell_type": "code",
   "execution_count": 90,
   "metadata": {},
   "outputs": [
    {
     "name": "stdout",
     "output_type": "stream",
     "text": [
      "   REPORT_ID  Y_predict_proba\n",
      "0    7754420         0.257419\n",
      "1    8709548         0.001702\n",
      "2    8753538         0.001531\n",
      "3    8101125         0.002848\n",
      "4    8572887         0.001493\n",
      "(10000, 2)\n"
     ]
    }
   ],
   "source": [
    "dd = pd.Series(dd)\n",
    "final = pd.concat([test.REPORT_ID,dd],axis = 1)\n",
    "final.columns = ('REPORT_ID',\"Y_predict_proba\")\n",
    "print(final.head())\n",
    "print(final.shape)\n",
    "# final.to_csv(\"../output/test_Y_proba.csv\",index = False)"
   ]
  },
  {
   "cell_type": "markdown",
   "metadata": {},
   "source": [
    "# 下面通过网格搜索寻找其他参数"
   ]
  },
  {
   "cell_type": "code",
   "execution_count": 52,
   "metadata": {},
   "outputs": [
    {
     "name": "stderr",
     "output_type": "stream",
     "text": [
      "c:\\users\\llb\\appdata\\local\\programs\\python\\python36\\lib\\site-packages\\sklearn\\model_selection\\_search.py:761: DeprecationWarning: The grid_scores_ attribute was deprecated in version 0.18 in favor of the more elaborate cv_results_ attribute. The grid_scores_ attribute will not be available from 0.20\n",
      "  DeprecationWarning)\n"
     ]
    },
    {
     "data": {
      "text/plain": [
       "([mean: 0.86635, std: 0.00754, params: {'max_depth': 3, 'min_child_weight': 1},\n",
       "  mean: 0.86628, std: 0.00520, params: {'max_depth': 3, 'min_child_weight': 3},\n",
       "  mean: 0.86725, std: 0.00555, params: {'max_depth': 3, 'min_child_weight': 5},\n",
       "  mean: 0.86798, std: 0.00717, params: {'max_depth': 3, 'min_child_weight': 7},\n",
       "  mean: 0.87070, std: 0.00694, params: {'max_depth': 5, 'min_child_weight': 1},\n",
       "  mean: 0.87104, std: 0.00684, params: {'max_depth': 5, 'min_child_weight': 3},\n",
       "  mean: 0.87057, std: 0.00725, params: {'max_depth': 5, 'min_child_weight': 5},\n",
       "  mean: 0.87149, std: 0.00709, params: {'max_depth': 5, 'min_child_weight': 7},\n",
       "  mean: 0.86798, std: 0.00596, params: {'max_depth': 7, 'min_child_weight': 1},\n",
       "  mean: 0.87029, std: 0.00837, params: {'max_depth': 7, 'min_child_weight': 3},\n",
       "  mean: 0.86966, std: 0.00702, params: {'max_depth': 7, 'min_child_weight': 5},\n",
       "  mean: 0.87170, std: 0.00568, params: {'max_depth': 7, 'min_child_weight': 7},\n",
       "  mean: 0.86553, std: 0.00960, params: {'max_depth': 9, 'min_child_weight': 1},\n",
       "  mean: 0.86724, std: 0.00649, params: {'max_depth': 9, 'min_child_weight': 3},\n",
       "  mean: 0.86799, std: 0.00477, params: {'max_depth': 9, 'min_child_weight': 5},\n",
       "  mean: 0.86671, std: 0.00463, params: {'max_depth': 9, 'min_child_weight': 7}],\n",
       " {'max_depth': 7, 'min_child_weight': 7},\n",
       " 0.8717027288066219)"
      ]
     },
     "execution_count": 52,
     "metadata": {},
     "output_type": "execute_result"
    }
   ],
   "source": [
    "#Grid seach on subsample and max_features\n",
    "#Choose all predictors except target & IDcols\n",
    "param_test1 = {\n",
    "    'max_depth':range(3,10,2),\n",
    "    'min_child_weight':range(1,8,2)\n",
    "}\n",
    "gsearch1 = GridSearchCV(estimator = XGBClassifier(\n",
    "#         booster = 'dart',\n",
    "        learning_rate =0.1,\n",
    "        n_estimators=mm.shape[0],\n",
    "        max_depth=5,\n",
    "        min_child_weight=5,\n",
    "        gamma=0.1,\n",
    "        subsample=0.8,\n",
    "        colsample_bytree=0.8,\n",
    "        objective= 'binary:logistic',\n",
    "        nthread=4,\n",
    "        scale_pos_weight=1,\n",
    "        StratifiedKFold = True,          #0.866124\t0.008005\t0.965337\t0.002286\n",
    "        seed=1), \n",
    "                       param_grid = param_test1, scoring='roc_auc',n_jobs=4,iid=False, cv=5)\n",
    "gsearch1.fit(x_train,y_train)\n",
    "gsearch1.grid_scores_, gsearch1.best_params_, gsearch1.best_score_"
   ]
  },
  {
   "cell_type": "code",
   "execution_count": 53,
   "metadata": {},
   "outputs": [
    {
     "name": "stdout",
     "output_type": "stream",
     "text": [
      " x_train (24000, 461)\n",
      "y_train (24000,)\n"
     ]
    },
    {
     "name": "stderr",
     "output_type": "stream",
     "text": [
      "c:\\users\\llb\\appdata\\local\\programs\\python\\python36\\lib\\site-packages\\sklearn\\model_selection\\_search.py:761: DeprecationWarning: The grid_scores_ attribute was deprecated in version 0.18 in favor of the more elaborate cv_results_ attribute. The grid_scores_ attribute will not be available from 0.20\n",
      "  DeprecationWarning)\n"
     ]
    },
    {
     "data": {
      "text/plain": [
       "([mean: 0.86887, std: 0.00701, params: {'max_depth': 7, 'min_child_weight': 6},\n",
       "  mean: 0.87170, std: 0.00568, params: {'max_depth': 7, 'min_child_weight': 7},\n",
       "  mean: 0.87321, std: 0.00542, params: {'max_depth': 7, 'min_child_weight': 8},\n",
       "  mean: 0.86811, std: 0.00573, params: {'max_depth': 8, 'min_child_weight': 6},\n",
       "  mean: 0.86963, std: 0.00751, params: {'max_depth': 8, 'min_child_weight': 7},\n",
       "  mean: 0.86878, std: 0.00876, params: {'max_depth': 8, 'min_child_weight': 8},\n",
       "  mean: 0.87038, std: 0.00668, params: {'max_depth': 6, 'min_child_weight': 6},\n",
       "  mean: 0.87146, std: 0.00833, params: {'max_depth': 6, 'min_child_weight': 7},\n",
       "  mean: 0.87042, std: 0.00788, params: {'max_depth': 6, 'min_child_weight': 8}],\n",
       " {'max_depth': 7, 'min_child_weight': 8},\n",
       " 0.8732053097918427)"
      ]
     },
     "execution_count": 53,
     "metadata": {},
     "output_type": "execute_result"
    }
   ],
   "source": [
    "# #Grid seach on subsample and max_features\n",
    "# #Choose all predictors except target & IDcols\n",
    "\n",
    "print(\" x_train\", x_train.shape)\n",
    "print(\"y_train\",y_train.shape)\n",
    "param_test2 = {\n",
    "    'max_depth':[7,8,6],\n",
    "    'min_child_weight':[6,7,8]\n",
    "}\n",
    "gsearch2 = GridSearchCV(estimator = XGBClassifier(\n",
    "#         booster = 'dart',\n",
    "        learning_rate =0.1,\n",
    "        n_estimators=mm.shape[0],\n",
    "        max_depth=5,\n",
    "        min_child_weight=5,\n",
    "        gamma=0.1,\n",
    "        subsample=0.8,\n",
    "        colsample_bytree=0.8,\n",
    "        objective= 'binary:logistic',\n",
    "        nthread=4,\n",
    "        scale_pos_weight=1,\n",
    "        StratifiedKFold = True,          #0.866124\t0.008005\t0.965337\t0.002286\n",
    "        seed=1), \n",
    "                       param_grid = param_test2, scoring='roc_auc',n_jobs=4,iid=False, cv=5)\n",
    "gsearch2.fit(x_train,y_train)\n",
    "gsearch2.grid_scores_, gsearch2.best_params_, gsearch2.best_score_"
   ]
  },
  {
   "cell_type": "raw",
   "metadata": {},
   "source": [
    "#上一步是微调，事实证明微调是有用的"
   ]
  },
  {
   "cell_type": "code",
   "execution_count": 54,
   "metadata": {},
   "outputs": [
    {
     "name": "stdout",
     "output_type": "stream",
     "text": [
      "mm 85\n"
     ]
    },
    {
     "name": "stderr",
     "output_type": "stream",
     "text": [
      "c:\\users\\llb\\appdata\\local\\programs\\python\\python36\\lib\\site-packages\\sklearn\\model_selection\\_search.py:761: DeprecationWarning: The grid_scores_ attribute was deprecated in version 0.18 in favor of the more elaborate cv_results_ attribute. The grid_scores_ attribute will not be available from 0.20\n",
      "  DeprecationWarning)\n"
     ]
    },
    {
     "data": {
      "text/plain": [
       "([mean: 0.86611, std: 0.00479, params: {'gamma': 0.0},\n",
       "  mean: 0.86636, std: 0.00395, params: {'gamma': 0.1},\n",
       "  mean: 0.86676, std: 0.00550, params: {'gamma': 0.2},\n",
       "  mean: 0.86698, std: 0.00659, params: {'gamma': 0.3},\n",
       "  mean: 0.86586, std: 0.00493, params: {'gamma': 0.4}],\n",
       " {'gamma': 0.3},\n",
       " 0.8669757899975065)"
      ]
     },
     "execution_count": 54,
     "metadata": {},
     "output_type": "execute_result"
    }
   ],
   "source": [
    "# #Grid seach on subsample and max_features\n",
    "# #Choose all predictors except target & IDcols\n",
    "param_test3 = {\n",
    "    'gamma':[i/10.0 for i in range(0,5)]\n",
    "}\n",
    "print(\"mm\",mm.shape[0])\n",
    "gsearch3 = GridSearchCV(estimator = XGBClassifier(\n",
    "#         booster = 'dart',\n",
    "        learning_rate =0.1,\n",
    "        n_estimators=mm.shape[0],\n",
    "        max_depth=7,\n",
    "        min_child_weight=8,\n",
    "        gamma=0.3,\n",
    "        subsample=0.8,\n",
    "        colsample_bytree=0.8,\n",
    "        objective= 'binary:logistic',\n",
    "        nthread=4,\n",
    "        scale_pos_weight=1,\n",
    "        StratifiedKFold = True,        \n",
    "        seed=1), \n",
    "                        param_grid = param_test3, scoring='roc_auc',n_jobs=4, cv=3)\n",
    "gsearch3.fit(x_train,y_train)\n",
    "gsearch3.grid_scores_, gsearch3.best_params_, gsearch3.best_score_"
   ]
  },
  {
   "cell_type": "code",
   "execution_count": 56,
   "metadata": {},
   "outputs": [
    {
     "name": "stderr",
     "output_type": "stream",
     "text": [
      "c:\\users\\llb\\appdata\\local\\programs\\python\\python36\\lib\\site-packages\\sklearn\\model_selection\\_search.py:761: DeprecationWarning: The grid_scores_ attribute was deprecated in version 0.18 in favor of the more elaborate cv_results_ attribute. The grid_scores_ attribute will not be available from 0.20\n",
      "  DeprecationWarning)\n"
     ]
    },
    {
     "data": {
      "text/plain": [
       "([mean: 0.86491, std: 0.00882, params: {'learning_rate': 0.02},\n",
       "  mean: 0.86545, std: 0.00796, params: {'learning_rate': 0.025},\n",
       "  mean: 0.87154, std: 0.00788, params: {'learning_rate': 0.05},\n",
       "  mean: 0.87254, std: 0.00504, params: {'learning_rate': 0.08},\n",
       "  mean: 0.87033, std: 0.00701, params: {'learning_rate': 0.1}],\n",
       " {'learning_rate': 0.08},\n",
       " 0.8725358437451229)"
      ]
     },
     "execution_count": 56,
     "metadata": {},
     "output_type": "execute_result"
    }
   ],
   "source": [
    "param_test4 = {\n",
    "    'learning_rate':[0.02,0.025,0.05,0.08,0.1]\n",
    "}\n",
    "gsearch4 = GridSearchCV(estimator =  XGBClassifier(\n",
    "            booster = 'dart',\n",
    "            learning_rate =0.08,\n",
    "            n_estimators=mm.shape[0],\n",
    "            max_depth=7,\n",
    "            min_child_weight=8,\n",
    "            gamma=0.3,\n",
    "            subsample=0.8,\n",
    "            colsample_bytree=0.8,\n",
    "            objective= 'binary:logistic',\n",
    "            nthread=4,\n",
    "            scale_pos_weight=1,\n",
    "            StratifiedKFold = True,        \n",
    "            seed=1), \n",
    "                       param_grid = param_test4, scoring='roc_auc',n_jobs=3,iid=False, cv=5)\n",
    "gsearch4.fit(x_train,y_train)\n",
    "gsearch4.grid_scores_, gsearch4.best_params_, gsearch4.best_score_"
   ]
  },
  {
   "cell_type": "markdown",
   "metadata": {},
   "source": [
    "Tune subsample and colsample_bytree"
   ]
  },
  {
   "cell_type": "code",
   "execution_count": 57,
   "metadata": {},
   "outputs": [
    {
     "name": "stderr",
     "output_type": "stream",
     "text": [
      "c:\\users\\llb\\appdata\\local\\programs\\python\\python36\\lib\\site-packages\\sklearn\\model_selection\\_search.py:761: DeprecationWarning: The grid_scores_ attribute was deprecated in version 0.18 in favor of the more elaborate cv_results_ attribute. The grid_scores_ attribute will not be available from 0.20\n",
      "  DeprecationWarning)\n"
     ]
    },
    {
     "data": {
      "text/plain": [
       "([mean: 0.86727, std: 0.00830, params: {'colsample_bytree': 0.6, 'subsample': 0.6},\n",
       "  mean: 0.87183, std: 0.00575, params: {'colsample_bytree': 0.6, 'subsample': 0.7},\n",
       "  mean: 0.87172, std: 0.00702, params: {'colsample_bytree': 0.6, 'subsample': 0.8},\n",
       "  mean: 0.87314, std: 0.00821, params: {'colsample_bytree': 0.6, 'subsample': 0.9},\n",
       "  mean: 0.86790, std: 0.01025, params: {'colsample_bytree': 0.7, 'subsample': 0.6},\n",
       "  mean: 0.87231, std: 0.00904, params: {'colsample_bytree': 0.7, 'subsample': 0.7},\n",
       "  mean: 0.87281, std: 0.00772, params: {'colsample_bytree': 0.7, 'subsample': 0.8},\n",
       "  mean: 0.87402, std: 0.00816, params: {'colsample_bytree': 0.7, 'subsample': 0.9},\n",
       "  mean: 0.86991, std: 0.00732, params: {'colsample_bytree': 0.8, 'subsample': 0.6},\n",
       "  mean: 0.87006, std: 0.00750, params: {'colsample_bytree': 0.8, 'subsample': 0.7},\n",
       "  mean: 0.87245, std: 0.00748, params: {'colsample_bytree': 0.8, 'subsample': 0.8},\n",
       "  mean: 0.87455, std: 0.00637, params: {'colsample_bytree': 0.8, 'subsample': 0.9},\n",
       "  mean: 0.86826, std: 0.00806, params: {'colsample_bytree': 0.9, 'subsample': 0.6},\n",
       "  mean: 0.86990, std: 0.00876, params: {'colsample_bytree': 0.9, 'subsample': 0.7},\n",
       "  mean: 0.86983, std: 0.00459, params: {'colsample_bytree': 0.9, 'subsample': 0.8},\n",
       "  mean: 0.87197, std: 0.00846, params: {'colsample_bytree': 0.9, 'subsample': 0.9}],\n",
       " {'colsample_bytree': 0.8, 'subsample': 0.9},\n",
       " 0.8745455669775234)"
      ]
     },
     "execution_count": 57,
     "metadata": {},
     "output_type": "execute_result"
    }
   ],
   "source": [
    "# #Grid seach on subsample and max_features\n",
    "# #Choose all predictors except target & IDcols\n",
    "param_test4 = {\n",
    "    'subsample':[i/10.0 for i in range(6,10)],\n",
    "    'colsample_bytree':[i/10.0 for i in range(6,10)]\n",
    "}\n",
    "gsearch4 = GridSearchCV(estimator = XGBClassifier(\n",
    "#             booster = 'dart',\n",
    "            learning_rate =0.08,\n",
    "            n_estimators=mm.shape[0],\n",
    "            max_depth=7,\n",
    "            min_child_weight=8,\n",
    "            gamma=0.3,\n",
    "            subsample=0.8,\n",
    "            colsample_bytree=0.8,\n",
    "            objective= 'binary:logistic',\n",
    "            nthread=4,\n",
    "            scale_pos_weight=1,\n",
    "            StratifiedKFold = True,        \n",
    "            seed=1), \n",
    "                       param_grid = param_test4, scoring='roc_auc',n_jobs=3,iid=False, cv=5)\n",
    "gsearch4.fit(x_train,y_train)\n",
    "gsearch4.grid_scores_, gsearch4.best_params_, gsearch4.best_score_"
   ]
  },
  {
   "cell_type": "markdown",
   "metadata": {},
   "source": [
    "tune subsample:"
   ]
  },
  {
   "cell_type": "code",
   "execution_count": 58,
   "metadata": {},
   "outputs": [
    {
     "name": "stderr",
     "output_type": "stream",
     "text": [
      "c:\\users\\llb\\appdata\\local\\programs\\python\\python36\\lib\\site-packages\\sklearn\\model_selection\\_search.py:761: DeprecationWarning: The grid_scores_ attribute was deprecated in version 0.18 in favor of the more elaborate cv_results_ attribute. The grid_scores_ attribute will not be available from 0.20\n",
      "  DeprecationWarning)\n"
     ]
    },
    {
     "data": {
      "text/plain": [
       "([mean: 0.87295, std: 0.00650, params: {'colsample_bytree': 0.75, 'subsample': 0.85},\n",
       "  mean: 0.87396, std: 0.00814, params: {'colsample_bytree': 0.75, 'subsample': 0.9},\n",
       "  mean: 0.87154, std: 0.00814, params: {'colsample_bytree': 0.8, 'subsample': 0.85},\n",
       "  mean: 0.87455, std: 0.00637, params: {'colsample_bytree': 0.8, 'subsample': 0.9}],\n",
       " {'colsample_bytree': 0.8, 'subsample': 0.9},\n",
       " 0.8745455669775234)"
      ]
     },
     "execution_count": 58,
     "metadata": {},
     "output_type": "execute_result"
    }
   ],
   "source": [
    "#Grid seach on subsample and max_features\n",
    "#Choose all predictors except target & IDcols\n",
    "param_test5 = {\n",
    "    'subsample':[i/100.0 for i in range(85,95,5)],\n",
    "    'colsample_bytree':[i/100.0 for i in range(75,85,5)]\n",
    "}\n",
    "gsearch5 = GridSearchCV(estimator = XGBClassifier(\n",
    "#             booster = 'dart',\n",
    "            learning_rate =0.08,\n",
    "            n_estimators=mm.shape[0],\n",
    "            max_depth=7,\n",
    "            min_child_weight=8,\n",
    "            gamma=0.3,\n",
    "            subsample=0.9,\n",
    "            colsample_bytree=0.8,\n",
    "            objective= 'binary:logistic',\n",
    "            nthread=4,\n",
    "            scale_pos_weight=1,\n",
    "            StratifiedKFold = True,        \n",
    "            seed=1), \n",
    "                       param_grid = param_test5, scoring='roc_auc',n_jobs=4,iid=False, cv=5)\n",
    "gsearch5.fit(x_train,y_train)\n",
    "gsearch5.grid_scores_, gsearch5.best_params_, gsearch5.best_score_"
   ]
  },
  {
   "cell_type": "markdown",
   "metadata": {},
   "source": [
    "Got the same value as assument and no change requried."
   ]
  },
  {
   "cell_type": "markdown",
   "metadata": {},
   "source": [
    "Try regularization:  (防止过拟合的)"
   ]
  },
  {
   "cell_type": "code",
   "execution_count": 59,
   "metadata": {},
   "outputs": [
    {
     "name": "stderr",
     "output_type": "stream",
     "text": [
      "c:\\users\\llb\\appdata\\local\\programs\\python\\python36\\lib\\site-packages\\sklearn\\model_selection\\_search.py:761: DeprecationWarning: The grid_scores_ attribute was deprecated in version 0.18 in favor of the more elaborate cv_results_ attribute. The grid_scores_ attribute will not be available from 0.20\n",
      "  DeprecationWarning)\n"
     ]
    },
    {
     "data": {
      "text/plain": [
       "([mean: 0.87252, std: 0.00542, params: {'reg_alpha': 1e-05},\n",
       "  mean: 0.87144, std: 0.00422, params: {'reg_alpha': 0.01},\n",
       "  mean: 0.87240, std: 0.00526, params: {'reg_alpha': 0.1},\n",
       "  mean: 0.87146, std: 0.00462, params: {'reg_alpha': 1},\n",
       "  mean: 0.83631, std: 0.00418, params: {'reg_alpha': 100}],\n",
       " {'reg_alpha': 1e-05},\n",
       " 0.872520973265528)"
      ]
     },
     "execution_count": 59,
     "metadata": {},
     "output_type": "execute_result"
    }
   ],
   "source": [
    "# #Grid seach on subsample and max_features\n",
    "# #Choose all predictors except target & IDcols\n",
    "param_test6 = {\n",
    "    'reg_alpha':[1e-5, 1e-2, 0.1, 1, 100]\n",
    "}\n",
    "gsearch6 = GridSearchCV(estimator = XGBClassifier(\n",
    "            booster = 'dart',\n",
    "            learning_rate =0.08,\n",
    "            n_estimators=mm.shape[0],\n",
    "            max_depth=7,\n",
    "            min_child_weight=8,\n",
    "            gamma=0.3,\n",
    "            subsample=0.9,\n",
    "            colsample_bytree=0.8,\n",
    "            objective= 'binary:logistic',\n",
    "            nthread=4,\n",
    "            scale_pos_weight=1,\n",
    "            StratifiedKFold = True,        \n",
    "            seed=1), \n",
    "                       param_grid = param_test6, scoring='roc_auc',n_jobs=4,iid=False, cv=5)\n",
    "gsearch6.fit(x_train,y_train)\n",
    "gsearch6.grid_scores_, gsearch6.best_params_, gsearch6.best_score_"
   ]
  },
  {
   "cell_type": "code",
   "execution_count": null,
   "metadata": {},
   "outputs": [],
   "source": [
    "# #Grid seach on subsample and max_features\n",
    "# #Choose all predictors except target & IDcols\n",
    "# param_test7 = {\n",
    "#     'reg_alpha':[0, 0.00001, 0.00005, 0.01, 0.05]\n",
    "# }\n",
    "# gsearch7 = GridSearchCV(estimator = XGBClassifier(\n",
    "#             booster = 'dart',\n",
    "#             learning_rate =0.08,\n",
    "#             n_estimators=mm.shape[0],\n",
    "#             max_depth=4,\n",
    "#             min_child_weight=5,\n",
    "#             gamma=0.3,\n",
    "#             subsample=0.9,\n",
    "#             colsample_bytree=0.9,\n",
    "#             objective= 'binary:logistic',\n",
    "#             nthread=4,\n",
    "#             scale_pos_weight=1,\n",
    "#             StratifiedKFold = True,        \n",
    "#             seed=1), \n",
    "#                        param_grid = param_test7, scoring='roc_auc',n_jobs=4,iid=False, cv=5)\n",
    "# gsearch7.fit(x_train,y_train)\n",
    "# gsearch7.grid_scores_, gsearch7.best_params_, gsearch7.best_score_"
   ]
  },
  {
   "cell_type": "code",
   "execution_count": 60,
   "metadata": {},
   "outputs": [
    {
     "name": "stderr",
     "output_type": "stream",
     "text": [
      "c:\\users\\llb\\appdata\\local\\programs\\python\\python36\\lib\\site-packages\\sklearn\\model_selection\\_search.py:761: DeprecationWarning: The grid_scores_ attribute was deprecated in version 0.18 in favor of the more elaborate cv_results_ attribute. The grid_scores_ attribute will not be available from 0.20\n",
      "  DeprecationWarning)\n"
     ]
    },
    {
     "data": {
      "text/plain": [
       "([mean: 0.87303, std: 0.00595, params: {'n_estimators': 65},\n",
       "  mean: 0.87319, std: 0.00573, params: {'n_estimators': 66},\n",
       "  mean: 0.87365, std: 0.00587, params: {'n_estimators': 67},\n",
       "  mean: 0.87358, std: 0.00608, params: {'n_estimators': 68},\n",
       "  mean: 0.87385, std: 0.00583, params: {'n_estimators': 69},\n",
       "  mean: 0.87387, std: 0.00587, params: {'n_estimators': 70},\n",
       "  mean: 0.87392, std: 0.00596, params: {'n_estimators': 71},\n",
       "  mean: 0.87406, std: 0.00589, params: {'n_estimators': 72},\n",
       "  mean: 0.87416, std: 0.00581, params: {'n_estimators': 73},\n",
       "  mean: 0.87392, std: 0.00592, params: {'n_estimators': 74},\n",
       "  mean: 0.87413, std: 0.00603, params: {'n_estimators': 75},\n",
       "  mean: 0.87435, std: 0.00596, params: {'n_estimators': 76},\n",
       "  mean: 0.87450, std: 0.00599, params: {'n_estimators': 77},\n",
       "  mean: 0.87426, std: 0.00617, params: {'n_estimators': 78},\n",
       "  mean: 0.87445, std: 0.00620, params: {'n_estimators': 79},\n",
       "  mean: 0.87461, std: 0.00609, params: {'n_estimators': 80},\n",
       "  mean: 0.87459, std: 0.00608, params: {'n_estimators': 81},\n",
       "  mean: 0.87460, std: 0.00620, params: {'n_estimators': 82},\n",
       "  mean: 0.87455, std: 0.00643, params: {'n_estimators': 83},\n",
       "  mean: 0.87453, std: 0.00645, params: {'n_estimators': 84},\n",
       "  mean: 0.87455, std: 0.00637, params: {'n_estimators': 85},\n",
       "  mean: 0.87484, std: 0.00651, params: {'n_estimators': 86},\n",
       "  mean: 0.87472, std: 0.00660, params: {'n_estimators': 87},\n",
       "  mean: 0.87475, std: 0.00642, params: {'n_estimators': 88},\n",
       "  mean: 0.87488, std: 0.00635, params: {'n_estimators': 89},\n",
       "  mean: 0.87509, std: 0.00610, params: {'n_estimators': 90},\n",
       "  mean: 0.87516, std: 0.00626, params: {'n_estimators': 91},\n",
       "  mean: 0.87525, std: 0.00620, params: {'n_estimators': 92},\n",
       "  mean: 0.87516, std: 0.00613, params: {'n_estimators': 93},\n",
       "  mean: 0.87518, std: 0.00602, params: {'n_estimators': 94},\n",
       "  mean: 0.87517, std: 0.00625, params: {'n_estimators': 95},\n",
       "  mean: 0.87511, std: 0.00619, params: {'n_estimators': 96},\n",
       "  mean: 0.87531, std: 0.00615, params: {'n_estimators': 97},\n",
       "  mean: 0.87534, std: 0.00626, params: {'n_estimators': 98},\n",
       "  mean: 0.87516, std: 0.00621, params: {'n_estimators': 99},\n",
       "  mean: 0.87511, std: 0.00616, params: {'n_estimators': 100},\n",
       "  mean: 0.87521, std: 0.00620, params: {'n_estimators': 101},\n",
       "  mean: 0.87527, std: 0.00636, params: {'n_estimators': 102},\n",
       "  mean: 0.87541, std: 0.00630, params: {'n_estimators': 103},\n",
       "  mean: 0.87540, std: 0.00616, params: {'n_estimators': 104}],\n",
       " {'n_estimators': 103},\n",
       " 0.8754051101446118)"
      ]
     },
     "execution_count": 60,
     "metadata": {},
     "output_type": "execute_result"
    }
   ],
   "source": [
    "xgb3 = XGBClassifier(\n",
    "#             booster = 'dart',\n",
    "            learning_rate =0.08,\n",
    "            n_estimators=103,\n",
    "            max_depth=7,\n",
    "            min_child_weight=8,\n",
    "            gamma=0.3,\n",
    "            subsample=0.9,\n",
    "            colsample_bytree=0.8,\n",
    "            objective= 'binary:logistic',\n",
    "            nthread=4,\n",
    "            scale_pos_weight=1,\n",
    "            StratifiedKFold = True,        \n",
    "            seed=1)\n",
    "param_test7 = {\n",
    "    'n_estimators':range(mm.shape[0]-20,mm.shape[0]+20,1)\n",
    "}\n",
    "gsearch7 = GridSearchCV(estimator = xgb3,\n",
    "                       param_grid = param_test7, scoring='roc_auc',n_jobs=4,iid=False, cv=5)\n",
    "gsearch7.fit(x_train,y_train)\n",
    "gsearch7.grid_scores_, gsearch7.best_params_, gsearch7.best_score_"
   ]
  },
  {
   "cell_type": "code",
   "execution_count": null,
   "metadata": {},
   "outputs": [],
   "source": []
  },
  {
   "cell_type": "code",
   "execution_count": 70,
   "metadata": {},
   "outputs": [
    {
     "name": "stdout",
     "output_type": "stream",
     "text": [
      "(24000, 461)\n",
      "(24000,)\n",
      "随机森林包中的self.oob_score_ 0.9370833333333334\n",
      "{'n_estimators': 98} 0.8089200792699625\n"
     ]
    }
   ],
   "source": [
    "print(x_train.shape)\n",
    "print(y_train.shape)\n",
    "rr = RandomForestClassifier(oob_score=True,\n",
    "                       min_samples_leaf=20,\n",
    "                       max_depth=8,\n",
    "                       max_features='sqrt' , \n",
    "                       random_state=3)\n",
    "param_test1 = {\"n_estimators\":range(80,100,2)}\n",
    "\n",
    "clfrr = GridSearchCV(estimator = rr,n_jobs = 3,param_grid = param_test1,scoring='roc_auc', cv=5)\n",
    "clfrr.fit(x_train,y_train)\n",
    "print( clfrr.best_params_, clfrr.best_score_) "
   ]
  },
  {
   "cell_type": "code",
   "execution_count": 72,
   "metadata": {},
   "outputs": [
    {
     "name": "stdout",
     "output_type": "stream",
     "text": [
      "随机森林包中的self.oob_score_ 0.9372916666666666\n",
      "{'max_depth': 13, 'min_samples_split': 10} 0.8093558873848273\n"
     ]
    }
   ],
   "source": [
    "rr = RandomForestClassifier(oob_score=True,\n",
    "                       n_estimators = 98,\n",
    "                       max_features='sqrt' , \n",
    "                       random_state=3)\n",
    "\n",
    "\n",
    "param_test1 = {'max_depth':range(11,14,1), 'min_samples_split':range(8,16,1)}\n",
    "# param_test1 = {\"max_depth\":range(5,8,1),'min_samples_split':range(8,16,1)}\n",
    "\n",
    "clfrr = GridSearchCV(estimator = rr,param_grid = param_test1,n_jobs = 3,scoring='roc_auc', cv=5)\n",
    "clfrr.fit(x_train,y_train)\n",
    "print( clfrr.best_params_, clfrr.best_score_)"
   ]
  },
  {
   "cell_type": "code",
   "execution_count": 73,
   "metadata": {},
   "outputs": [
    {
     "name": "stdout",
     "output_type": "stream",
     "text": [
      "随机森林包中的self.oob_score_ 0.9370833333333334\n",
      "{'min_samples_leaf': 12, 'min_samples_split': 8} 0.8154374718417898\n"
     ]
    }
   ],
   "source": [
    "rr = RandomForestClassifier(oob_score=True,\n",
    "                       n_estimators = 98,\n",
    "                       max_depth = 13,\n",
    "                       max_features='sqrt' , \n",
    "                       random_state=3)\n",
    "\n",
    "param_test1 = { 'min_samples_leaf':range(6,13,1),'min_samples_split':range(8,15,1)}\n",
    "\n",
    "\n",
    "clfrr = GridSearchCV(estimator = rr,param_grid = param_test1,n_jobs = 3,scoring='roc_auc', cv=5)\n",
    "clfrr.fit(x_train,y_train)\n",
    "print( clfrr.best_params_, clfrr.best_score_)"
   ]
  },
  {
   "cell_type": "code",
   "execution_count": 74,
   "metadata": {},
   "outputs": [
    {
     "name": "stdout",
     "output_type": "stream",
     "text": [
      "(24000, 461)\n",
      "(24000,)\n",
      "随机森林包中的self.oob_score_ 0.9370833333333334\n",
      "{'n_estimators': 107} 0.8160107950847911\n"
     ]
    }
   ],
   "source": [
    "print(x_train.shape)\n",
    "print(y_train.shape)\n",
    "rr = RandomForestClassifier(oob_score=True,\n",
    "                       n_estimators = 107,\n",
    "                       max_depth=13,\n",
    "                       min_samples_split = 8,\n",
    "                       min_samples_leaf=12,\n",
    "                       max_features='sqrt' , \n",
    "                       random_state=3)\n",
    "param_test1 = {\"n_estimators\":range(90,110,1)}\n",
    "\n",
    "clfrr = GridSearchCV(estimator = rr,n_jobs = 3,param_grid = param_test1,scoring='roc_auc', cv=5)\n",
    "clfrr.fit(x_train,y_train)\n",
    "print( clfrr.best_params_, clfrr.best_score_)  #180"
   ]
  },
  {
   "cell_type": "code",
   "execution_count": null,
   "metadata": {},
   "outputs": [],
   "source": []
  }
 ],
 "metadata": {
  "kernelspec": {
   "display_name": "Python 3",
   "language": "python",
   "name": "python3"
  },
  "language_info": {
   "codemirror_mode": {
    "name": "ipython",
    "version": 3
   },
   "file_extension": ".py",
   "mimetype": "text/x-python",
   "name": "python",
   "nbconvert_exporter": "python",
   "pygments_lexer": "ipython3",
   "version": "3.6.3rc1"
  }
 },
 "nbformat": 4,
 "nbformat_minor": 1
}
