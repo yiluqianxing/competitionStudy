{
 "cells": [
  {
   "cell_type": "markdown",
   "metadata": {},
   "source": [
    "## Import Libraries:"
   ]
  },
  {
   "cell_type": "code",
   "execution_count": 1,
   "metadata": {},
   "outputs": [
    {
     "name": "stderr",
     "output_type": "stream",
     "text": [
      "c:\\users\\llb\\appdata\\local\\programs\\python\\python36\\lib\\site-packages\\sklearn\\cross_validation.py:41: DeprecationWarning: This module was deprecated in version 0.18 in favor of the model_selection module into which all the refactored classes and functions are moved. Also note that the interface of the new CV iterators are different from that of this module. This module will be removed in 0.20.\n",
      "  \"This module will be removed in 0.20.\", DeprecationWarning)\n",
      "c:\\users\\llb\\appdata\\local\\programs\\python\\python36\\lib\\site-packages\\sklearn\\grid_search.py:42: DeprecationWarning: This module was deprecated in version 0.18 in favor of the model_selection module into which all the refactored classes and functions are moved. This module will be removed in 0.20.\n",
      "  DeprecationWarning)\n"
     ]
    },
    {
     "name": "stdout",
     "output_type": "stream",
     "text": [
      "llb\n"
     ]
    }
   ],
   "source": [
    "import pandas as pd\n",
    "import numpy as np\n",
    "import xgboost as xgb\n",
    "from xgboost.sklearn import XGBClassifier\n",
    "from sklearn import cross_validation, metrics\n",
    "from sklearn.grid_search import GridSearchCV\n",
    "\n",
    "import matplotlib.pylab as plt\n",
    "%matplotlib inline\n",
    "from matplotlib.pylab import rcParams\n",
    "rcParams['figure.figsize'] = 12, 4\n",
    "import numpy as np\n",
    "import pandas as pd\n",
    "from scipy.stats import mode\n",
    "import xgboost as xgb\n",
    "from xgboost import XGBRegressor,XGBClassifier\n",
    "from sklearn.metrics import mean_squared_error,roc_auc_score\n",
    "from sklearn.model_selection import GridSearchCV\n",
    "from sklearn.model_selection import KFold,StratifiedKFold\n",
    "from matplotlib import  pyplot\n",
    "import matplotlib.pyplot as plt\n",
    "import seaborn as sns\n",
    "from sklearn.ensemble import RandomForestRegressor"
   ]
  },
  {
   "cell_type": "code",
   "execution_count": 2,
   "metadata": {},
   "outputs": [
    {
     "name": "stdout",
     "output_type": "stream",
     "text": [
      "(40000, 462)\n"
     ]
    }
   ],
   "source": [
    "fulldata = pd.read_csv(\"../merge/fulltable_RandomForstRegressor_fill.csv\")   \n",
    "# fulldata = pd.read_csv(\"../merge/fulltable_No_fill.csv\")                                                                               \n",
    "print(fulldata.shape)"
   ]
  },
  {
   "cell_type": "code",
   "execution_count": 3,
   "metadata": {
    "scrolled": true
   },
   "outputs": [
    {
     "name": "stdout",
     "output_type": "stream",
     "text": [
      "AMOUNT_num                   0\n",
      "type_dw_more_4.0_x           0\n",
      "type_dw_more_10.0            0\n",
      "type_dw_more_18.0            0\n",
      "type_dw_more_19.0            0\n",
      "type_dw_more_23.0            0\n",
      "type_dw_more_28.0_x          0\n",
      "type_dw_more_31.0            0\n",
      "type_dw_more_32.0            0\n",
      "type_dw_less_1.0_x           0\n",
      "type_dw_less_2.0_x           0\n",
      "type_dw_less_4.0             0\n",
      "type_dw_less_6.0_x           0\n",
      "type_dw_less_7.0             0\n",
      "type_dw_less_9.0             0\n",
      "type_dw_less_18.0            0\n",
      "type_dw_less_21.0            0\n",
      "type_dw_less_24.0            0\n",
      "guarantee_type_more_2.0_x    0\n",
      "guarantee_type_more_4.0_x    0\n",
      "guarantee_type_more_7.0      0\n",
      "guarantee_type_more_10.0     0\n",
      "guarantee_type_more_15.0     0\n",
      "guarantee_type_more_16.0     0\n",
      "guarantee_type_more_17.0     0\n",
      "guarantee_type_more_19.0     0\n",
      "guarantee_type_more_22.0     0\n",
      "type_dw_more_6.0_x           0\n",
      "finance_org_less_2.0_x       0\n",
      "guarantee_type_less_2.0_x    0\n",
      "                            ..\n",
      "FINANCE_ORG_COUNT_zongshu    0\n",
      "guarantee_type_less_12.0     0\n",
      "guarantee_type_less_2.0_y    0\n",
      "guarantee_type_less_1.0      0\n",
      "currency_more_10.0           0\n",
      "finance_org_more_8.0         0\n",
      "finance_org_more_11.0        0\n",
      "finance_org_more_14.0        0\n",
      "finance_org_less_2.0_y       0\n",
      "finance_org_less_3.0         0\n",
      "currency_more_3.0            0\n",
      "currency_more_4.0            0\n",
      "currency_more_5.0            0\n",
      "currency_more_6.0            0\n",
      "currency_more_7.0            0\n",
      "currency_more_9.0            0\n",
      "currency_more_14.0           0\n",
      "guarantee_type_more_23.0     0\n",
      "currency_more_15.0           0\n",
      "currency_more_16.0           0\n",
      "currency_less_1.0            0\n",
      "currency_less_2.0            0\n",
      "currency_less_10.0           0\n",
      "guarantee_type_more_2.0_y    0\n",
      "guarantee_type_more_3.0      0\n",
      "guarantee_type_more_4.0_y    0\n",
      "guarantee_type_more_9.0      0\n",
      "guarantee_type_more_12.0     0\n",
      "guarantee_type_more_13.0     0\n",
      "REPORT_ID                    0\n",
      "Length: 462, dtype: int64\n"
     ]
    },
    {
     "data": {
      "text/html": [
       "<div>\n",
       "<style scoped>\n",
       "    .dataframe tbody tr th:only-of-type {\n",
       "        vertical-align: middle;\n",
       "    }\n",
       "\n",
       "    .dataframe tbody tr th {\n",
       "        vertical-align: top;\n",
       "    }\n",
       "\n",
       "    .dataframe thead th {\n",
       "        text-align: right;\n",
       "    }\n",
       "</style>\n",
       "<table border=\"1\" class=\"dataframe\">\n",
       "  <thead>\n",
       "    <tr style=\"text-align: right;\">\n",
       "      <th></th>\n",
       "      <th>REPORT_ID</th>\n",
       "      <th>AGENT_0</th>\n",
       "      <th>AGENT_1</th>\n",
       "      <th>AGENT_2</th>\n",
       "      <th>AGENT_3</th>\n",
       "      <th>AGENT_4</th>\n",
       "      <th>AGENT_5</th>\n",
       "      <th>AGENT_6</th>\n",
       "      <th>AGENT_7</th>\n",
       "      <th>AGENT_8</th>\n",
       "      <th>...</th>\n",
       "      <th>LAST_MONTHS_max</th>\n",
       "      <th>LAST_MONTHS_min</th>\n",
       "      <th>LAST_MONTHS_mean</th>\n",
       "      <th>LAST_MONTHS_zongshu</th>\n",
       "      <th>LAST_MONTHS_num</th>\n",
       "      <th>AMOUNT_max</th>\n",
       "      <th>AMOUNT_min</th>\n",
       "      <th>AMOUNT_mean</th>\n",
       "      <th>AMOUNTt_zongshu</th>\n",
       "      <th>AMOUNT_num</th>\n",
       "    </tr>\n",
       "  </thead>\n",
       "  <tbody>\n",
       "    <tr>\n",
       "      <th>0</th>\n",
       "      <td>8787</td>\n",
       "      <td>0</td>\n",
       "      <td>1</td>\n",
       "      <td>0</td>\n",
       "      <td>0</td>\n",
       "      <td>0</td>\n",
       "      <td>0</td>\n",
       "      <td>0</td>\n",
       "      <td>0</td>\n",
       "      <td>0</td>\n",
       "      <td>...</td>\n",
       "      <td>0.266667</td>\n",
       "      <td>0.0</td>\n",
       "      <td>0.15</td>\n",
       "      <td>0.019643</td>\n",
       "      <td>0.035802</td>\n",
       "      <td>0.040660</td>\n",
       "      <td>0.065798</td>\n",
       "      <td>0.050971</td>\n",
       "      <td>0.008108</td>\n",
       "      <td>0.037037</td>\n",
       "    </tr>\n",
       "    <tr>\n",
       "      <th>1</th>\n",
       "      <td>9410</td>\n",
       "      <td>0</td>\n",
       "      <td>0</td>\n",
       "      <td>0</td>\n",
       "      <td>0</td>\n",
       "      <td>0</td>\n",
       "      <td>0</td>\n",
       "      <td>0</td>\n",
       "      <td>0</td>\n",
       "      <td>0</td>\n",
       "      <td>...</td>\n",
       "      <td>0.000000</td>\n",
       "      <td>0.0</td>\n",
       "      <td>0.00</td>\n",
       "      <td>0.008929</td>\n",
       "      <td>0.000000</td>\n",
       "      <td>0.001661</td>\n",
       "      <td>0.000295</td>\n",
       "      <td>0.001959</td>\n",
       "      <td>0.005405</td>\n",
       "      <td>0.000000</td>\n",
       "    </tr>\n",
       "    <tr>\n",
       "      <th>2</th>\n",
       "      <td>22999</td>\n",
       "      <td>0</td>\n",
       "      <td>1</td>\n",
       "      <td>0</td>\n",
       "      <td>0</td>\n",
       "      <td>0</td>\n",
       "      <td>0</td>\n",
       "      <td>0</td>\n",
       "      <td>0</td>\n",
       "      <td>0</td>\n",
       "      <td>...</td>\n",
       "      <td>0.000000</td>\n",
       "      <td>0.0</td>\n",
       "      <td>0.00</td>\n",
       "      <td>0.008929</td>\n",
       "      <td>0.000000</td>\n",
       "      <td>0.001661</td>\n",
       "      <td>0.000295</td>\n",
       "      <td>0.001811</td>\n",
       "      <td>0.000000</td>\n",
       "      <td>0.000000</td>\n",
       "    </tr>\n",
       "    <tr>\n",
       "      <th>3</th>\n",
       "      <td>24820</td>\n",
       "      <td>0</td>\n",
       "      <td>1</td>\n",
       "      <td>0</td>\n",
       "      <td>0</td>\n",
       "      <td>0</td>\n",
       "      <td>0</td>\n",
       "      <td>0</td>\n",
       "      <td>0</td>\n",
       "      <td>0</td>\n",
       "      <td>...</td>\n",
       "      <td>0.000000</td>\n",
       "      <td>0.0</td>\n",
       "      <td>0.00</td>\n",
       "      <td>0.008929</td>\n",
       "      <td>0.000000</td>\n",
       "      <td>0.001088</td>\n",
       "      <td>0.000960</td>\n",
       "      <td>0.001403</td>\n",
       "      <td>0.000000</td>\n",
       "      <td>0.000000</td>\n",
       "    </tr>\n",
       "    <tr>\n",
       "      <th>4</th>\n",
       "      <td>25708</td>\n",
       "      <td>1</td>\n",
       "      <td>0</td>\n",
       "      <td>0</td>\n",
       "      <td>0</td>\n",
       "      <td>0</td>\n",
       "      <td>0</td>\n",
       "      <td>0</td>\n",
       "      <td>0</td>\n",
       "      <td>0</td>\n",
       "      <td>...</td>\n",
       "      <td>0.000000</td>\n",
       "      <td>0.0</td>\n",
       "      <td>0.00</td>\n",
       "      <td>0.017857</td>\n",
       "      <td>0.012346</td>\n",
       "      <td>0.001269</td>\n",
       "      <td>0.002420</td>\n",
       "      <td>0.002157</td>\n",
       "      <td>0.008108</td>\n",
       "      <td>0.012346</td>\n",
       "    </tr>\n",
       "  </tbody>\n",
       "</table>\n",
       "<p>5 rows × 462 columns</p>\n",
       "</div>"
      ],
      "text/plain": [
       "   REPORT_ID  AGENT_0  AGENT_1  AGENT_2  AGENT_3  AGENT_4  AGENT_5  AGENT_6  \\\n",
       "0       8787        0        1        0        0        0        0        0   \n",
       "1       9410        0        0        0        0        0        0        0   \n",
       "2      22999        0        1        0        0        0        0        0   \n",
       "3      24820        0        1        0        0        0        0        0   \n",
       "4      25708        1        0        0        0        0        0        0   \n",
       "\n",
       "   AGENT_7  AGENT_8     ...      LAST_MONTHS_max  LAST_MONTHS_min  \\\n",
       "0        0        0     ...             0.266667              0.0   \n",
       "1        0        0     ...             0.000000              0.0   \n",
       "2        0        0     ...             0.000000              0.0   \n",
       "3        0        0     ...             0.000000              0.0   \n",
       "4        0        0     ...             0.000000              0.0   \n",
       "\n",
       "   LAST_MONTHS_mean  LAST_MONTHS_zongshu  LAST_MONTHS_num  AMOUNT_max  \\\n",
       "0              0.15             0.019643         0.035802    0.040660   \n",
       "1              0.00             0.008929         0.000000    0.001661   \n",
       "2              0.00             0.008929         0.000000    0.001661   \n",
       "3              0.00             0.008929         0.000000    0.001088   \n",
       "4              0.00             0.017857         0.012346    0.001269   \n",
       "\n",
       "   AMOUNT_min  AMOUNT_mean  AMOUNTt_zongshu  AMOUNT_num  \n",
       "0    0.065798     0.050971         0.008108    0.037037  \n",
       "1    0.000295     0.001959         0.005405    0.000000  \n",
       "2    0.000295     0.001811         0.000000    0.000000  \n",
       "3    0.000960     0.001403         0.000000    0.000000  \n",
       "4    0.002420     0.002157         0.008108    0.012346  \n",
       "\n",
       "[5 rows x 462 columns]"
      ]
     },
     "execution_count": 3,
     "metadata": {},
     "output_type": "execute_result"
    }
   ],
   "source": [
    "print(fulldata.isnull().sum().sort_values(ascending = False))\n",
    "fulldata.head()\n"
   ]
  },
  {
   "cell_type": "code",
   "execution_count": 5,
   "metadata": {},
   "outputs": [
    {
     "name": "stdout",
     "output_type": "stream",
     "text": [
      "(30000, 463) (10000, 462)\n"
     ]
    },
    {
     "data": {
      "text/plain": [
       "(   REPORT_ID  Y  AGENT_0  AGENT_1  AGENT_2  AGENT_3  AGENT_4  AGENT_5  \\\n",
       " 0       8787  0        0        1        0        0        0        0   \n",
       " 1       9410  0        0        0        0        0        0        0   \n",
       " 2      22999  0        0        1        0        0        0        0   \n",
       " 3      24820  1        0        1        0        0        0        0   \n",
       " 4      25708  0        1        0        0        0        0        0   \n",
       " \n",
       "    AGENT_6  AGENT_7     ...      LAST_MONTHS_max  LAST_MONTHS_min  \\\n",
       " 0        0        0     ...             0.266667              0.0   \n",
       " 1        0        0     ...             0.000000              0.0   \n",
       " 2        0        0     ...             0.000000              0.0   \n",
       " 3        0        0     ...             0.000000              0.0   \n",
       " 4        0        0     ...             0.000000              0.0   \n",
       " \n",
       "    LAST_MONTHS_mean  LAST_MONTHS_zongshu  LAST_MONTHS_num  AMOUNT_max  \\\n",
       " 0              0.15             0.019643         0.035802    0.040660   \n",
       " 1              0.00             0.008929         0.000000    0.001661   \n",
       " 2              0.00             0.008929         0.000000    0.001661   \n",
       " 3              0.00             0.008929         0.000000    0.001088   \n",
       " 4              0.00             0.017857         0.012346    0.001269   \n",
       " \n",
       "    AMOUNT_min  AMOUNT_mean  AMOUNTt_zongshu  AMOUNT_num  \n",
       " 0    0.065798     0.050971         0.008108    0.037037  \n",
       " 1    0.000295     0.001959         0.005405    0.000000  \n",
       " 2    0.000295     0.001811         0.000000    0.000000  \n",
       " 3    0.000960     0.001403         0.000000    0.000000  \n",
       " 4    0.002420     0.002157         0.008108    0.012346  \n",
       " \n",
       " [5 rows x 463 columns],\n",
       "    REPORT_ID  AGENT_0  AGENT_1  AGENT_2  AGENT_3  AGENT_4  AGENT_5  AGENT_6  \\\n",
       " 0    7754420        1        0        0        0        0        0        0   \n",
       " 1    8709548        0        1        0        0        0        0        0   \n",
       " 2    8753538        1        0        0        0        0        0        0   \n",
       " 3    8101125        0        0        0        0        1        0        0   \n",
       " 4    8572887        1        0        0        0        0        0        0   \n",
       " \n",
       "    AGENT_7  AGENT_8     ...      LAST_MONTHS_max  LAST_MONTHS_min  \\\n",
       " 0        0        0     ...                  0.0             0.00   \n",
       " 1        0        0     ...                  0.0             0.00   \n",
       " 2        0        0     ...                  0.0             0.05   \n",
       " 3        0        0     ...                  0.3             0.00   \n",
       " 4        0        0     ...                  0.0             0.00   \n",
       " \n",
       "    LAST_MONTHS_mean  LAST_MONTHS_zongshu  LAST_MONTHS_num  AMOUNT_max  \\\n",
       " 0          0.000000             0.008929         0.000000    0.001630   \n",
       " 1          0.000000             0.012500         0.000000    0.001493   \n",
       " 2          0.000000             0.008929         0.000000    0.001661   \n",
       " 3          0.116667             0.033929         0.039506    0.033318   \n",
       " 4          0.000000             0.080357         0.049383    0.014363   \n",
       " \n",
       "    AMOUNT_min  AMOUNT_mean  AMOUNTt_zongshu  AMOUNT_num  \n",
       " 0    0.003959     0.002675         0.000000    0.000000  \n",
       " 1    0.000436     0.001835         0.000000    0.000000  \n",
       " 2    0.000295     0.001883         0.000000    0.000000  \n",
       " 3    0.003159     0.020250         0.008108    0.037037  \n",
       " 4    0.001354     0.005424         0.054054    0.049383  \n",
       " \n",
       " [5 rows x 462 columns])"
      ]
     },
     "execution_count": 5,
     "metadata": {},
     "output_type": "execute_result"
    }
   ],
   "source": [
    "\n",
    "basic_train = pd.read_csv(\"../input/contest_basic_train.tsv\",sep = '\\t')\n",
    "basic_test = pd.read_csv(\"../input/contest_basic_test.tsv\",sep = '\\t')\n",
    "\n",
    "mm = pd.concat([basic_train['REPORT_ID'],basic_train['Y']],axis = 1)\n",
    "train = mm.merge(fulldata,how = 'left',left_on = 'REPORT_ID',right_on = 'REPORT_ID')\n",
    "# print(train.isnull().sum().sort_values(ascending = False))\n",
    "\n",
    "nn = pd.DataFrame(basic_test['REPORT_ID'],columns = ['REPORT_ID'])\n",
    "test = nn.merge(fulldata,how = 'left',left_on = 'REPORT_ID',right_on = 'REPORT_ID')\n",
    "print(train.shape,test.shape)\n",
    "train.head(),test.head()"
   ]
  },
  {
   "cell_type": "code",
   "execution_count": 7,
   "metadata": {},
   "outputs": [
    {
     "name": "stdout",
     "output_type": "stream",
     "text": [
      "(30000, 461) (30000,)\n"
     ]
    },
    {
     "data": {
      "text/plain": [
       "(   AGENT_0  AGENT_1  AGENT_2  AGENT_3  AGENT_4  AGENT_5  AGENT_6  AGENT_7  \\\n",
       " 0        0        1        0        0        0        0        0        0   \n",
       " 1        0        0        0        0        0        0        0        0   \n",
       " 2        0        1        0        0        0        0        0        0   \n",
       " 3        0        1        0        0        0        0        0        0   \n",
       " 4        1        0        0        0        0        0        0        0   \n",
       " \n",
       "    AGENT_8  AGENT_9     ...      LAST_MONTHS_max  LAST_MONTHS_min  \\\n",
       " 0        0        0     ...             0.266667              0.0   \n",
       " 1        0        0     ...             0.000000              0.0   \n",
       " 2        0        0     ...             0.000000              0.0   \n",
       " 3        0        0     ...             0.000000              0.0   \n",
       " 4        0        0     ...             0.000000              0.0   \n",
       " \n",
       "    LAST_MONTHS_mean  LAST_MONTHS_zongshu  LAST_MONTHS_num  AMOUNT_max  \\\n",
       " 0              0.15             0.019643         0.035802    0.040660   \n",
       " 1              0.00             0.008929         0.000000    0.001661   \n",
       " 2              0.00             0.008929         0.000000    0.001661   \n",
       " 3              0.00             0.008929         0.000000    0.001088   \n",
       " 4              0.00             0.017857         0.012346    0.001269   \n",
       " \n",
       "    AMOUNT_min  AMOUNT_mean  AMOUNTt_zongshu  AMOUNT_num  \n",
       " 0    0.065798     0.050971         0.008108    0.037037  \n",
       " 1    0.000295     0.001959         0.005405    0.000000  \n",
       " 2    0.000295     0.001811         0.000000    0.000000  \n",
       " 3    0.000960     0.001403         0.000000    0.000000  \n",
       " 4    0.002420     0.002157         0.008108    0.012346  \n",
       " \n",
       " [5 rows x 461 columns], 0    0\n",
       " 1    0\n",
       " 2    0\n",
       " 3    1\n",
       " 4    0\n",
       " Name: Y, dtype: int64)"
      ]
     },
     "execution_count": 7,
     "metadata": {},
     "output_type": "execute_result"
    }
   ],
   "source": [
    "trainx = train.iloc[:,2:]\n",
    "trainy = train.iloc[:,1]\n",
    "print(trainx.shape,trainy.shape)\n",
    "trainx.head(),trainy.head()"
   ]
  },
  {
   "cell_type": "code",
   "execution_count": 8,
   "metadata": {
    "scrolled": false
   },
   "outputs": [
    {
     "data": {
      "text/plain": [
       "0    28125\n",
       "1     1875\n",
       "Name: Y, dtype: int64"
      ]
     },
     "execution_count": 8,
     "metadata": {},
     "output_type": "execute_result"
    }
   ],
   "source": [
    "trainy.value_counts()"
   ]
  },
  {
   "cell_type": "markdown",
   "metadata": {},
   "source": [
    "## Define a function for modeling and cross-validation\n",
    "1.通过XGboost 自带的XGboostcv和earning 获得所需要的树的数目\n",
    "2.其他关键参数通过 网格搜索 寻找\n",
    "http://blog.csdn.net/q383700092/article/details/53763328"
   ]
  },
  {
   "cell_type": "markdown",
   "metadata": {},
   "source": [
    "## Step 1- Find the number of estimators for a high learning rate"
   ]
  },
  {
   "cell_type": "code",
   "execution_count": 9,
   "metadata": {},
   "outputs": [
    {
     "name": "stdout",
     "output_type": "stream",
     "text": [
      "trainx.shape (30000, 461)\n",
      "trainy.shape (30000,)\n",
      "x_train.shape (24000, 461)\n",
      "x_valid.shape (6000, 461)\n",
      "y_train.shape (24000,)\n",
      "y_valid.shape (6000,)\n"
     ]
    }
   ],
   "source": [
    "print(\"trainx.shape\",trainx.shape)\n",
    "print(\"trainy.shape\",trainy.shape)\n",
    "from sklearn.cross_validation import train_test_split\n",
    "x_train,x_valid,y_train,y_valid = train_test_split(trainx,trainy,test_size = 0.2,random_state = 2)  \n",
    "print(\"x_train.shape\",x_train.shape)\n",
    "print(\"x_valid.shape\",x_valid.shape)\n",
    "print(\"y_train.shape\",y_train.shape)\n",
    "print(\"y_valid.shape\",y_valid.shape)"
   ]
  },
  {
   "cell_type": "code",
   "execution_count": null,
   "metadata": {},
   "outputs": [
    {
     "name": "stdout",
     "output_type": "stream",
     "text": [
      "(24000, 461)\n"
     ]
    }
   ],
   "source": [
    "# x_train = trainx\n",
    "# y_train = trainy\n",
    "print(x_train.shape)\n",
    "skf = StratifiedKFold(n_splits=5)\n",
    "xgb1 = XGBClassifier(\n",
    "        booster = 'dart',\n",
    "        learning_rate =0.1,\n",
    "        n_estimators=1000,\n",
    "        max_depth=5,\n",
    "        min_child_weight=5,\n",
    "        gamma=0.1,\n",
    "        subsample=0.8,\n",
    "        colsample_bytree=0.8,\n",
    "        objective= 'binary:logistic',\n",
    "        nthread=4,\n",
    "        scale_pos_weight=1,\n",
    "        StratifiedKFold = True,          #0.866124\t0.008005\t0.965337\t0.002286\n",
    "        seed=1)\n",
    "xgb_param = xgb1.get_xgb_params()\n",
    "#构建稀疏矩阵，运行更快\n",
    "xgtrain = xgb.DMatrix(x_train, label = y_train)\n",
    "# xgtest =xgb.DMatrix(dtest[predictors].values)   \n",
    "mm = xgb.cv(xgb_param, xgtrain, num_boost_round=1000, nfold=10,\n",
    "    metrics='auc', early_stopping_rounds=50)\n",
    "mm.iloc[-3:,:]\n",
    "#0.2比例数据用于训练： 0.867883\t0.006550\t0.957971\t0.001910   \n",
    "    #seed = 1：0.867687\t0.003652\t0.968111\t0.001480\n",
    "    #seed = 3：0.866441\t0.007777\t0.950949\t0.001576\n",
    "#全部数据用于训练     0.874547\t0.007870\t0.959760\t0.000931   5\n",
    "#全部数据用于训练     0.875289\t0.008347\t0.949510\t0.001448   10"
   ]
  },
  {
   "cell_type": "code",
   "execution_count": 17,
   "metadata": {},
   "outputs": [
    {
     "name": "stdout",
     "output_type": "stream",
     "text": [
      "0\n",
      "1\n",
      "2\n",
      "3\n",
      "4\n"
     ]
    }
   ],
   "source": [
    "feature = 0\n",
    "for i in range(5):\n",
    "    xgb2 = XGBClassifier(\n",
    "            learning_rate =0.1,\n",
    "            n_estimators=mm.shape[0],\n",
    "            max_depth=5,\n",
    "            min_child_weight=5,\n",
    "            gamma=0.1,\n",
    "            subsample=0.8,\n",
    "            colsample_bytree=0.8,\n",
    "            objective= 'binary:logistic',\n",
    "            nthread=4,\n",
    "            scale_pos_weight=1,   #15:1\n",
    "            StratifiedKFold = True,\n",
    "            seed=27)\n",
    "    xgb2.fit(trainx,trainy)\n",
    "    feature += xgb2.feature_importances_\n",
    "    print(i)\n",
    "feature = feature/5\n"
   ]
  },
  {
   "cell_type": "code",
   "execution_count": 20,
   "metadata": {},
   "outputs": [
    {
     "data": {
      "text/html": [
       "<div>\n",
       "<style scoped>\n",
       "    .dataframe tbody tr th:only-of-type {\n",
       "        vertical-align: middle;\n",
       "    }\n",
       "\n",
       "    .dataframe tbody tr th {\n",
       "        vertical-align: top;\n",
       "    }\n",
       "\n",
       "    .dataframe thead th {\n",
       "        text-align: right;\n",
       "    }\n",
       "</style>\n",
       "<table border=\"1\" class=\"dataframe\">\n",
       "  <thead>\n",
       "    <tr style=\"text-align: right;\">\n",
       "      <th></th>\n",
       "      <th>importaances</th>\n",
       "    </tr>\n",
       "  </thead>\n",
       "  <tbody>\n",
       "    <tr>\n",
       "      <th>birth_longitude</th>\n",
       "      <td>0.072883</td>\n",
       "    </tr>\n",
       "    <tr>\n",
       "      <th>birth_latitude</th>\n",
       "      <td>0.051447</td>\n",
       "    </tr>\n",
       "    <tr>\n",
       "      <th>work_latitude</th>\n",
       "      <td>0.032154</td>\n",
       "    </tr>\n",
       "    <tr>\n",
       "      <th>work_longitude</th>\n",
       "      <td>0.023580</td>\n",
       "    </tr>\n",
       "    <tr>\n",
       "      <th>end_dateCutopen_date_min</th>\n",
       "      <td>0.021972</td>\n",
       "    </tr>\n",
       "    <tr>\n",
       "      <th>open_date_mean_y</th>\n",
       "      <td>0.021436</td>\n",
       "    </tr>\n",
       "    <tr>\n",
       "      <th>is_diff1_0</th>\n",
       "      <td>0.019829</td>\n",
       "    </tr>\n",
       "    <tr>\n",
       "      <th>open_date_min_y</th>\n",
       "      <td>0.016077</td>\n",
       "    </tr>\n",
       "    <tr>\n",
       "      <th>scheduled_payment_amountCutactual_payment_amount_min_y</th>\n",
       "      <td>0.013398</td>\n",
       "    </tr>\n",
       "    <tr>\n",
       "      <th>CREDIT_LIMITCutBALANCE_mean</th>\n",
       "      <td>0.013398</td>\n",
       "    </tr>\n",
       "    <tr>\n",
       "      <th>AGENT_1</th>\n",
       "      <td>0.011790</td>\n",
       "    </tr>\n",
       "    <tr>\n",
       "      <th>scheduled_payment_dateCutrecent_pay_date_min_y</th>\n",
       "      <td>0.011254</td>\n",
       "    </tr>\n",
       "    <tr>\n",
       "      <th>credit_limit_amountCutused_credit_limit_amount_min</th>\n",
       "      <td>0.011254</td>\n",
       "    </tr>\n",
       "    <tr>\n",
       "      <th>share_credit_limit_amountCutused_credit_limit_amount_mean</th>\n",
       "      <td>0.010718</td>\n",
       "    </tr>\n",
       "    <tr>\n",
       "      <th>EDU_LEVEL_2</th>\n",
       "      <td>0.010718</td>\n",
       "    </tr>\n",
       "    <tr>\n",
       "      <th>USED_CREDIT_LIMIT_max</th>\n",
       "      <td>0.010182</td>\n",
       "    </tr>\n",
       "    <tr>\n",
       "      <th>scheduled_payment_amountCutactual_payment_amount_mean_y</th>\n",
       "      <td>0.009646</td>\n",
       "    </tr>\n",
       "    <tr>\n",
       "      <th>day</th>\n",
       "      <td>0.009646</td>\n",
       "    </tr>\n",
       "    <tr>\n",
       "      <th>USED_CREDIT_LIMIT_mean</th>\n",
       "      <td>0.009646</td>\n",
       "    </tr>\n",
       "    <tr>\n",
       "      <th>scheduled_payment_dateCutrecent_pay_date_min_x</th>\n",
       "      <td>0.009646</td>\n",
       "    </tr>\n",
       "    <tr>\n",
       "      <th>SALARY</th>\n",
       "      <td>0.009110</td>\n",
       "    </tr>\n",
       "    <tr>\n",
       "      <th>month_6</th>\n",
       "      <td>0.009110</td>\n",
       "    </tr>\n",
       "    <tr>\n",
       "      <th>end_date_min</th>\n",
       "      <td>0.009110</td>\n",
       "    </tr>\n",
       "    <tr>\n",
       "      <th>CREDIT_LIMITCutBALANCE_max</th>\n",
       "      <td>0.008574</td>\n",
       "    </tr>\n",
       "    <tr>\n",
       "      <th>scheduled_payment_dateCutrecent_pay_date_mean_x</th>\n",
       "      <td>0.008574</td>\n",
       "    </tr>\n",
       "    <tr>\n",
       "      <th>LATEST_6M_USED_AVG_AMOUNT_mean</th>\n",
       "      <td>0.008574</td>\n",
       "    </tr>\n",
       "    <tr>\n",
       "      <th>scheduled_payment_dateCutrecent_pay_date_mean_y</th>\n",
       "      <td>0.008039</td>\n",
       "    </tr>\n",
       "    <tr>\n",
       "      <th>scheduled_payment_amountCutactual_payment_amount_max_y</th>\n",
       "      <td>0.008039</td>\n",
       "    </tr>\n",
       "    <tr>\n",
       "      <th>scheduled_payment_dateCutrecent_pay_date_max_x</th>\n",
       "      <td>0.007503</td>\n",
       "    </tr>\n",
       "    <tr>\n",
       "      <th>AMOUNT_min</th>\n",
       "      <td>0.007503</td>\n",
       "    </tr>\n",
       "    <tr>\n",
       "      <th>...</th>\n",
       "      <td>...</td>\n",
       "    </tr>\n",
       "    <tr>\n",
       "      <th>MARRY_STATUS_2</th>\n",
       "      <td>0.000000</td>\n",
       "    </tr>\n",
       "    <tr>\n",
       "      <th>guarantee_type_more_7.0</th>\n",
       "      <td>0.000000</td>\n",
       "    </tr>\n",
       "    <tr>\n",
       "      <th>guarantee_type_less_14.0</th>\n",
       "      <td>0.000000</td>\n",
       "    </tr>\n",
       "    <tr>\n",
       "      <th>finance_org_more_11.0</th>\n",
       "      <td>0.000000</td>\n",
       "    </tr>\n",
       "    <tr>\n",
       "      <th>currency_more_15.0</th>\n",
       "      <td>0.000000</td>\n",
       "    </tr>\n",
       "    <tr>\n",
       "      <th>finance_org_more_14.0</th>\n",
       "      <td>0.000000</td>\n",
       "    </tr>\n",
       "    <tr>\n",
       "      <th>finance_org_less_2.0_y</th>\n",
       "      <td>0.000000</td>\n",
       "    </tr>\n",
       "    <tr>\n",
       "      <th>finance_org_less_3.0</th>\n",
       "      <td>0.000000</td>\n",
       "    </tr>\n",
       "    <tr>\n",
       "      <th>currency_more_3.0</th>\n",
       "      <td>0.000000</td>\n",
       "    </tr>\n",
       "    <tr>\n",
       "      <th>currency_more_4.0</th>\n",
       "      <td>0.000000</td>\n",
       "    </tr>\n",
       "    <tr>\n",
       "      <th>currency_more_5.0</th>\n",
       "      <td>0.000000</td>\n",
       "    </tr>\n",
       "    <tr>\n",
       "      <th>guarantee_type_more_22.0</th>\n",
       "      <td>0.000000</td>\n",
       "    </tr>\n",
       "    <tr>\n",
       "      <th>currency_more_7.0</th>\n",
       "      <td>0.000000</td>\n",
       "    </tr>\n",
       "    <tr>\n",
       "      <th>currency_more_9.0</th>\n",
       "      <td>0.000000</td>\n",
       "    </tr>\n",
       "    <tr>\n",
       "      <th>guarantee_type_more_19.0</th>\n",
       "      <td>0.000000</td>\n",
       "    </tr>\n",
       "    <tr>\n",
       "      <th>guarantee_type_more_17.0</th>\n",
       "      <td>0.000000</td>\n",
       "    </tr>\n",
       "    <tr>\n",
       "      <th>currency_more_16.0</th>\n",
       "      <td>0.000000</td>\n",
       "    </tr>\n",
       "    <tr>\n",
       "      <th>guarantee_type_less_12.0</th>\n",
       "      <td>0.000000</td>\n",
       "    </tr>\n",
       "    <tr>\n",
       "      <th>currency_less_1.0</th>\n",
       "      <td>0.000000</td>\n",
       "    </tr>\n",
       "    <tr>\n",
       "      <th>guarantee_type_more_16.0</th>\n",
       "      <td>0.000000</td>\n",
       "    </tr>\n",
       "    <tr>\n",
       "      <th>currency_less_10.0</th>\n",
       "      <td>0.000000</td>\n",
       "    </tr>\n",
       "    <tr>\n",
       "      <th>guarantee_type_more_2.0_y</th>\n",
       "      <td>0.000000</td>\n",
       "    </tr>\n",
       "    <tr>\n",
       "      <th>guarantee_type_more_15.0</th>\n",
       "      <td>0.000000</td>\n",
       "    </tr>\n",
       "    <tr>\n",
       "      <th>guarantee_type_more_9.0</th>\n",
       "      <td>0.000000</td>\n",
       "    </tr>\n",
       "    <tr>\n",
       "      <th>guarantee_type_more_12.0</th>\n",
       "      <td>0.000000</td>\n",
       "    </tr>\n",
       "    <tr>\n",
       "      <th>guarantee_type_more_13.0</th>\n",
       "      <td>0.000000</td>\n",
       "    </tr>\n",
       "    <tr>\n",
       "      <th>guarantee_type_more_23.0</th>\n",
       "      <td>0.000000</td>\n",
       "    </tr>\n",
       "    <tr>\n",
       "      <th>guarantee_type_less_1.0</th>\n",
       "      <td>0.000000</td>\n",
       "    </tr>\n",
       "    <tr>\n",
       "      <th>guarantee_type_less_2.0_y</th>\n",
       "      <td>0.000000</td>\n",
       "    </tr>\n",
       "    <tr>\n",
       "      <th>AMOUNT_num</th>\n",
       "      <td>0.000000</td>\n",
       "    </tr>\n",
       "  </tbody>\n",
       "</table>\n",
       "<p>461 rows × 1 columns</p>\n",
       "</div>"
      ],
      "text/plain": [
       "                                                    importaances\n",
       "birth_longitude                                         0.072883\n",
       "birth_latitude                                          0.051447\n",
       "work_latitude                                           0.032154\n",
       "work_longitude                                          0.023580\n",
       "end_dateCutopen_date_min                                0.021972\n",
       "open_date_mean_y                                        0.021436\n",
       "is_diff1_0                                              0.019829\n",
       "open_date_min_y                                         0.016077\n",
       "scheduled_payment_amountCutactual_payment_amoun...      0.013398\n",
       "CREDIT_LIMITCutBALANCE_mean                             0.013398\n",
       "AGENT_1                                                 0.011790\n",
       "scheduled_payment_dateCutrecent_pay_date_min_y          0.011254\n",
       "credit_limit_amountCutused_credit_limit_amount_min      0.011254\n",
       "share_credit_limit_amountCutused_credit_limit_a...      0.010718\n",
       "EDU_LEVEL_2                                             0.010718\n",
       "USED_CREDIT_LIMIT_max                                   0.010182\n",
       "scheduled_payment_amountCutactual_payment_amoun...      0.009646\n",
       "day                                                     0.009646\n",
       "USED_CREDIT_LIMIT_mean                                  0.009646\n",
       "scheduled_payment_dateCutrecent_pay_date_min_x          0.009646\n",
       "SALARY                                                  0.009110\n",
       "month_6                                                 0.009110\n",
       "end_date_min                                            0.009110\n",
       "CREDIT_LIMITCutBALANCE_max                              0.008574\n",
       "scheduled_payment_dateCutrecent_pay_date_mean_x         0.008574\n",
       "LATEST_6M_USED_AVG_AMOUNT_mean                          0.008574\n",
       "scheduled_payment_dateCutrecent_pay_date_mean_y         0.008039\n",
       "scheduled_payment_amountCutactual_payment_amoun...      0.008039\n",
       "scheduled_payment_dateCutrecent_pay_date_max_x          0.007503\n",
       "AMOUNT_min                                              0.007503\n",
       "...                                                          ...\n",
       "MARRY_STATUS_2                                          0.000000\n",
       "guarantee_type_more_7.0                                 0.000000\n",
       "guarantee_type_less_14.0                                0.000000\n",
       "finance_org_more_11.0                                   0.000000\n",
       "currency_more_15.0                                      0.000000\n",
       "finance_org_more_14.0                                   0.000000\n",
       "finance_org_less_2.0_y                                  0.000000\n",
       "finance_org_less_3.0                                    0.000000\n",
       "currency_more_3.0                                       0.000000\n",
       "currency_more_4.0                                       0.000000\n",
       "currency_more_5.0                                       0.000000\n",
       "guarantee_type_more_22.0                                0.000000\n",
       "currency_more_7.0                                       0.000000\n",
       "currency_more_9.0                                       0.000000\n",
       "guarantee_type_more_19.0                                0.000000\n",
       "guarantee_type_more_17.0                                0.000000\n",
       "currency_more_16.0                                      0.000000\n",
       "guarantee_type_less_12.0                                0.000000\n",
       "currency_less_1.0                                       0.000000\n",
       "guarantee_type_more_16.0                                0.000000\n",
       "currency_less_10.0                                      0.000000\n",
       "guarantee_type_more_2.0_y                               0.000000\n",
       "guarantee_type_more_15.0                                0.000000\n",
       "guarantee_type_more_9.0                                 0.000000\n",
       "guarantee_type_more_12.0                                0.000000\n",
       "guarantee_type_more_13.0                                0.000000\n",
       "guarantee_type_more_23.0                                0.000000\n",
       "guarantee_type_less_1.0                                 0.000000\n",
       "guarantee_type_less_2.0_y                               0.000000\n",
       "AMOUNT_num                                              0.000000\n",
       "\n",
       "[461 rows x 1 columns]"
      ]
     },
     "execution_count": 20,
     "metadata": {},
     "output_type": "execute_result"
    }
   ],
   "source": [
    "label = trainx.columns\n",
    "\n",
    "feature = pd.DataFrame(feature,columns = ['importaances'],index = x_train.columns)\n",
    "feature.sort_values(['importaances'], ascending = False )"
   ]
  },
  {
   "cell_type": "code",
   "execution_count": 25,
   "metadata": {},
   "outputs": [
    {
     "data": {
      "image/png": "[encoded data removed]",
      "text/plain": [
       "<matplotlib.figure.Figure at 0x1678a748550>"
      ]
     },
     "metadata": {},
     "output_type": "display_data"
    },
    {
     "data": {
      "text/html": [
       "<div>\n",
       "<style scoped>\n",
       "    .dataframe tbody tr th:only-of-type {\n",
       "        vertical-align: middle;\n",
       "    }\n",
       "\n",
       "    .dataframe tbody tr th {\n",
       "        vertical-align: top;\n",
       "    }\n",
       "\n",
       "    .dataframe thead th {\n",
       "        text-align: right;\n",
       "    }\n",
       "</style>\n",
       "<table border=\"1\" class=\"dataframe\">\n",
       "  <thead>\n",
       "    <tr style=\"text-align: right;\">\n",
       "      <th></th>\n",
       "      <th>importances</th>\n",
       "    </tr>\n",
       "  </thead>\n",
       "  <tbody>\n",
       "    <tr>\n",
       "      <th>birth_longitude</th>\n",
       "      <td>0.072883</td>\n",
       "    </tr>\n",
       "    <tr>\n",
       "      <th>birth_latitude</th>\n",
       "      <td>0.051447</td>\n",
       "    </tr>\n",
       "    <tr>\n",
       "      <th>work_latitude</th>\n",
       "      <td>0.032154</td>\n",
       "    </tr>\n",
       "    <tr>\n",
       "      <th>work_longitude</th>\n",
       "      <td>0.023580</td>\n",
       "    </tr>\n",
       "    <tr>\n",
       "      <th>end_dateCutopen_date_min</th>\n",
       "      <td>0.021972</td>\n",
       "    </tr>\n",
       "    <tr>\n",
       "      <th>open_date_mean_y</th>\n",
       "      <td>0.021436</td>\n",
       "    </tr>\n",
       "    <tr>\n",
       "      <th>is_diff1_0</th>\n",
       "      <td>0.019829</td>\n",
       "    </tr>\n",
       "    <tr>\n",
       "      <th>open_date_min_y</th>\n",
       "      <td>0.016077</td>\n",
       "    </tr>\n",
       "    <tr>\n",
       "      <th>scheduled_payment_amountCutactual_payment_amount_min_y</th>\n",
       "      <td>0.013398</td>\n",
       "    </tr>\n",
       "    <tr>\n",
       "      <th>CREDIT_LIMITCutBALANCE_mean</th>\n",
       "      <td>0.013398</td>\n",
       "    </tr>\n",
       "    <tr>\n",
       "      <th>AGENT_1</th>\n",
       "      <td>0.011790</td>\n",
       "    </tr>\n",
       "    <tr>\n",
       "      <th>scheduled_payment_dateCutrecent_pay_date_min_y</th>\n",
       "      <td>0.011254</td>\n",
       "    </tr>\n",
       "    <tr>\n",
       "      <th>credit_limit_amountCutused_credit_limit_amount_min</th>\n",
       "      <td>0.011254</td>\n",
       "    </tr>\n",
       "    <tr>\n",
       "      <th>EDU_LEVEL_2</th>\n",
       "      <td>0.010718</td>\n",
       "    </tr>\n",
       "    <tr>\n",
       "      <th>share_credit_limit_amountCutused_credit_limit_amount_mean</th>\n",
       "      <td>0.010718</td>\n",
       "    </tr>\n",
       "  </tbody>\n",
       "</table>\n",
       "</div>"
      ],
      "text/plain": [
       "                                                    importances\n",
       "birth_longitude                                        0.072883\n",
       "birth_latitude                                         0.051447\n",
       "work_latitude                                          0.032154\n",
       "work_longitude                                         0.023580\n",
       "end_dateCutopen_date_min                               0.021972\n",
       "open_date_mean_y                                       0.021436\n",
       "is_diff1_0                                             0.019829\n",
       "open_date_min_y                                        0.016077\n",
       "scheduled_payment_amountCutactual_payment_amoun...     0.013398\n",
       "CREDIT_LIMITCutBALANCE_mean                            0.013398\n",
       "AGENT_1                                                0.011790\n",
       "scheduled_payment_dateCutrecent_pay_date_min_y         0.011254\n",
       "credit_limit_amountCutused_credit_limit_amount_min     0.011254\n",
       "EDU_LEVEL_2                                            0.010718\n",
       "share_credit_limit_amountCutused_credit_limit_a...     0.010718"
      ]
     },
     "execution_count": 25,
     "metadata": {},
     "output_type": "execute_result"
    }
   ],
   "source": [
    "xgb2.fit(trainx,trainy)\n",
    "feature = xgb2.feature_importances_\n",
    "importance = xgb2.feature_importances_\n",
    "\n",
    "imp = pd.DataFrame(importance,columns=['importances'],index=x_train.columns)\n",
    "# print(\"imp\",imp)\n",
    "# print(\"........////////\")\n",
    "\n",
    "# imp1 = imp.ix[imp.importances>0.0006,:]\n",
    "imp1 = imp1.sort_values(['importances' ], ascending = False )\n",
    "imp1[0:15].plot(kind='barh',title=u'feature importances')\n",
    "plt.ylabel = 'Area'\n",
    "plt.xlabel = 'importances'\n",
    "plt.show()\n",
    "imp1[0:15]\n"
   ]
  },
  {
   "cell_type": "code",
   "execution_count": 36,
   "metadata": {},
   "outputs": [],
   "source": [
    "from sklearn.model_selection import cross_val_score\n",
    "from sklearn.model_selection import StratifiedKFold\n",
    "# from scikitplot import plotters as skplt\n",
    "\n",
    "from sklearn.linear_model import LogisticRegression\n",
    "from sklearn.linear_model import RidgeClassifier\n",
    "from sklearn.ensemble import RandomForestClassifier\n",
    "from sklearn.ensemble import AdaBoostClassifier\n",
    "from xgboost import XGBClassifier\n",
    "from sklearn.svm import SVC, LinearSVC\n",
    "\n",
    "cv = StratifiedKFold(n_splits=5, shuffle=True)\n",
    "\n",
    "def estimate(estimator, name='estimator'):\n",
    "    auc = cross_val_score(estimator, x_train, y_train, scoring='roc_auc', cv=cv).mean()\n",
    "    accuracy = cross_val_score(estimator, x_train, y_train, scoring='accuracy', cv=cv).mean()\n",
    "    recall = cross_val_score(estimator, x_train, y_train, scoring='recall', cv=cv).mean()\n",
    "\n",
    "    print(\"{}: auc:{:f}, recall:{:f}, accuracy:{:f}\".format(name, auc, recall, accuracy))\n",
    "    return auc"
   ]
  },
  {
   "cell_type": "raw",
   "metadata": {},
   "source": [
    "看下每个单独模型的效果如何"
   ]
  },
  {
   "cell_type": "code",
   "execution_count": 37,
   "metadata": {},
   "outputs": [
    {
     "name": "stderr",
     "output_type": "stream",
     "text": [
      "c:\\users\\llb\\appdata\\local\\programs\\python\\python36\\lib\\site-packages\\sklearn\\preprocessing\\label.py:151: DeprecationWarning: The truth value of an empty array is ambiguous. Returning False, but in future this will result in an error. Use `array.size > 0` to check that an array is not empty.\n",
      "  if diff:\n",
      "c:\\users\\llb\\appdata\\local\\programs\\python\\python36\\lib\\site-packages\\sklearn\\preprocessing\\label.py:151: DeprecationWarning: The truth value of an empty array is ambiguous. Returning False, but in future this will result in an error. Use `array.size > 0` to check that an array is not empty.\n",
      "  if diff:\n",
      "c:\\users\\llb\\appdata\\local\\programs\\python\\python36\\lib\\site-packages\\sklearn\\preprocessing\\label.py:151: DeprecationWarning: The truth value of an empty array is ambiguous. Returning False, but in future this will result in an error. Use `array.size > 0` to check that an array is not empty.\n",
      "  if diff:\n",
      "c:\\users\\llb\\appdata\\local\\programs\\python\\python36\\lib\\site-packages\\sklearn\\preprocessing\\label.py:151: DeprecationWarning: The truth value of an empty array is ambiguous. Returning False, but in future this will result in an error. Use `array.size > 0` to check that an array is not empty.\n",
      "  if diff:\n",
      "c:\\users\\llb\\appdata\\local\\programs\\python\\python36\\lib\\site-packages\\sklearn\\preprocessing\\label.py:151: DeprecationWarning: The truth value of an empty array is ambiguous. Returning False, but in future this will result in an error. Use `array.size > 0` to check that an array is not empty.\n",
      "  if diff:\n",
      "c:\\users\\llb\\appdata\\local\\programs\\python\\python36\\lib\\site-packages\\sklearn\\preprocessing\\label.py:151: DeprecationWarning: The truth value of an empty array is ambiguous. Returning False, but in future this will result in an error. Use `array.size > 0` to check that an array is not empty.\n",
      "  if diff:\n",
      "c:\\users\\llb\\appdata\\local\\programs\\python\\python36\\lib\\site-packages\\sklearn\\preprocessing\\label.py:151: DeprecationWarning: The truth value of an empty array is ambiguous. Returning False, but in future this will result in an error. Use `array.size > 0` to check that an array is not empty.\n",
      "  if diff:\n",
      "c:\\users\\llb\\appdata\\local\\programs\\python\\python36\\lib\\site-packages\\sklearn\\preprocessing\\label.py:151: DeprecationWarning: The truth value of an empty array is ambiguous. Returning False, but in future this will result in an error. Use `array.size > 0` to check that an array is not empty.\n",
      "  if diff:\n",
      "c:\\users\\llb\\appdata\\local\\programs\\python\\python36\\lib\\site-packages\\sklearn\\preprocessing\\label.py:151: DeprecationWarning: The truth value of an empty array is ambiguous. Returning False, but in future this will result in an error. Use `array.size > 0` to check that an array is not empty.\n",
      "  if diff:\n"
     ]
    },
    {
     "name": "stdout",
     "output_type": "stream",
     "text": [
      "XGBClassifier: auc:0.866365, recall:0.048950, accuracy:0.937000\n"
     ]
    },
    {
     "name": "stderr",
     "output_type": "stream",
     "text": [
      "c:\\users\\llb\\appdata\\local\\programs\\python\\python36\\lib\\site-packages\\sklearn\\preprocessing\\label.py:151: DeprecationWarning: The truth value of an empty array is ambiguous. Returning False, but in future this will result in an error. Use `array.size > 0` to check that an array is not empty.\n",
      "  if diff:\n"
     ]
    },
    {
     "data": {
      "text/plain": [
       "0.8663654847179492"
      ]
     },
     "execution_count": 37,
     "metadata": {},
     "output_type": "execute_result"
    }
   ],
   "source": [
    "estimate(XGBClassifier(\n",
    "#         booster = 'dart',\n",
    "        learning_rate =0.1,\n",
    "        n_estimators=mm.shape[0],    # :0.869196\n",
    "        max_depth=5,\n",
    "        min_child_weight=5,\n",
    "        gamma=0.1,\n",
    "        subsample=0.8,\n",
    "        colsample_bytree=0.8,\n",
    "        reg_alpha=1e-05,\n",
    "        objective= 'binary:logistic',\n",
    "        nthread=4,\n",
    "        scale_pos_weight=1,\n",
    "        seed=1)\n",
    "         , 'XGBClassifier')     \n",
    "# aucc = []\n",
    "# for i in range(6):\n",
    "#     if i== 0:\n",
    "#         aucc.append(estimate(RidgeClassifier(), 'RidgeClassifier'))        #0.7969\n",
    "#     if i== 1:\n",
    "#         aucc.append(estimate(LogisticRegression(), 'LogisticRegression'))   #0.797659\n",
    "#     if i == 2:\n",
    "#         aucc.append(estimate(RandomForestClassifier(), 'RandomForestClassifier'))  #0.714345\n",
    "#     if i == 3:\n",
    "#         aucc.append(estimate(AdaBoostClassifier(), 'AdaBoostClassifier'))  #0.838858\n",
    "#     if i == 4:\n",
    "#         aucc.append(estimate(SVC(), 'SVC'))# too long to wait\n",
    "#     if i == 5:\n",
    "#         aucc.append(estimate(LinearSVC(), 'LinearSVC'))\n",
    "# print(\"最终的AUC\",aucc)\n",
    "\n",
    "\n",
    "#RidgeClassifier: auc:0.802545, recall:0.000000, accuracy:0.936875\n",
    "# LogisticRegression: auc:0.799948, recall:0.029108, accuracy:0.935792\n",
    "# RandomForestClassifier: auc:0.699755, recall:0.016521, accuracy:0.936167\n",
    "# AdaBoostClassifier: auc:0.834362, recall:0.059533, accuracy:0.934541\n",
    "# SVC: auc:0.698281, recall:0.000000, accuracy:0.937000\n",
    "# LinearSVC: auc:0.798138, recall:0.001982, accuracy:0.936750         20%预留数据"
   ]
  },
  {
   "cell_type": "raw",
   "metadata": {},
   "source": [
    "#  集成投票，看总体效果\n",
    "#  注意在这之前先遍历每个模型的参数最优"
   ]
  },
  {
   "cell_type": "code",
   "execution_count": 40,
   "metadata": {},
   "outputs": [
    {
     "name": "stdout",
     "output_type": "stream",
     "text": [
      "(24000, 461)\n",
      "(24000,)\n",
      "xgb1 auc 0.8811458725823234\n",
      "xgb2 auc 0.879132903372102\n",
      "total auc 0.8823769163892053\n"
     ]
    }
   ],
   "source": [
    "print(x_train.shape)   #0.690831\t0.010714\t0.776624\t0.002014\n",
    "print(y_train.shape)\n",
    "\n",
    "xgb1 = XGBClassifier(\n",
    "        booster = 'dart',\n",
    "        learning_rate =0.1,\n",
    "        n_estimators=mm.shape[0],\n",
    "        max_depth=5,\n",
    "        min_child_weight=5,\n",
    "        gamma=0.1,\n",
    "        subsample=0.8,\n",
    "        colsample_bytree=0.8,\n",
    "        reg_alpha=1e-05,\n",
    "        objective= 'binary:logistic',\n",
    "        nthread=4,\n",
    "        scale_pos_weight=1,\n",
    "        seed=1)\n",
    "xgb1.fit(x_train,y_train)\n",
    "pred1 = xgb1.predict_proba(x_valid)[:,1]\n",
    "auc = roc_auc_score(y_valid,pred1)\n",
    "print(\"xgb1 auc\",auc)\n",
    "\n",
    "xgb2 = XGBClassifier(\n",
    "        learning_rate =0.1,\n",
    "        n_estimators=mm.shape[0],    # 0.8719\n",
    "        max_depth=5,\n",
    "        min_child_weight=5,\n",
    "        gamma=0.1,\n",
    "        subsample=0.8,\n",
    "        colsample_bytree=0.8,\n",
    "        reg_alpha=1e-05,\n",
    "        objective= 'binary:logistic',\n",
    "        nthread=4,\n",
    "        scale_pos_weight=1,\n",
    "        seed=1)\n",
    "xgb2.fit(x_train,y_train)\n",
    "pred2 = xgb2.predict_proba(x_valid)[:,1]\n",
    "# pred1 = xgb2.predict_proba(x_valid)\n",
    "auc = roc_auc_score(y_valid,pred2)\n",
    "print(\"xgb2 auc\",auc)\n",
    "predttal = 0.8*pred1 + 0.7*pred2#+0.01*pred5\n",
    "auc = roc_auc_score(y_valid,predttal)\n",
    "print(\"total auc\",auc)"
   ]
  },
  {
   "cell_type": "code",
   "execution_count": 50,
   "metadata": {},
   "outputs": [
    {
     "name": "stdout",
     "output_type": "stream",
     "text": [
      "0.7521185327005503\n",
      "rand [0.849888977547213, 0.8046867250116376, 0.7682410930201314, 0.8108991420562921, 0.7878214834792651, 0.8199617191419766, 0.8185516832998609, 0.8206452250366951, 0.7887756549508115, 0.836135243848816]\n",
      "i:0,xgb1 auc:0.8821081295318076\n",
      "i:1,xgb1 auc:0.8845237903247483\n",
      "i:2,xgb1 auc:0.8869663298034288\n",
      "i:3,xgb1 auc:0.8810119678570015\n",
      "i:4,xgb1 auc:0.8838410717069578\n",
      "i:5,xgb1 auc:0.8831979380627113\n",
      "i:6,xgb1 auc:0.8825132646314127\n",
      "i:7,xgb1 auc:0.8841641046392121\n",
      "i:8,xgb1 auc:0.8814801456922506\n",
      "sumple = 0.8 0.8811458725823234\n"
     ]
    },
    {
     "data": {
      "text/plain": [
       "0.8864654088419147"
      ]
     },
     "execution_count": 50,
     "metadata": {},
     "output_type": "execute_result"
    }
   ],
   "source": [
    "# 看下很多个随机数结果怎么样？  30个随机数\n",
    "import random\n",
    "print (random.uniform(0.75,0.85))  \n",
    "rand = []\n",
    "for i in range(10):\n",
    "    rand.append(random.uniform(0.75,0.85))\n",
    "print(\"rand\",rand)\n",
    "last = 0\n",
    "for i in range(9):\n",
    "    pred1 = 0\n",
    "    xgb1 = XGBClassifier(\n",
    "            booster = 'dart',\n",
    "            learning_rate =0.1,\n",
    "            n_estimators=mm.shape[0],\n",
    "            max_depth=5,\n",
    "            min_child_weight=5,\n",
    "            gamma=0.1,\n",
    "            subsample=rand[i],\n",
    "            colsample_bytree=0.8,\n",
    "            reg_alpha=1e-05,\n",
    "            objective= 'binary:logistic',\n",
    "            nthread=4,\n",
    "            scale_pos_weight=1,\n",
    "            seed=1)\n",
    "    xgb1.fit(x_train,y_train)\n",
    "    pred1 = xgb1.predict_proba(x_valid)[:,1]\n",
    "    auc = roc_auc_score(y_valid,pred1)\n",
    "    last += pred1\n",
    "    print(\"i:{},xgb1 auc:{}\".format(i,auc))\n",
    "xgb1 = XGBClassifier(\n",
    "        booster = 'dart',\n",
    "        learning_rate =0.1,\n",
    "        n_estimators=mm.shape[0],\n",
    "        max_depth=5,\n",
    "        min_child_weight=5,\n",
    "        gamma=0.1,\n",
    "        subsample=0.8,\n",
    "        colsample_bytree=0.8,\n",
    "        reg_alpha=1e-05,\n",
    "        objective= 'binary:logistic',\n",
    "        nthread=4,\n",
    "        scale_pos_weight=1,\n",
    "        seed=1)\n",
    "xgb1.fit(x_train,y_train)\n",
    "pred2 = xgb1.predict_proba(x_valid)[:,1]\n",
    "auc = roc_auc_score(y_valid,pred2)\n",
    "print(\"sumple = 0.8\",auc)\n",
    "last += pred2\n",
    "last = last/10\n",
    "roc_auc_score(y_valid,last)"
   ]
  },
  {
   "cell_type": "code",
   "execution_count": null,
   "metadata": {},
   "outputs": [],
   "source": [
    "# 这个是随机森林填充后降维到271维的最优数据\n",
    "# xgb auc 0.8656555676564127\n",
    "# Log auc 0.8075853722906698\n",
    "# total auc 0.8658856602613786、\n",
    "\n",
    "#随机森林填充后不降维的最优结果\n",
    "xgb auc 0.8671208942459312\n",
    "Log auc 0.7976350155009755\n",
    "total auc 0.8662997016730364"
   ]
  },
  {
   "cell_type": "markdown",
   "metadata": {},
   "source": [
    "# 下面通过网格搜索寻找其他参数"
   ]
  },
  {
   "cell_type": "code",
   "execution_count": 15,
   "metadata": {},
   "outputs": [
    {
     "name": "stderr",
     "output_type": "stream",
     "text": [
      "c:\\users\\llb\\appdata\\local\\programs\\python\\python36\\lib\\site-packages\\sklearn\\model_selection\\_search.py:761: DeprecationWarning: The grid_scores_ attribute was deprecated in version 0.18 in favor of the more elaborate cv_results_ attribute. The grid_scores_ attribute will not be available from 0.20\n",
      "  DeprecationWarning)\n"
     ]
    },
    {
     "data": {
      "text/plain": [
       "([mean: 0.86179, std: 0.00461, params: {'max_depth': 3, 'min_child_weight': 1},\n",
       "  mean: 0.86345, std: 0.00401, params: {'max_depth': 3, 'min_child_weight': 3},\n",
       "  mean: 0.86213, std: 0.00469, params: {'max_depth': 3, 'min_child_weight': 5},\n",
       "  mean: 0.86393, std: 0.00536, params: {'max_depth': 5, 'min_child_weight': 1},\n",
       "  mean: 0.86692, std: 0.00617, params: {'max_depth': 5, 'min_child_weight': 3},\n",
       "  mean: 0.86670, std: 0.00629, params: {'max_depth': 5, 'min_child_weight': 5},\n",
       "  mean: 0.86413, std: 0.00459, params: {'max_depth': 7, 'min_child_weight': 1},\n",
       "  mean: 0.86479, std: 0.00829, params: {'max_depth': 7, 'min_child_weight': 3},\n",
       "  mean: 0.86579, std: 0.00464, params: {'max_depth': 7, 'min_child_weight': 5},\n",
       "  mean: 0.86106, std: 0.00301, params: {'max_depth': 9, 'min_child_weight': 1},\n",
       "  mean: 0.86104, std: 0.00751, params: {'max_depth': 9, 'min_child_weight': 3},\n",
       "  mean: 0.86562, std: 0.00625, params: {'max_depth': 9, 'min_child_weight': 5}],\n",
       " {'max_depth': 5, 'min_child_weight': 3},\n",
       " 0.866915347365538)"
      ]
     },
     "execution_count": 15,
     "metadata": {},
     "output_type": "execute_result"
    }
   ],
   "source": [
    "#Grid seach on subsample and max_features\n",
    "#Choose all predictors except target & IDcols\n",
    "param_test1 = {\n",
    "    'max_depth':range(3,10,2),\n",
    "    'min_child_weight':range(1,6,2)\n",
    "}\n",
    "gsearch1 = GridSearchCV(estimator = XGBClassifier( learning_rate =0.1, n_estimators=mm.shape[0], max_depth=5, booster = 'dart',\n",
    "                                        min_child_weight=1, gamma=0.1, subsample=0.8, colsample_bytree=0.8,\n",
    "                                        objective= 'binary:logistic', nthread=3, scale_pos_weight=1, seed=27), \n",
    "                       param_grid = param_test1, scoring='roc_auc',n_jobs=4,iid=False, cv=5)\n",
    "gsearch1.fit(x_train,y_train)\n",
    "gsearch1.grid_scores_, gsearch1.best_params_, gsearch1.best_score_"
   ]
  },
  {
   "cell_type": "code",
   "execution_count": 16,
   "metadata": {},
   "outputs": [
    {
     "name": "stdout",
     "output_type": "stream",
     "text": [
      " x_train (24000, 461)\n",
      "y_train (24000,)\n"
     ]
    },
    {
     "name": "stderr",
     "output_type": "stream",
     "text": [
      "c:\\users\\llb\\appdata\\local\\programs\\python\\python36\\lib\\site-packages\\sklearn\\model_selection\\_search.py:761: DeprecationWarning: The grid_scores_ attribute was deprecated in version 0.18 in favor of the more elaborate cv_results_ attribute. The grid_scores_ attribute will not be available from 0.20\n",
      "  DeprecationWarning)\n"
     ]
    },
    {
     "data": {
      "text/plain": [
       "([mean: 0.86519, std: 0.00699, params: {'max_depth': 4, 'min_child_weight': 2},\n",
       "  mean: 0.86592, std: 0.00590, params: {'max_depth': 4, 'min_child_weight': 3},\n",
       "  mean: 0.86701, std: 0.00621, params: {'max_depth': 4, 'min_child_weight': 4},\n",
       "  mean: 0.86548, std: 0.00597, params: {'max_depth': 4, 'min_child_weight': 5},\n",
       "  mean: 0.86775, std: 0.00461, params: {'max_depth': 4, 'min_child_weight': 6},\n",
       "  mean: 0.86739, std: 0.00512, params: {'max_depth': 5, 'min_child_weight': 2},\n",
       "  mean: 0.86692, std: 0.00617, params: {'max_depth': 5, 'min_child_weight': 3},\n",
       "  mean: 0.86570, std: 0.00544, params: {'max_depth': 5, 'min_child_weight': 4},\n",
       "  mean: 0.86670, std: 0.00629, params: {'max_depth': 5, 'min_child_weight': 5},\n",
       "  mean: 0.86714, std: 0.00577, params: {'max_depth': 5, 'min_child_weight': 6},\n",
       "  mean: 0.86435, std: 0.00574, params: {'max_depth': 6, 'min_child_weight': 2},\n",
       "  mean: 0.86720, std: 0.00619, params: {'max_depth': 6, 'min_child_weight': 3},\n",
       "  mean: 0.86725, std: 0.00606, params: {'max_depth': 6, 'min_child_weight': 4},\n",
       "  mean: 0.86724, std: 0.00388, params: {'max_depth': 6, 'min_child_weight': 5},\n",
       "  mean: 0.86608, std: 0.00290, params: {'max_depth': 6, 'min_child_weight': 6}],\n",
       " {'max_depth': 4, 'min_child_weight': 6},\n",
       " 0.8677509818833476)"
      ]
     },
     "execution_count": 16,
     "metadata": {},
     "output_type": "execute_result"
    }
   ],
   "source": [
    "# #Grid seach on subsample and max_features\n",
    "# #Choose all predictors except target & IDcols\n",
    "\n",
    "print(\" x_train\", x_train.shape)\n",
    "print(\"y_train\",y_train.shape)\n",
    "param_test2 = {\n",
    "    'max_depth':[4,5,6],\n",
    "    'min_child_weight':[2,3,4,5,6]\n",
    "}\n",
    "gsearch2 = GridSearchCV(estimator = XGBClassifier( learning_rate=0.1, n_estimators=mm.shape[0], max_depth=5, booster = 'dart',\n",
    "                                        min_child_weight=2, gamma=0.1, subsample=0.8, colsample_bytree=0.8,\n",
    "                                        objective= 'binary:logistic', nthread=3, scale_pos_weight=1,seed=27), \n",
    "                       param_grid = param_test2, scoring='roc_auc',n_jobs=4,iid=False, cv=5)\n",
    "gsearch2.fit(x_train,y_train)\n",
    "gsearch2.grid_scores_, gsearch2.best_params_, gsearch2.best_score_"
   ]
  },
  {
   "cell_type": "raw",
   "metadata": {},
   "source": [
    "#上一步是微调，事实证明微调是有用的"
   ]
  },
  {
   "cell_type": "code",
   "execution_count": 18,
   "metadata": {},
   "outputs": [
    {
     "name": "stdout",
     "output_type": "stream",
     "text": [
      "(24000, 461) (24000,)\n"
     ]
    },
    {
     "name": "stderr",
     "output_type": "stream",
     "text": [
      "c:\\users\\llb\\appdata\\local\\programs\\python\\python36\\lib\\site-packages\\sklearn\\model_selection\\_search.py:761: DeprecationWarning: The grid_scores_ attribute was deprecated in version 0.18 in favor of the more elaborate cv_results_ attribute. The grid_scores_ attribute will not be available from 0.20\n",
      "  DeprecationWarning)\n"
     ]
    },
    {
     "data": {
      "text/plain": [
       "([mean: 0.86692, std: 0.00617, params: {'min_child_weight': 3},\n",
       "  mean: 0.86570, std: 0.00544, params: {'min_child_weight': 4},\n",
       "  mean: 0.86670, std: 0.00629, params: {'min_child_weight': 5},\n",
       "  mean: 0.86714, std: 0.00577, params: {'min_child_weight': 6},\n",
       "  mean: 0.86731, std: 0.00449, params: {'min_child_weight': 7},\n",
       "  mean: 0.86696, std: 0.00471, params: {'min_child_weight': 8}],\n",
       " {'min_child_weight': 7},\n",
       " 0.867311127348378)"
      ]
     },
     "execution_count": 18,
     "metadata": {},
     "output_type": "execute_result"
    }
   ],
   "source": [
    "#Grid seach on subsample and max_features\n",
    "#Choose all predictors except target & IDcols\n",
    "print(x_train.shape,y_train.shape)\n",
    "param_test2b = {\n",
    "    'min_child_weight':[3,4,5,6,7,8]\n",
    "}\n",
    "gsearch2b = GridSearchCV(estimator = XGBClassifier( learning_rate=0.1, n_estimators=mm.shape[0], max_depth=5, booster = 'dart',\n",
    "                                        min_child_weight=4, gamma=0.1, subsample=0.8, colsample_bytree=0.8,\n",
    "                                        objective= 'binary:logistic', nthread=4, scale_pos_weight=1,seed=27), \n",
    "                       param_grid = param_test2b, scoring='roc_auc',n_jobs=4,iid=False, cv=5)\n",
    "gsearch2b.fit(x_train,y_train)\n",
    "gsearch2b.grid_scores_, gsearch2b.best_params_, gsearch2b.best_score_"
   ]
  },
  {
   "cell_type": "code",
   "execution_count": 19,
   "metadata": {},
   "outputs": [
    {
     "name": "stderr",
     "output_type": "stream",
     "text": [
      "c:\\users\\llb\\appdata\\local\\programs\\python\\python36\\lib\\site-packages\\sklearn\\model_selection\\_search.py:761: DeprecationWarning: The grid_scores_ attribute was deprecated in version 0.18 in favor of the more elaborate cv_results_ attribute. The grid_scores_ attribute will not be available from 0.20\n",
      "  DeprecationWarning)\n"
     ]
    },
    {
     "data": {
      "text/plain": [
       "([mean: 0.86373, std: 0.00415, params: {'gamma': 0.0},\n",
       "  mean: 0.86438, std: 0.00303, params: {'gamma': 0.1},\n",
       "  mean: 0.86417, std: 0.00334, params: {'gamma': 0.2},\n",
       "  mean: 0.86350, std: 0.00311, params: {'gamma': 0.3},\n",
       "  mean: 0.86381, std: 0.00338, params: {'gamma': 0.4}],\n",
       " {'gamma': 0.1},\n",
       " 0.8643824325354474)"
      ]
     },
     "execution_count": 19,
     "metadata": {},
     "output_type": "execute_result"
    }
   ],
   "source": [
    "# #Grid seach on subsample and max_features\n",
    "# #Choose all predictors except target & IDcols\n",
    "param_test3 = {\n",
    "    'gamma':[i/10.0 for i in range(0,5)]\n",
    "}\n",
    "gsearch3 = GridSearchCV(estimator = XGBClassifier( learning_rate =0.1, n_estimators=mm.shape[0], max_depth=5, booster = 'dart',\n",
    "                                        min_child_weight=7, gamma=0.1, subsample=0.8, colsample_bytree=0.8,\n",
    "                                        objective= 'binary:logistic', nthread=4, scale_pos_weight=1,seed=27), \n",
    "                       param_grid = param_test3, scoring='roc_auc',n_jobs=3,iid=False, cv=3)\n",
    "gsearch3.fit(x_train,y_train)\n",
    "gsearch3.grid_scores_, gsearch3.best_params_, gsearch3.best_score_"
   ]
  },
  {
   "cell_type": "code",
   "execution_count": 20,
   "metadata": {},
   "outputs": [
    {
     "name": "stderr",
     "output_type": "stream",
     "text": [
      "c:\\users\\llb\\appdata\\local\\programs\\python\\python36\\lib\\site-packages\\sklearn\\model_selection\\_search.py:761: DeprecationWarning: The grid_scores_ attribute was deprecated in version 0.18 in favor of the more elaborate cv_results_ attribute. The grid_scores_ attribute will not be available from 0.20\n",
      "  DeprecationWarning)\n"
     ]
    },
    {
     "data": {
      "text/plain": [
       "([mean: 0.85335, std: 0.00686, params: {'learning_rate': 0.02},\n",
       "  mean: 0.85474, std: 0.00656, params: {'learning_rate': 0.025},\n",
       "  mean: 0.86255, std: 0.00498, params: {'learning_rate': 0.05},\n",
       "  mean: 0.86670, std: 0.00542, params: {'learning_rate': 0.08},\n",
       "  mean: 0.86731, std: 0.00449, params: {'learning_rate': 0.1}],\n",
       " {'learning_rate': 0.1},\n",
       " 0.867311127348378)"
      ]
     },
     "execution_count": 20,
     "metadata": {},
     "output_type": "execute_result"
    }
   ],
   "source": [
    "param_test4 = {\n",
    "    'learning_rate':[0.02,0.025,0.05,0.08,0.1]\n",
    "}\n",
    "gsearch4 = GridSearchCV(estimator = XGBClassifier( learning_rate =0.1, n_estimators=mm.shape[0], max_depth=5, booster = 'dart',\n",
    "                                        min_child_weight=7, gamma=0.1, subsample=0.8, colsample_bytree=0.8,\n",
    "                                        objective= 'binary:logistic', nthread=3, scale_pos_weight=1,seed=27), \n",
    "                       param_grid = param_test4, scoring='roc_auc',n_jobs=3,iid=False, cv=5)\n",
    "gsearch4.fit(x_train,y_train)\n",
    "gsearch4.grid_scores_, gsearch4.best_params_, gsearch4.best_score_"
   ]
  },
  {
   "cell_type": "markdown",
   "metadata": {},
   "source": [
    "Tune subsample and colsample_bytree"
   ]
  },
  {
   "cell_type": "code",
   "execution_count": null,
   "metadata": {},
   "outputs": [],
   "source": [
    "# #Grid seach on subsample and max_features\n",
    "# #Choose all predictors except target & IDcols\n",
    "param_test4 = {\n",
    "    'subsample':[i/10.0 for i in range(6,10)],\n",
    "    'colsample_bytree':[i/10.0 for i in range(6,10)]\n",
    "}\n",
    "gsearch4 = GridSearchCV(estimator = XGBClassifier( learning_rate =0.1, n_estimators=mm.shape[0], max_depth=5, booster = 'dart',\n",
    "                                        min_child_weight=7, gamma=0.1, subsample=0.8, colsample_bytree=0.8,\n",
    "                                        objective= 'binary:logistic', nthread=4, scale_pos_weight=1,seed=27), \n",
    "                       param_grid = param_test4, scoring='roc_auc',n_jobs=3,iid=False, cv=5)\n",
    "gsearch4.fit(x_train,y_train)\n",
    "gsearch4.grid_scores_, gsearch4.best_params_, gsearch4.best_score_"
   ]
  },
  {
   "cell_type": "markdown",
   "metadata": {},
   "source": [
    "tune subsample:"
   ]
  },
  {
   "cell_type": "code",
   "execution_count": 350,
   "metadata": {},
   "outputs": [],
   "source": [
    "#Grid seach on subsample and max_features\n",
    "#Choose all predictors except target & IDcols\n",
    "param_test5 = {\n",
    "    'subsample':[i/100.0 for i in range(75,90,5)],\n",
    "    'colsample_bytree':[i/100.0 for i in range(75,90,5)]\n",
    "}\n",
    "gsearch5 = GridSearchCV(estimator = XGBClassifier( learning_rate =0.1, n_estimators=mm.shape[0], max_depth=5, booster = 'dart',\n",
    "                                        min_child_weight=4, gamma=0, subsample=0.8, colsample_bytree=0.8,\n",
    "                                        objective= 'binary:logistic', nthread=4, scale_pos_weight=1,seed=27), \n",
    "                       param_grid = param_test5, scoring='roc_auc',n_jobs=4,iid=False, cv=5)\n",
    "gsearch5.fit(x_train,y_train)\n",
    "gsearch5.grid_scores_, gsearch5.best_params_, gsearch5.best_score_"
   ]
  },
  {
   "cell_type": "markdown",
   "metadata": {},
   "source": [
    "Got the same value as assument and no change requried."
   ]
  },
  {
   "cell_type": "markdown",
   "metadata": {},
   "source": [
    "Try regularization:  (防止过拟合的)"
   ]
  },
  {
   "cell_type": "code",
   "execution_count": 19,
   "metadata": {},
   "outputs": [
    {
     "name": "stderr",
     "output_type": "stream",
     "text": [
      "c:\\users\\llb\\appdata\\local\\programs\\python\\python36\\lib\\site-packages\\sklearn\\model_selection\\_search.py:761: DeprecationWarning: The grid_scores_ attribute was deprecated in version 0.18 in favor of the more elaborate cv_results_ attribute. The grid_scores_ attribute will not be available from 0.20\n",
      "  DeprecationWarning)\n"
     ]
    },
    {
     "data": {
      "text/plain": [
       "([mean: 0.87082, std: 0.00975, params: {'reg_alpha': 1e-05},\n",
       "  mean: 0.86979, std: 0.01012, params: {'reg_alpha': 0.01},\n",
       "  mean: 0.86999, std: 0.00996, params: {'reg_alpha': 0.1},\n",
       "  mean: 0.86937, std: 0.01129, params: {'reg_alpha': 1},\n",
       "  mean: 0.83875, std: 0.01729, params: {'reg_alpha': 100}],\n",
       " {'reg_alpha': 1e-05},\n",
       " 0.8708201266495739)"
      ]
     },
     "execution_count": 19,
     "metadata": {},
     "output_type": "execute_result"
    }
   ],
   "source": [
    "# #Grid seach on subsample and max_features\n",
    "# #Choose all predictors except target & IDcols\n",
    "param_test6 = {\n",
    "    'reg_alpha':[1e-5, 1e-2, 0.1, 1, 100]\n",
    "}\n",
    "gsearch6 = GridSearchCV(estimator = XGBClassifier( learning_rate =0.1, n_estimators=mm.shape[0], max_depth=5, booster = 'dart',\n",
    "                                        min_child_weight=4, gamma=0, subsample=0.9, colsample_bytree=0.6,\n",
    "                                        objective= 'binary:logistic', nthread=4, scale_pos_weight=1,seed=27), \n",
    "                       param_grid = param_test6, scoring='roc_auc',n_jobs=4,iid=False, cv=5)\n",
    "gsearch6.fit(x_train,y_train)\n",
    "gsearch6.grid_scores_, gsearch6.best_params_, gsearch6.best_score_"
   ]
  },
  {
   "cell_type": "code",
   "execution_count": null,
   "metadata": {},
   "outputs": [],
   "source": [
    "# #Grid seach on subsample and max_features\n",
    "# #Choose all predictors except target & IDcols\n",
    "param_test7 = {\n",
    "    'reg_alpha':[0, 0.00001, 0.00005, 0.01, 0.05]\n",
    "}\n",
    "gsearch7 = GridSearchCV(estimator = XGBClassifier( learning_rate =0.1, n_estimators=mm.shape[0], max_depth=5, booster = 'dart',\n",
    "                                        min_child_weight=4, gamma=0, subsample=0.9, colsample_bytree=0.6,\n",
    "                                        objective= 'binary:logistic', nthread=4, scale_pos_weight=1,seed=27), \n",
    "                       param_grid = param_test7, scoring='roc_auc',n_jobs=4,iid=False, cv=5)\n",
    "gsearch7.fit(x_train,y_train)\n",
    "gsearch7.grid_scores_, gsearch7.best_params_, gsearch7.best_score_"
   ]
  },
  {
   "cell_type": "code",
   "execution_count": 23,
   "metadata": {},
   "outputs": [
    {
     "name": "stderr",
     "output_type": "stream",
     "text": [
      "c:\\users\\llb\\appdata\\local\\programs\\python\\python36\\lib\\site-packages\\sklearn\\model_selection\\_search.py:761: DeprecationWarning: The grid_scores_ attribute was deprecated in version 0.18 in favor of the more elaborate cv_results_ attribute. The grid_scores_ attribute will not be available from 0.20\n",
      "  DeprecationWarning)\n"
     ]
    },
    {
     "data": {
      "text/plain": [
       "([mean: 0.86801, std: 0.00971, params: {'n_estimators': 52},\n",
       "  mean: 0.86806, std: 0.00982, params: {'n_estimators': 53},\n",
       "  mean: 0.86812, std: 0.01001, params: {'n_estimators': 54},\n",
       "  mean: 0.86818, std: 0.01012, params: {'n_estimators': 55},\n",
       "  mean: 0.86785, std: 0.01014, params: {'n_estimators': 56},\n",
       "  mean: 0.86779, std: 0.01024, params: {'n_estimators': 57},\n",
       "  mean: 0.86861, std: 0.01012, params: {'n_estimators': 58},\n",
       "  mean: 0.86930, std: 0.00988, params: {'n_estimators': 59},\n",
       "  mean: 0.86941, std: 0.00960, params: {'n_estimators': 60},\n",
       "  mean: 0.86963, std: 0.00952, params: {'n_estimators': 61},\n",
       "  mean: 0.86946, std: 0.00959, params: {'n_estimators': 62},\n",
       "  mean: 0.86966, std: 0.00948, params: {'n_estimators': 63},\n",
       "  mean: 0.86946, std: 0.00939, params: {'n_estimators': 64},\n",
       "  mean: 0.86939, std: 0.00937, params: {'n_estimators': 65},\n",
       "  mean: 0.86961, std: 0.00941, params: {'n_estimators': 66},\n",
       "  mean: 0.86994, std: 0.00946, params: {'n_estimators': 67},\n",
       "  mean: 0.87038, std: 0.00947, params: {'n_estimators': 68},\n",
       "  mean: 0.87039, std: 0.00955, params: {'n_estimators': 69},\n",
       "  mean: 0.87066, std: 0.00954, params: {'n_estimators': 70},\n",
       "  mean: 0.87077, std: 0.00963, params: {'n_estimators': 71},\n",
       "  mean: 0.87082, std: 0.00975, params: {'n_estimators': 72},\n",
       "  mean: 0.87074, std: 0.00999, params: {'n_estimators': 73},\n",
       "  mean: 0.87162, std: 0.00965, params: {'n_estimators': 74},\n",
       "  mean: 0.87154, std: 0.00979, params: {'n_estimators': 75},\n",
       "  mean: 0.87163, std: 0.00967, params: {'n_estimators': 76},\n",
       "  mean: 0.87186, std: 0.00947, params: {'n_estimators': 77},\n",
       "  mean: 0.87174, std: 0.00958, params: {'n_estimators': 78},\n",
       "  mean: 0.87172, std: 0.00948, params: {'n_estimators': 79},\n",
       "  mean: 0.87190, std: 0.00950, params: {'n_estimators': 80},\n",
       "  mean: 0.87187, std: 0.00955, params: {'n_estimators': 81},\n",
       "  mean: 0.87181, std: 0.00985, params: {'n_estimators': 82},\n",
       "  mean: 0.87146, std: 0.00971, params: {'n_estimators': 83},\n",
       "  mean: 0.87142, std: 0.00970, params: {'n_estimators': 84},\n",
       "  mean: 0.87152, std: 0.00953, params: {'n_estimators': 85},\n",
       "  mean: 0.87141, std: 0.00948, params: {'n_estimators': 86},\n",
       "  mean: 0.87113, std: 0.00972, params: {'n_estimators': 87},\n",
       "  mean: 0.87121, std: 0.00978, params: {'n_estimators': 88},\n",
       "  mean: 0.87101, std: 0.00982, params: {'n_estimators': 89},\n",
       "  mean: 0.87101, std: 0.00976, params: {'n_estimators': 90},\n",
       "  mean: 0.87088, std: 0.00967, params: {'n_estimators': 91}],\n",
       " {'n_estimators': 80},\n",
       " 0.8719003642165978)"
      ]
     },
     "execution_count": 23,
     "metadata": {},
     "output_type": "execute_result"
    }
   ],
   "source": [
    "xgb3 = XGBClassifier(\n",
    "        booster = 'dart',\n",
    "        learning_rate =0.1,\n",
    "        n_estimators=80,    # 0.8719\n",
    "        max_depth=5,\n",
    "        min_child_weight=4,\n",
    "        gamma=0,\n",
    "        subsample=0.9,\n",
    "        colsample_bytree=0.6,\n",
    "        reg_alpha=1e-05,\n",
    "        objective= 'binary:logistic',\n",
    "        nthread=4,\n",
    "        scale_pos_weight=1,\n",
    "        seed=27)\n",
    "param_test7 = {\n",
    "    'n_estimators':range(mm.shape[0]-20,mm.shape[0]+20,1)\n",
    "}\n",
    "gsearch7 = GridSearchCV(estimator = xgb3,\n",
    "                       param_grid = param_test7, scoring='roc_auc',n_jobs=4,iid=False, cv=5)\n",
    "gsearch7.fit(x_train,y_train)\n",
    "gsearch7.grid_scores_, gsearch7.best_params_, gsearch7.best_score_"
   ]
  },
  {
   "cell_type": "code",
   "execution_count": null,
   "metadata": {},
   "outputs": [],
   "source": []
  },
  {
   "cell_type": "code",
   "execution_count": null,
   "metadata": {},
   "outputs": [],
   "source": []
  }
 ],
 "metadata": {
  "kernelspec": {
   "display_name": "Python 3",
   "language": "python",
   "name": "python3"
  },
  "language_info": {
   "codemirror_mode": {
    "name": "ipython",
    "version": 3
   },
   "file_extension": ".py",
   "mimetype": "text/x-python",
   "name": "python",
   "nbconvert_exporter": "python",
   "pygments_lexer": "ipython3",
   "version": "3.6.3rc1"
  }
 },
 "nbformat": 4,
 "nbformat_minor": 1
}
