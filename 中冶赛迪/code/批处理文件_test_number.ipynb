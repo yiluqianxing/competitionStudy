{
 "cells": [
  {
   "cell_type": "code",
   "execution_count": 19,
   "metadata": {},
   "outputs": [],
   "source": [
    "import numpy as np\n",
    "import pandas as pd\n",
    "import fasttext\n",
    "import os\n",
    "import os.path\n",
    "from sklearn.metrics import precision_score, recall_score, f1_score \n",
    "from sklearn.ensemble import RandomForestClassifier\n",
    "from sklearn.model_selection import train_test_split\n",
    "from sklearn.metrics import accuracy_score\n",
    "import xgboost as xgb\n",
    "from xgboost.sklearn import XGBClassifier"
   ]
  },
  {
   "cell_type": "code",
   "execution_count": 20,
   "metadata": {
    "scrolled": true
   },
   "outputs": [
    {
     "data": {
      "text/plain": [
       "346"
      ]
     },
     "execution_count": 20,
     "metadata": {},
     "output_type": "execute_result"
    }
   ],
   "source": [
    "dirs = os.getcwd()\n",
    "len(os.listdir(dirs))"
   ]
  },
  {
   "cell_type": "code",
   "execution_count": 21,
   "metadata": {},
   "outputs": [],
   "source": [
    "import re\n",
    "zhPattern = re.compile(u'[\\u4e00-\\u9fa5]+')\n",
    "numPattern = re.compile('[0-9]')\n",
    "def deal(x):\n",
    "    if x == -888:  #这是缺失值填充的（记得先填充缺失值）\n",
    "        return x\n",
    "    contents = str(x)\n",
    "    zhmatch = zhPattern.search(contents)\n",
    "    if zhmatch:  \n",
    "        return -666  #汉字 直接返回\n",
    "    numbermatch = numPattern.search(contents)\n",
    "    if numbermatch:\n",
    "        return 8 #表示 数字 \n",
    "    else:\n",
    "        return 9 #表示字母\n",
    "        "
   ]
  },
  {
   "cell_type": "code",
   "execution_count": 22,
   "metadata": {},
   "outputs": [],
   "source": [
    "def prepross(data):\n",
    "    #1 使用填充的方式把\n",
    "    dataPro = data.copy()\n",
    "    label = dataPro.columns\n",
    "    #统计每行的缺失率\n",
    "    dataPro.insert(0,\"missingRate\",0)\n",
    "    dataPro[\"missingRate\"] = dataPro.isnull().sum(axis = 1)\n",
    "    \n",
    "    dataPro.fillna(-888,inplace = True)\n",
    "    # 数字和空缺值填充，保留分布格局\n",
    "    for i in range(len(label)):\n",
    "        dataPro[label[i]] = dataPro[label[i]].apply(lambda x: deal(x) )\n",
    "        \n",
    "    dataPro.insert(1,\"index\",dataPro.index)\n",
    "    dataPro.insert(2,\"position\",0)\n",
    "    dataPro.insert(3,\"first_last_No\",0)\n",
    "    dataPro.insert(4,\"class2_number\",0)\n",
    "    dataPro.insert(5,\"alphabet\",0)\n",
    "    \n",
    "    number1 = 0\n",
    "    for i in range(dataPro.shape[0]):\n",
    "        if i < int(dataPro.shape[0]/3):\n",
    "            dataPro[\"position\"][i] = 1\n",
    "        elif i < int(2*dataPro.shape[0]/3) and i >= int(dataPro.shape[0]/3):\n",
    "            dataPro[\"position\"][i] = 2\n",
    "        else:\n",
    "            dataPro[\"position\"][i] = 3\n",
    "\n",
    "        # 下面表示的是 头部加上序列号（2标签可能全是数字），尾部全部用 -1\n",
    "        #  (dataPro.iloc[i,:] == -666).sum() 比较保险，data[i] 出错。\n",
    "        if (dataPro.iloc[i,:] == 8).sum() < (dataPro.iloc[i,:] == -666).sum() and number1 == 0:\n",
    "                dataPro[\"first_last_No\"][i] = i\n",
    "        else:\n",
    "             #针对 class2 全是数字的情况\n",
    "            if i < int(dataPro.shape[0]/3):\n",
    "                if (dataPro.iloc[i+1,:] == 8).sum() < (dataPro.iloc[i+1,:] == -666).sum()and number1 == 0: \n",
    "                    dataPro[\"first_last_No\"][i] = i  #仍然编码 ，原来是i\n",
    "                    dataPro[\"class2_number\"][i] = 1 \n",
    "                else:    \n",
    "                    number1 += 1\n",
    "                    \n",
    "        if (dataPro.iloc[i,:] == 8).sum() < (dataPro.iloc[i,:] == -666).sum() and number1 > 0:\n",
    "               dataPro[\"first_last_No\"][i] = -1 \n",
    "                \n",
    "        if (dataPro.iloc[i,:] == 9).sum() > (dataPro.iloc[i,:] == -666).sum() and i < int(dataPro.shape[0]/3):\n",
    "            dataPro[\"alphabet\"][i] = 1\n",
    "    return dataPro"
   ]
  },
  {
   "cell_type": "code",
   "execution_count": null,
   "metadata": {
    "scrolled": true
   },
   "outputs": [
    {
     "name": "stdout",
     "output_type": "stream",
     "text": [
      ".............\n",
      "trainx    0   1   2   3   4   5    6      7      8      9   ...       45     46  \\\n",
      "0  65   0   1   0   0   0 -666 -888.0 -888.0 -888.0  ...   -888.0 -888.0   \n",
      "1  65   1   1   1   0   0 -888 -888.0 -888.0 -888.0  ...   -888.0 -888.0   \n",
      "2  56   2   1   2   0   0 -888 -888.0 -888.0 -888.0  ...   -888.0 -666.0   \n",
      "3   8   3   1   3   0   0 -666 -666.0 -666.0 -666.0  ...   -666.0 -666.0   \n",
      "4   8   4   1   0   0   1 -666 -666.0    9.0    9.0  ...      9.0    9.0   \n",
      "\n",
      "      47     48     49     50     51     52     53     54  \n",
      "0 -888.0 -888.0 -888.0 -888.0 -888.0 -888.0 -888.0 -888.0  \n",
      "1 -888.0 -888.0 -888.0 -888.0 -888.0 -888.0 -888.0 -888.0  \n",
      "2 -888.0 -888.0 -888.0 -888.0 -888.0 -666.0 -888.0 -666.0  \n",
      "3 -666.0 -666.0 -666.0 -666.0 -666.0 -666.0 -666.0 -666.0  \n",
      "4    9.0    9.0    9.0    9.0    9.0    9.0    8.0    9.0  \n",
      "\n",
      "[5 rows x 55 columns]\n",
      "(56710, 55) (56710,)\n"
     ]
    },
    {
     "name": "stderr",
     "output_type": "stream",
     "text": [
      "d:\\gongju\\python3.6 64\\anzhuang\\lib\\site-packages\\ipykernel_launcher.py:23: SettingWithCopyWarning: \n",
      "A value is trying to be set on a copy of a slice from a DataFrame\n",
      "\n",
      "See the caveats in the documentation: http://pandas.pydata.org/pandas-docs/stable/indexing.html#indexing-view-versus-copy\n",
      "d:\\gongju\\python3.6 64\\anzhuang\\lib\\site-packages\\ipykernel_launcher.py:32: SettingWithCopyWarning: \n",
      "A value is trying to be set on a copy of a slice from a DataFrame\n",
      "\n",
      "See the caveats in the documentation: http://pandas.pydata.org/pandas-docs/stable/indexing.html#indexing-view-versus-copy\n",
      "d:\\gongju\\python3.6 64\\anzhuang\\lib\\site-packages\\ipykernel_launcher.py:37: SettingWithCopyWarning: \n",
      "A value is trying to be set on a copy of a slice from a DataFrame\n",
      "\n",
      "See the caveats in the documentation: http://pandas.pydata.org/pandas-docs/stable/indexing.html#indexing-view-versus-copy\n",
      "d:\\gongju\\python3.6 64\\anzhuang\\lib\\site-packages\\ipykernel_launcher.py:38: SettingWithCopyWarning: \n",
      "A value is trying to be set on a copy of a slice from a DataFrame\n",
      "\n",
      "See the caveats in the documentation: http://pandas.pydata.org/pandas-docs/stable/indexing.html#indexing-view-versus-copy\n",
      "d:\\gongju\\python3.6 64\\anzhuang\\lib\\site-packages\\ipykernel_launcher.py:43: SettingWithCopyWarning: \n",
      "A value is trying to be set on a copy of a slice from a DataFrame\n",
      "\n",
      "See the caveats in the documentation: http://pandas.pydata.org/pandas-docs/stable/indexing.html#indexing-view-versus-copy\n",
      "d:\\gongju\\python3.6 64\\anzhuang\\lib\\site-packages\\ipykernel_launcher.py:25: SettingWithCopyWarning: \n",
      "A value is trying to be set on a copy of a slice from a DataFrame\n",
      "\n",
      "See the caveats in the documentation: http://pandas.pydata.org/pandas-docs/stable/indexing.html#indexing-view-versus-copy\n",
      "d:\\gongju\\python3.6 64\\anzhuang\\lib\\site-packages\\ipykernel_launcher.py:27: SettingWithCopyWarning: \n",
      "A value is trying to be set on a copy of a slice from a DataFrame\n",
      "\n",
      "See the caveats in the documentation: http://pandas.pydata.org/pandas-docs/stable/indexing.html#indexing-view-versus-copy\n",
      "d:\\gongju\\python3.6 64\\anzhuang\\lib\\site-packages\\sklearn\\preprocessing\\label.py:151: DeprecationWarning: The truth value of an empty array is ambiguous. Returning False, but in future this will result in an error. Use `array.size > 0` to check that an array is not empty.\n",
      "  if diff:\n"
     ]
    },
    {
     "name": "stdout",
     "output_type": "stream",
     "text": [
      "preshape (181, 8)\n",
      "aftershape (181, 9)\n",
      "name addcsvmultiple1_ok\n",
      "name ../test_result\\addcsvmultiple1_ok.csv\n"
     ]
    },
    {
     "name": "stderr",
     "output_type": "stream",
     "text": [
      "d:\\gongju\\python3.6 64\\anzhuang\\lib\\site-packages\\ipykernel_launcher.py:46: SettingWithCopyWarning: \n",
      "A value is trying to be set on a copy of a slice from a DataFrame\n",
      "\n",
      "See the caveats in the documentation: http://pandas.pydata.org/pandas-docs/stable/indexing.html#indexing-view-versus-copy\n",
      "d:\\gongju\\python3.6 64\\anzhuang\\lib\\site-packages\\sklearn\\preprocessing\\label.py:151: DeprecationWarning: The truth value of an empty array is ambiguous. Returning False, but in future this will result in an error. Use `array.size > 0` to check that an array is not empty.\n",
      "  if diff:\n"
     ]
    },
    {
     "name": "stdout",
     "output_type": "stream",
     "text": [
      "preshape (502, 55)\n",
      "aftershape (502, 56)\n",
      "name csvsingle10_ok\n",
      "name ../test_result\\csvsingle10_ok.csv\n"
     ]
    },
    {
     "name": "stderr",
     "output_type": "stream",
     "text": [
      "d:\\gongju\\python3.6 64\\anzhuang\\lib\\site-packages\\sklearn\\preprocessing\\label.py:151: DeprecationWarning: The truth value of an empty array is ambiguous. Returning False, but in future this will result in an error. Use `array.size > 0` to check that an array is not empty.\n",
      "  if diff:\n"
     ]
    },
    {
     "name": "stdout",
     "output_type": "stream",
     "text": [
      "preshape (1503, 210)\n",
      "aftershape (1503, 211)\n",
      "name csvsingle17_ok\n",
      "name ../test_result\\csvsingle17_ok.csv\n"
     ]
    },
    {
     "name": "stderr",
     "output_type": "stream",
     "text": [
      "d:\\gongju\\python3.6 64\\anzhuang\\lib\\site-packages\\sklearn\\preprocessing\\label.py:151: DeprecationWarning: The truth value of an empty array is ambiguous. Returning False, but in future this will result in an error. Use `array.size > 0` to check that an array is not empty.\n",
      "  if diff:\n"
     ]
    },
    {
     "name": "stdout",
     "output_type": "stream",
     "text": [
      "preshape (1132, 210)\n",
      "aftershape (1132, 211)\n",
      "name csvsingle21_ok\n",
      "name ../test_result\\csvsingle21_ok.csv\n"
     ]
    },
    {
     "name": "stderr",
     "output_type": "stream",
     "text": [
      "d:\\gongju\\python3.6 64\\anzhuang\\lib\\site-packages\\sklearn\\preprocessing\\label.py:151: DeprecationWarning: The truth value of an empty array is ambiguous. Returning False, but in future this will result in an error. Use `array.size > 0` to check that an array is not empty.\n",
      "  if diff:\n"
     ]
    },
    {
     "name": "stdout",
     "output_type": "stream",
     "text": [
      "preshape (502, 55)\n",
      "aftershape (502, 56)\n",
      "name csvsingle22_ok\n",
      "name ../test_result\\csvsingle22_ok.csv\n"
     ]
    },
    {
     "name": "stderr",
     "output_type": "stream",
     "text": [
      "d:\\gongju\\python3.6 64\\anzhuang\\lib\\site-packages\\sklearn\\preprocessing\\label.py:151: DeprecationWarning: The truth value of an empty array is ambiguous. Returning False, but in future this will result in an error. Use `array.size > 0` to check that an array is not empty.\n",
      "  if diff:\n"
     ]
    },
    {
     "name": "stdout",
     "output_type": "stream",
     "text": [
      "preshape (388, 53)\n",
      "aftershape (388, 54)\n",
      "name csvsingle23_ok\n",
      "name ../test_result\\csvsingle23_ok.csv\n"
     ]
    },
    {
     "name": "stderr",
     "output_type": "stream",
     "text": [
      "d:\\gongju\\python3.6 64\\anzhuang\\lib\\site-packages\\sklearn\\preprocessing\\label.py:151: DeprecationWarning: The truth value of an empty array is ambiguous. Returning False, but in future this will result in an error. Use `array.size > 0` to check that an array is not empty.\n",
      "  if diff:\n"
     ]
    },
    {
     "name": "stdout",
     "output_type": "stream",
     "text": [
      "preshape (473, 67)\n",
      "aftershape (473, 68)\n",
      "name csvsingle28_ok\n",
      "name ../test_result\\csvsingle28_ok.csv\n"
     ]
    },
    {
     "name": "stderr",
     "output_type": "stream",
     "text": [
      "d:\\gongju\\python3.6 64\\anzhuang\\lib\\site-packages\\sklearn\\preprocessing\\label.py:151: DeprecationWarning: The truth value of an empty array is ambiguous. Returning False, but in future this will result in an error. Use `array.size > 0` to check that an array is not empty.\n",
      "  if diff:\n"
     ]
    },
    {
     "name": "stdout",
     "output_type": "stream",
     "text": [
      "preshape (603, 53)\n",
      "aftershape (603, 54)\n",
      "name csvsingle3_ok\n",
      "name ../test_result\\csvsingle3_ok.csv\n"
     ]
    }
   ],
   "source": [
    "onlineTest = True\n",
    "\n",
    "if onlineTest == True:\n",
    "    train =  pd.read_csv(\"../trainFullNumberNew8.csv\",encoding = \"utf-8\",header = None)\n",
    "    print(\".............\")\n",
    "    l = 56\n",
    "    trainx = train.iloc[:,1:l]  # 取了20维度，效果明显提升。明天试下多少合适(用循环语句)\n",
    "    trainy = train.iloc[:,0]\n",
    "    trainx.fillna(-888,inplace = True)\n",
    "    trainx.columns = np.arange(0,l-1)\n",
    "    print(\"trainx\",trainx.head())\n",
    "    xgb1 = XGBClassifier(\n",
    "                learning_rate =0.1,\n",
    "        #         n_estimators=mm.shpa[0],\n",
    "                max_depth=5,\n",
    "                min_child_weight=5,\n",
    "                gamma=0.1,\n",
    "                subsample=0.8,\n",
    "                colsample_bytree=0.8,\n",
    "                nthread=3,\n",
    "                scale_pos_weight=1,\n",
    "                StratifiedKFold = True,          #0.866124\t0.008005\t0.965337\t0.002286\n",
    "                seed=1)\n",
    "    xgb1.fit(trainx,trainy)\n",
    "    print(trainx.shape,trainy.shape)\n",
    "rightNumber = 0\n",
    "\n",
    "number = 0\n",
    "fulldata = 0\n",
    "kk = 0\n",
    "\n",
    "for path,dirname,filenames in os.walk(dirs): \n",
    "    for filename in filenames:\n",
    "        if filename.endswith('.csv'):  #因为有ipython 在所以必须有这句\n",
    "            number += 1\n",
    "#             print(\"filename\",filename)\n",
    "            data = pd.read_csv(filename,encoding = \"gb18030\",header = None)\n",
    "            cc = prepross(data)\n",
    "            tmp = 0\n",
    "            cc.columns = np.arange(0,cc.shape[1])\n",
    "            tmp = pd.concat([trainx,cc],axis = 0, ignore_index = True)\n",
    "            cc1 = tmp.iloc[trainx.shape[0]:,0:l-1]\n",
    "            cc1.fillna(-888,inplace = True)\n",
    "            prexgb = xgb1.predict(cc1)\n",
    "            print(\"preshape\",data.shape)\n",
    "            data.insert(0,\"test_result\",prexgb)  \n",
    "            print(\"aftershape\",data.shape)\n",
    "            name = filename.split(\".\")[0]\n",
    "            finalpath = \"../test_result\"\n",
    "            newpath = os.path.join(finalpath,name)+\".csv\"\n",
    "            data.to_csv(newpath,index = False,header = None,encoding =\"gb18030\")\n",
    "            if number % 10 == 0:\n",
    "                print(number)"
   ]
  },
  {
   "cell_type": "code",
   "execution_count": null,
   "metadata": {},
   "outputs": [],
   "source": [
    "a = pd.DataFrame([[1,5,6],[5,6,8]],columns = ['a','1','5'])\n",
    "b = pd.DataFrame([[np.nan,6,np.nan],[9,np.nan,8],[5,6,8],[np.nan,np.nan,np.nan]],columns = ['1','5','e'])\n",
    "print(a,'\\n',b)\n",
    "# pd.concat([a,b],axis = 0,ignore_index = False)\n",
    "# np.arange(0,15)\n",
    "# if onlineTest = False:\n",
    "#     \n",
    "x = b.isnull().sum(axis = 1)\n",
    "# data =  pd.read_csv(\"../trainFullNumberNew8.csv\",encoding = \"utf-8\",header = None)\n"
   ]
  }
 ],
 "metadata": {
  "kernelspec": {
   "display_name": "Python 3",
   "language": "python",
   "name": "python3"
  }
 },
 "nbformat": 4,
 "nbformat_minor": 2
}
