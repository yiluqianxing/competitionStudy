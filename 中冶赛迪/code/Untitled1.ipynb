{
 "cells": [
  {
   "cell_type": "code",
   "execution_count": 1,
   "metadata": {},
   "outputs": [],
   "source": [
    "import numpy as np\n",
    "import pandas as pd"
   ]
  },
  {
   "cell_type": "code",
   "execution_count": 6,
   "metadata": {},
   "outputs": [
    {
     "name": "stdout",
     "output_type": "stream",
     "text": [
      "   0                                                  1    2    3      4    \\\n",
      "0    1  1 -666 -888 -888 -888 -888 -888 -888 -888 -888...    1 -666 -888.0   \n",
      "1    1  1 -888 -888 -888 -888 -888 -888 -888 -888 -888...    1 -888 -888.0   \n",
      "2    2  1 -888 -888 -888 -888 -666 -888 -888 -888 -666...    1 -888 -888.0   \n",
      "3    2  1 -666 -666 -666 -666 -666 -666 -666 -666 -666...    1 -666 -666.0   \n",
      "4    2  1 -666 -666 8 8 8 8 8 8 8 8 8 8 8 8 8 8 8 8 8 ...    1 -666 -666.0   \n",
      "\n",
      "     5      6      7      8      9   ...   235  236  237  238  239  240  241  \\\n",
      "0 -888.0 -888.0 -888.0 -888.0 -888.0 ...   NaN  NaN  NaN  NaN  NaN  NaN  NaN   \n",
      "1 -888.0 -888.0 -888.0 -888.0 -888.0 ...   NaN  NaN  NaN  NaN  NaN  NaN  NaN   \n",
      "2 -888.0 -888.0 -666.0 -888.0 -888.0 ...   NaN  NaN  NaN  NaN  NaN  NaN  NaN   \n",
      "3 -666.0 -666.0 -666.0 -666.0 -666.0 ...   NaN  NaN  NaN  NaN  NaN  NaN  NaN   \n",
      "4    8.0    8.0    8.0    8.0    8.0 ...   NaN  NaN  NaN  NaN  NaN  NaN  NaN   \n",
      "\n",
      "   242  243  244  \n",
      "0  NaN  NaN  NaN  \n",
      "1  NaN  NaN  NaN  \n",
      "2  NaN  NaN  NaN  \n",
      "3  NaN  NaN  NaN  \n",
      "4  NaN  NaN  NaN  \n",
      "\n",
      "[5 rows x 245 columns]\n",
      ".............\n"
     ]
    }
   ],
   "source": [
    "train =  pd.read_csv(\"../trainFullNumber.csv\",encoding = \"utf-8\",header = None)\n",
    "print(train.head())\n",
    "print(\".............\")\n",
    "trainx = train.iloc[:,2:12]\n",
    "trainy = train.iloc[:,0]\n",
    "# trainx,trainy"
   ]
  },
  {
   "cell_type": "code",
   "execution_count": 9,
   "metadata": {},
   "outputs": [
    {
     "data": {
      "text/plain": [
       "2     0\n",
       "3     0\n",
       "4     0\n",
       "5     0\n",
       "6     0\n",
       "7     0\n",
       "8     0\n",
       "9     0\n",
       "10    0\n",
       "11    0\n",
       "dtype: int64"
      ]
     },
     "execution_count": 9,
     "metadata": {},
     "output_type": "execute_result"
    }
   ],
   "source": [
    "trainx.fillna(-888,inplace = True)\n",
    "trainx.isnull().sum()"
   ]
  },
  {
   "cell_type": "code",
   "execution_count": 13,
   "metadata": {},
   "outputs": [
    {
     "name": "stdout",
     "output_type": "stream",
     "text": [
      "0.9927114559454535\n"
     ]
    },
    {
     "name": "stderr",
     "output_type": "stream",
     "text": [
      "d:\\gongju\\python3.6 64\\anzhuang\\lib\\site-packages\\sklearn\\ensemble\\forest.py:453: UserWarning: Some inputs do not have OOB scores. This probably means too few trees were used to compute any reliable oob estimates.\n",
      "  warn(\"Some inputs do not have OOB scores. \"\n",
      "d:\\gongju\\python3.6 64\\anzhuang\\lib\\site-packages\\sklearn\\ensemble\\forest.py:458: RuntimeWarning: invalid value encountered in true_divide\n",
      "  predictions[k].sum(axis=1)[:, np.newaxis])\n"
     ]
    }
   ],
   "source": [
    "from sklearn.ensemble import RandomForestClassifier\n",
    "from sklearn.model_selection import train_test_split\n",
    "from sklearn.metrics import accuracy_score\n",
    "\n",
    "rf0 = RandomForestClassifier(oob_score=True, random_state=10)\n",
    "x_train,x_test,y_train,y_test = train_test_split(trainx,trainy,test_size = 0.3,random_state=10)\n",
    "rf0.fit(x_train,y_train)\n",
    "pre = rf0.predict(x_test)\n",
    "print(accuracy_score(pre,y_test))"
   ]
  },
  {
   "cell_type": "code",
   "execution_count": 20,
   "metadata": {},
   "outputs": [],
   "source": [
    "def my_confusion_matrix(y_true, y_pred):  \n",
    "    from sklearn.metrics import confusion_matrix  \n",
    "    labels = list(set(y_true))  \n",
    "    conf_mat = confusion_matrix(y_true, y_pred, labels = labels)  \n",
    "    print (\"confusion_matrix(left labels: y_true, up labels: y_pred):\"  )\n",
    "    print (\"labels\\t\",  )\n",
    "    for i in range(len(labels)):  \n",
    "        print (labels[i],\"\\t\",  )\n",
    "    print   \n",
    "    for i in range(len(conf_mat)):  \n",
    "        print (i,\"\\t\",  )\n",
    "        for j in range(len(conf_mat[i])):  \n",
    "            print (conf_mat[i][j],'\\t',  )\n",
    "        print   \n",
    "    print   \n",
    "\n",
    "def plot_confusion_matrix(y_true, y_pred, labels):\n",
    "    import matplotlib.pyplot as plt\n",
    "    from sklearn.metrics import confusion_matrix\n",
    "    cmap = plt.cm.binary\n",
    "    cm = confusion_matrix(y_true, y_pred)\n",
    "    tick_marks = np.array(range(len(labels))) + 0.5\n",
    "    np.set_printoptions(precision=2)\n",
    "    cm_normalized = cm.astype('float') / cm.sum(axis=1)[:, np.newaxis]\n",
    "    plt.figure(figsize=(10, 8), dpi=120)\n",
    "    ind_array = np.arange(len(labels))\n",
    "    x, y = np.meshgrid(ind_array, ind_array)\n",
    "    intFlag = 0 # 标记在图片中对文字是整数型还是浮点型\n",
    "    for x_val, y_val in zip(x.flatten(), y.flatten()):\n",
    "        #\n",
    "\n",
    "        if (intFlag):\n",
    "            c = cm[y_val][x_val]\n",
    "            plt.text(x_val, y_val, \"%d\" % (c,), color='red', fontsize=8, va='center', ha='center')\n",
    "\n",
    "        else:\n",
    "            c = cm_normalized[y_val][x_val]\n",
    "            if (c > 0.01):\n",
    "                #这里是绘制数字，可以对数字大小和颜色进行修改\n",
    "                plt.text(x_val, y_val, \"%0.2f\" % (c,), color='red', fontsize=7, va='center', ha='center')\n",
    "            else:\n",
    "                plt.text(x_val, y_val, \"%d\" % (0,), color='red', fontsize=7, va='center', ha='center')\n",
    "    if(intFlag):\n",
    "        plt.imshow(cm, interpolation='nearest', cmap=cmap)\n",
    "    else:\n",
    "        plt.imshow(cm_normalized, interpolation='nearest', cmap=cmap)\n",
    "    plt.gca().set_xticks(tick_marks, minor=True)\n",
    "    plt.gca().set_yticks(tick_marks, minor=True)\n",
    "    plt.gca().xaxis.set_ticks_position('none')\n",
    "    plt.gca().yaxis.set_ticks_position('none')\n",
    "    plt.grid(True, which='minor', linestyle='-')\n",
    "    plt.gcf().subplots_adjust(bottom=0.15)\n",
    "    plt.title('')\n",
    "    plt.colorbar()\n",
    "    xlocations = np.array(range(len(labels)))\n",
    "    plt.xticks(xlocations, labels, rotation=90)\n",
    "    plt.yticks(xlocations, labels)\n",
    "    plt.ylabel('Index of True Classes')\n",
    "    plt.xlabel('Index of Predict Classes')\n",
    "#     plt.savefig('confusion_matrix.jpg', dpi=300)\n",
    "    plt.show()"
   ]
  },
  {
   "cell_type": "code",
   "execution_count": 21,
   "metadata": {},
   "outputs": [
    {
     "data": {
      "image/png": "[encoded data removed]",
      "text/plain": [
       "<Figure size 1200x960 with 2 Axes>"
      ]
     },
     "metadata": {},
     "output_type": "display_data"
    }
   ],
   "source": [
    "# my_confusion_matrix(pre,y_test)\n",
    "labels = [1,2,3,4]\n",
    "plot_confusion_matrix(pre,y_test,labels)"
   ]
  }
 ],
 "metadata": {
  "kernelspec": {
   "display_name": "Python 3",
   "language": "python",
   "name": "python3"
  },
  "language_info": {
   "codemirror_mode": {
    "name": "ipython",
    "version": 3
   },
   "file_extension": ".py",
   "mimetype": "text/x-python",
   "name": "python",
   "nbconvert_exporter": "python",
   "pygments_lexer": "ipython3",
   "version": "3.6.3rc1"
  }
 },
 "nbformat": 4,
 "nbformat_minor": 2
}
