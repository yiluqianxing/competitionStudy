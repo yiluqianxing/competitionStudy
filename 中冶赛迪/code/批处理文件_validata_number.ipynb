{
 "cells": [
  {
   "cell_type": "code",
   "execution_count": 1,
   "metadata": {},
   "outputs": [],
   "source": [
    "import numpy as np\n",
    "import pandas as pd\n",
    "import fasttext\n",
    "import os\n",
    "import os.path\n",
    "from sklearn.metrics import precision_score, recall_score, f1_score \n",
    "from sklearn.ensemble import RandomForestClassifier\n",
    "from sklearn.model_selection import train_test_split\n",
    "from sklearn.metrics import accuracy_score\n",
    "import xgboost as xgb\n",
    "from xgboost.sklearn import XGBClassifier"
   ]
  },
  {
   "cell_type": "code",
   "execution_count": 2,
   "metadata": {
    "scrolled": true
   },
   "outputs": [
    {
     "data": {
      "text/plain": [
       "122"
      ]
     },
     "execution_count": 2,
     "metadata": {},
     "output_type": "execute_result"
    }
   ],
   "source": [
    "dirs = os.getcwd()\n",
    "len(os.listdir(dirs))"
   ]
  },
  {
   "cell_type": "code",
   "execution_count": 3,
   "metadata": {},
   "outputs": [],
   "source": [
    "'''\n",
    " *各种字符的unicode编码的范围：\n",
    "     * 汉字：[0x4e00,0x9fa5]（或十进制[19968,40869]）\n",
    "     * 数字：[0x30,0x39]（或十进制[48, 57]）\n",
    "     *小写字母：[0x61,0x7a]（或十进制[97, 122]）\n",
    "     * 大写字母：[0x41,0x5a]（或十进制[65, 90]）\n",
    "'''\n",
    "import re\n",
    "zhPattern = re.compile(u'[\\u4e00-\\u9fa5]+')\n",
    "numPattern = re.compile('[0-9]')\n",
    "def deal(x):\n",
    "    if x == -888:  #这是缺失值填充的（记得先填充缺失值）\n",
    "        return x\n",
    "    contents = str(x)\n",
    "    zhmatch = zhPattern.search(contents)\n",
    "    if zhmatch:  \n",
    "#         print (u'有中文：%s' % (zhmatch.group(0),))  #记住是怎么打印的\n",
    "        return -666  #汉字 直接返回\n",
    "    numbermatch = numPattern.search(contents)\n",
    "    if numbermatch:\n",
    "        return 8 #表示 数字 \n",
    "    else:\n",
    "#         print (u'有字母：%s' % (x))  #记住是怎么打印的\n",
    "        return 9 #表示字母\n",
    "        "
   ]
  },
  {
   "cell_type": "code",
   "execution_count": 4,
   "metadata": {},
   "outputs": [],
   "source": [
    "def prepross(data):\n",
    "    #1 使用填充的方式把\n",
    "    dataPro = data.copy()\n",
    "    label = dataPro.columns\n",
    "    #统计每行的缺失率\n",
    "    dataPro.insert(0,\"missingRate\",0)\n",
    "    dataPro[\"missingRate\"] = dataPro.isnull().sum(axis = 1)/dataPro.shape[1]\n",
    "    \n",
    "    dataPro.fillna(-888,inplace = True)\n",
    "    # 数字和空缺值填充，保留分布格局\n",
    "    for i in range(len(label)):\n",
    "        dataPro[label[i]] = dataPro[label[i]].apply(lambda x: deal(x) )\n",
    "        \n",
    "    dataPro.insert(1,\"index\",dataPro.index)\n",
    "    dataPro.insert(2,\"position\",0)\n",
    "    dataPro.insert(3,\"first_last_No\",0)\n",
    "    dataPro.insert(4,\"class2_number\",0)\n",
    "    dataPro.insert(5,\"alphabet\",0)\n",
    "    \n",
    "    number1 = 0\n",
    "    for i in range(dataPro.shape[0]):\n",
    "        if i < int(dataPro.shape[0]/3):\n",
    "            dataPro[\"position\"][i] = 1\n",
    "        elif i < int(2*dataPro.shape[0]/3) and i >= int(dataPro.shape[0]/3):\n",
    "            dataPro[\"position\"][i] = 2\n",
    "        else:\n",
    "            dataPro[\"position\"][i] = 3\n",
    "\n",
    "        # 下面表示的是 头部加上序列号（2标签可能全是数字），尾部全部用 -1\n",
    "        #  (dataPro.iloc[i,:] == -666).sum() 比较保险，data[i] 出错。\n",
    "        if (dataPro.iloc[i,:] == 8).sum() < (dataPro.iloc[i,:] == -666).sum() and number1 == 0:\n",
    "                dataPro[\"first_last_No\"][i] = i\n",
    "        else:\n",
    "             #针对 class2 全是数字的情况\n",
    "            if i < int(dataPro.shape[0]/3):\n",
    "                if (dataPro.iloc[i+1,:] == 8).sum() < (dataPro.iloc[i+1,:] == -666).sum()and number1 == 0: \n",
    "                    dataPro[\"first_last_No\"][i] = i  #仍然编码 ，原来是i\n",
    "                    dataPro[\"class2_number\"][i] = 1 \n",
    "                else:    \n",
    "                    number1 += 1\n",
    "        #中间class3 不用管 就是0\n",
    "        if (dataPro.iloc[i,:] == 8).sum() < (dataPro.iloc[i,:] == -666).sum() and number1 > 0:\n",
    "               dataPro[\"first_last_No\"][i] = -1 \n",
    "        # 对字母比较多的行进行标记\n",
    "        if (dataPro.iloc[i,:] == 9).sum() > (dataPro.iloc[i,:] == -666).sum() and i < int(dataPro.shape[0]/3):\n",
    "            dataPro[\"alphabet\"][i] = 1\n",
    "    return dataPro"
   ]
  },
  {
   "cell_type": "code",
   "execution_count": 5,
   "metadata": {
    "scrolled": true
   },
   "outputs": [
    {
     "name": "stdout",
     "output_type": "stream",
     "text": [
      ".............\n",
      "trainx          0   1   2   3   4   5    6      7      8      9   ...       45  \\\n",
      "0  0.970149   0   1   0   0   0 -666 -888.0 -888.0 -888.0  ...   -888.0   \n",
      "1  0.970149   1   1   1   0   0 -888 -888.0 -888.0 -888.0  ...   -888.0   \n",
      "2  0.835821   2   1   2   0   0 -888 -888.0 -888.0 -888.0  ...   -888.0   \n",
      "3  0.119403   3   1   3   0   0 -666 -666.0 -666.0 -666.0  ...   -666.0   \n",
      "4  0.119403   4   1   0   0   1 -666 -666.0    9.0    9.0  ...      9.0   \n",
      "\n",
      "      46     47     48     49     50     51     52     53     54  \n",
      "0 -888.0 -888.0 -888.0 -888.0 -888.0 -888.0 -888.0 -888.0 -888.0  \n",
      "1 -888.0 -888.0 -888.0 -888.0 -888.0 -888.0 -888.0 -888.0 -888.0  \n",
      "2 -666.0 -888.0 -888.0 -888.0 -888.0 -888.0 -666.0 -888.0 -666.0  \n",
      "3 -666.0 -666.0 -666.0 -666.0 -666.0 -666.0 -666.0 -666.0 -666.0  \n",
      "4    9.0    9.0    9.0    9.0    9.0    9.0    9.0    8.0    9.0  \n",
      "\n",
      "[5 rows x 55 columns]\n",
      "(56710, 55) (56710,)\n"
     ]
    },
    {
     "name": "stderr",
     "output_type": "stream",
     "text": [
      "d:\\gongju\\python3.6 64\\anzhuang\\lib\\site-packages\\ipykernel_launcher.py:23: SettingWithCopyWarning: \n",
      "A value is trying to be set on a copy of a slice from a DataFrame\n",
      "\n",
      "See the caveats in the documentation: http://pandas.pydata.org/pandas-docs/stable/indexing.html#indexing-view-versus-copy\n",
      "d:\\gongju\\python3.6 64\\anzhuang\\lib\\site-packages\\ipykernel_launcher.py:32: SettingWithCopyWarning: \n",
      "A value is trying to be set on a copy of a slice from a DataFrame\n",
      "\n",
      "See the caveats in the documentation: http://pandas.pydata.org/pandas-docs/stable/indexing.html#indexing-view-versus-copy\n",
      "d:\\gongju\\python3.6 64\\anzhuang\\lib\\site-packages\\ipykernel_launcher.py:46: SettingWithCopyWarning: \n",
      "A value is trying to be set on a copy of a slice from a DataFrame\n",
      "\n",
      "See the caveats in the documentation: http://pandas.pydata.org/pandas-docs/stable/indexing.html#indexing-view-versus-copy\n",
      "d:\\gongju\\python3.6 64\\anzhuang\\lib\\site-packages\\ipykernel_launcher.py:25: SettingWithCopyWarning: \n",
      "A value is trying to be set on a copy of a slice from a DataFrame\n",
      "\n",
      "See the caveats in the documentation: http://pandas.pydata.org/pandas-docs/stable/indexing.html#indexing-view-versus-copy\n",
      "d:\\gongju\\python3.6 64\\anzhuang\\lib\\site-packages\\ipykernel_launcher.py:27: SettingWithCopyWarning: \n",
      "A value is trying to be set on a copy of a slice from a DataFrame\n",
      "\n",
      "See the caveats in the documentation: http://pandas.pydata.org/pandas-docs/stable/indexing.html#indexing-view-versus-copy\n",
      "d:\\gongju\\python3.6 64\\anzhuang\\lib\\site-packages\\ipykernel_launcher.py:43: SettingWithCopyWarning: \n",
      "A value is trying to be set on a copy of a slice from a DataFrame\n",
      "\n",
      "See the caveats in the documentation: http://pandas.pydata.org/pandas-docs/stable/indexing.html#indexing-view-versus-copy\n",
      "d:\\gongju\\python3.6 64\\anzhuang\\lib\\site-packages\\sklearn\\preprocessing\\label.py:151: DeprecationWarning: The truth value of an empty array is ambiguous. Returning False, but in future this will result in an error. Use `array.size > 0` to check that an array is not empty.\n",
      "  if diff:\n",
      "d:\\gongju\\python3.6 64\\anzhuang\\lib\\site-packages\\sklearn\\preprocessing\\label.py:151: DeprecationWarning: The truth value of an empty array is ambiguous. Returning False, but in future this will result in an error. Use `array.size > 0` to check that an array is not empty.\n",
      "  if diff:\n",
      "d:\\gongju\\python3.6 64\\anzhuang\\lib\\site-packages\\ipykernel_launcher.py:37: SettingWithCopyWarning: \n",
      "A value is trying to be set on a copy of a slice from a DataFrame\n",
      "\n",
      "See the caveats in the documentation: http://pandas.pydata.org/pandas-docs/stable/indexing.html#indexing-view-versus-copy\n",
      "d:\\gongju\\python3.6 64\\anzhuang\\lib\\site-packages\\ipykernel_launcher.py:38: SettingWithCopyWarning: \n",
      "A value is trying to be set on a copy of a slice from a DataFrame\n",
      "\n",
      "See the caveats in the documentation: http://pandas.pydata.org/pandas-docs/stable/indexing.html#indexing-view-versus-copy\n",
      "d:\\gongju\\python3.6 64\\anzhuang\\lib\\site-packages\\sklearn\\preprocessing\\label.py:151: DeprecationWarning: The truth value of an empty array is ambiguous. Returning False, but in future this will result in an error. Use `array.size > 0` to check that an array is not empty.\n",
      "  if diff:\n",
      "d:\\gongju\\python3.6 64\\anzhuang\\lib\\site-packages\\sklearn\\preprocessing\\label.py:151: DeprecationWarning: The truth value of an empty array is ambiguous. Returning False, but in future this will result in an error. Use `array.size > 0` to check that an array is not empty.\n",
      "  if diff:\n",
      "d:\\gongju\\python3.6 64\\anzhuang\\lib\\site-packages\\sklearn\\preprocessing\\label.py:151: DeprecationWarning: The truth value of an empty array is ambiguous. Returning False, but in future this will result in an error. Use `array.size > 0` to check that an array is not empty.\n",
      "  if diff:\n",
      "d:\\gongju\\python3.6 64\\anzhuang\\lib\\site-packages\\sklearn\\preprocessing\\label.py:151: DeprecationWarning: The truth value of an empty array is ambiguous. Returning False, but in future this will result in an error. Use `array.size > 0` to check that an array is not empty.\n",
      "  if diff:\n",
      "d:\\gongju\\python3.6 64\\anzhuang\\lib\\site-packages\\sklearn\\preprocessing\\label.py:151: DeprecationWarning: The truth value of an empty array is ambiguous. Returning False, but in future this will result in an error. Use `array.size > 0` to check that an array is not empty.\n",
      "  if diff:\n",
      "d:\\gongju\\python3.6 64\\anzhuang\\lib\\site-packages\\sklearn\\preprocessing\\label.py:151: DeprecationWarning: The truth value of an empty array is ambiguous. Returning False, but in future this will result in an error. Use `array.size > 0` to check that an array is not empty.\n",
      "  if diff:\n",
      "d:\\gongju\\python3.6 64\\anzhuang\\lib\\site-packages\\sklearn\\preprocessing\\label.py:151: DeprecationWarning: The truth value of an empty array is ambiguous. Returning False, but in future this will result in an error. Use `array.size > 0` to check that an array is not empty.\n",
      "  if diff:\n",
      "d:\\gongju\\python3.6 64\\anzhuang\\lib\\site-packages\\sklearn\\preprocessing\\label.py:151: DeprecationWarning: The truth value of an empty array is ambiguous. Returning False, but in future this will result in an error. Use `array.size > 0` to check that an array is not empty.\n",
      "  if diff:\n"
     ]
    },
    {
     "name": "stdout",
     "output_type": "stream",
     "text": [
      "10\n"
     ]
    },
    {
     "name": "stderr",
     "output_type": "stream",
     "text": [
      "d:\\gongju\\python3.6 64\\anzhuang\\lib\\site-packages\\sklearn\\preprocessing\\label.py:151: DeprecationWarning: The truth value of an empty array is ambiguous. Returning False, but in future this will result in an error. Use `array.size > 0` to check that an array is not empty.\n",
      "  if diff:\n",
      "d:\\gongju\\python3.6 64\\anzhuang\\lib\\site-packages\\sklearn\\preprocessing\\label.py:151: DeprecationWarning: The truth value of an empty array is ambiguous. Returning False, but in future this will result in an error. Use `array.size > 0` to check that an array is not empty.\n",
      "  if diff:\n",
      "d:\\gongju\\python3.6 64\\anzhuang\\lib\\site-packages\\sklearn\\preprocessing\\label.py:151: DeprecationWarning: The truth value of an empty array is ambiguous. Returning False, but in future this will result in an error. Use `array.size > 0` to check that an array is not empty.\n",
      "  if diff:\n",
      "d:\\gongju\\python3.6 64\\anzhuang\\lib\\site-packages\\sklearn\\preprocessing\\label.py:151: DeprecationWarning: The truth value of an empty array is ambiguous. Returning False, but in future this will result in an error. Use `array.size > 0` to check that an array is not empty.\n",
      "  if diff:\n",
      "d:\\gongju\\python3.6 64\\anzhuang\\lib\\site-packages\\sklearn\\preprocessing\\label.py:151: DeprecationWarning: The truth value of an empty array is ambiguous. Returning False, but in future this will result in an error. Use `array.size > 0` to check that an array is not empty.\n",
      "  if diff:\n",
      "d:\\gongju\\python3.6 64\\anzhuang\\lib\\site-packages\\sklearn\\preprocessing\\label.py:151: DeprecationWarning: The truth value of an empty array is ambiguous. Returning False, but in future this will result in an error. Use `array.size > 0` to check that an array is not empty.\n",
      "  if diff:\n",
      "d:\\gongju\\python3.6 64\\anzhuang\\lib\\site-packages\\sklearn\\preprocessing\\label.py:151: DeprecationWarning: The truth value of an empty array is ambiguous. Returning False, but in future this will result in an error. Use `array.size > 0` to check that an array is not empty.\n",
      "  if diff:\n",
      "d:\\gongju\\python3.6 64\\anzhuang\\lib\\site-packages\\sklearn\\preprocessing\\label.py:151: DeprecationWarning: The truth value of an empty array is ambiguous. Returning False, but in future this will result in an error. Use `array.size > 0` to check that an array is not empty.\n",
      "  if diff:\n",
      "d:\\gongju\\python3.6 64\\anzhuang\\lib\\site-packages\\sklearn\\preprocessing\\label.py:151: DeprecationWarning: The truth value of an empty array is ambiguous. Returning False, but in future this will result in an error. Use `array.size > 0` to check that an array is not empty.\n",
      "  if diff:\n",
      "d:\\gongju\\python3.6 64\\anzhuang\\lib\\site-packages\\sklearn\\preprocessing\\label.py:151: DeprecationWarning: The truth value of an empty array is ambiguous. Returning False, but in future this will result in an error. Use `array.size > 0` to check that an array is not empty.\n",
      "  if diff:\n"
     ]
    },
    {
     "name": "stdout",
     "output_type": "stream",
     "text": [
      "20\n"
     ]
    },
    {
     "name": "stderr",
     "output_type": "stream",
     "text": [
      "d:\\gongju\\python3.6 64\\anzhuang\\lib\\site-packages\\sklearn\\preprocessing\\label.py:151: DeprecationWarning: The truth value of an empty array is ambiguous. Returning False, but in future this will result in an error. Use `array.size > 0` to check that an array is not empty.\n",
      "  if diff:\n",
      "d:\\gongju\\python3.6 64\\anzhuang\\lib\\site-packages\\sklearn\\preprocessing\\label.py:151: DeprecationWarning: The truth value of an empty array is ambiguous. Returning False, but in future this will result in an error. Use `array.size > 0` to check that an array is not empty.\n",
      "  if diff:\n",
      "d:\\gongju\\python3.6 64\\anzhuang\\lib\\site-packages\\sklearn\\preprocessing\\label.py:151: DeprecationWarning: The truth value of an empty array is ambiguous. Returning False, but in future this will result in an error. Use `array.size > 0` to check that an array is not empty.\n",
      "  if diff:\n",
      "d:\\gongju\\python3.6 64\\anzhuang\\lib\\site-packages\\sklearn\\preprocessing\\label.py:151: DeprecationWarning: The truth value of an empty array is ambiguous. Returning False, but in future this will result in an error. Use `array.size > 0` to check that an array is not empty.\n",
      "  if diff:\n",
      "d:\\gongju\\python3.6 64\\anzhuang\\lib\\site-packages\\sklearn\\preprocessing\\label.py:151: DeprecationWarning: The truth value of an empty array is ambiguous. Returning False, but in future this will result in an error. Use `array.size > 0` to check that an array is not empty.\n",
      "  if diff:\n",
      "d:\\gongju\\python3.6 64\\anzhuang\\lib\\site-packages\\sklearn\\preprocessing\\label.py:151: DeprecationWarning: The truth value of an empty array is ambiguous. Returning False, but in future this will result in an error. Use `array.size > 0` to check that an array is not empty.\n",
      "  if diff:\n",
      "d:\\gongju\\python3.6 64\\anzhuang\\lib\\site-packages\\sklearn\\preprocessing\\label.py:151: DeprecationWarning: The truth value of an empty array is ambiguous. Returning False, but in future this will result in an error. Use `array.size > 0` to check that an array is not empty.\n",
      "  if diff:\n",
      "d:\\gongju\\python3.6 64\\anzhuang\\lib\\site-packages\\sklearn\\preprocessing\\label.py:151: DeprecationWarning: The truth value of an empty array is ambiguous. Returning False, but in future this will result in an error. Use `array.size > 0` to check that an array is not empty.\n",
      "  if diff:\n",
      "d:\\gongju\\python3.6 64\\anzhuang\\lib\\site-packages\\sklearn\\preprocessing\\label.py:151: DeprecationWarning: The truth value of an empty array is ambiguous. Returning False, but in future this will result in an error. Use `array.size > 0` to check that an array is not empty.\n",
      "  if diff:\n",
      "d:\\gongju\\python3.6 64\\anzhuang\\lib\\site-packages\\sklearn\\preprocessing\\label.py:151: DeprecationWarning: The truth value of an empty array is ambiguous. Returning False, but in future this will result in an error. Use `array.size > 0` to check that an array is not empty.\n",
      "  if diff:\n"
     ]
    },
    {
     "name": "stdout",
     "output_type": "stream",
     "text": [
      "30\n"
     ]
    },
    {
     "name": "stderr",
     "output_type": "stream",
     "text": [
      "d:\\gongju\\python3.6 64\\anzhuang\\lib\\site-packages\\sklearn\\preprocessing\\label.py:151: DeprecationWarning: The truth value of an empty array is ambiguous. Returning False, but in future this will result in an error. Use `array.size > 0` to check that an array is not empty.\n",
      "  if diff:\n",
      "d:\\gongju\\python3.6 64\\anzhuang\\lib\\site-packages\\sklearn\\preprocessing\\label.py:151: DeprecationWarning: The truth value of an empty array is ambiguous. Returning False, but in future this will result in an error. Use `array.size > 0` to check that an array is not empty.\n",
      "  if diff:\n",
      "d:\\gongju\\python3.6 64\\anzhuang\\lib\\site-packages\\sklearn\\preprocessing\\label.py:151: DeprecationWarning: The truth value of an empty array is ambiguous. Returning False, but in future this will result in an error. Use `array.size > 0` to check that an array is not empty.\n",
      "  if diff:\n",
      "d:\\gongju\\python3.6 64\\anzhuang\\lib\\site-packages\\sklearn\\preprocessing\\label.py:151: DeprecationWarning: The truth value of an empty array is ambiguous. Returning False, but in future this will result in an error. Use `array.size > 0` to check that an array is not empty.\n",
      "  if diff:\n",
      "d:\\gongju\\python3.6 64\\anzhuang\\lib\\site-packages\\sklearn\\preprocessing\\label.py:151: DeprecationWarning: The truth value of an empty array is ambiguous. Returning False, but in future this will result in an error. Use `array.size > 0` to check that an array is not empty.\n",
      "  if diff:\n",
      "d:\\gongju\\python3.6 64\\anzhuang\\lib\\site-packages\\sklearn\\preprocessing\\label.py:151: DeprecationWarning: The truth value of an empty array is ambiguous. Returning False, but in future this will result in an error. Use `array.size > 0` to check that an array is not empty.\n",
      "  if diff:\n",
      "d:\\gongju\\python3.6 64\\anzhuang\\lib\\site-packages\\sklearn\\preprocessing\\label.py:151: DeprecationWarning: The truth value of an empty array is ambiguous. Returning False, but in future this will result in an error. Use `array.size > 0` to check that an array is not empty.\n",
      "  if diff:\n",
      "d:\\gongju\\python3.6 64\\anzhuang\\lib\\site-packages\\sklearn\\preprocessing\\label.py:151: DeprecationWarning: The truth value of an empty array is ambiguous. Returning False, but in future this will result in an error. Use `array.size > 0` to check that an array is not empty.\n",
      "  if diff:\n",
      "d:\\gongju\\python3.6 64\\anzhuang\\lib\\site-packages\\sklearn\\preprocessing\\label.py:151: DeprecationWarning: The truth value of an empty array is ambiguous. Returning False, but in future this will result in an error. Use `array.size > 0` to check that an array is not empty.\n",
      "  if diff:\n",
      "d:\\gongju\\python3.6 64\\anzhuang\\lib\\site-packages\\sklearn\\preprocessing\\label.py:151: DeprecationWarning: The truth value of an empty array is ambiguous. Returning False, but in future this will result in an error. Use `array.size > 0` to check that an array is not empty.\n",
      "  if diff:\n"
     ]
    },
    {
     "name": "stdout",
     "output_type": "stream",
     "text": [
      "40\n"
     ]
    },
    {
     "name": "stderr",
     "output_type": "stream",
     "text": [
      "d:\\gongju\\python3.6 64\\anzhuang\\lib\\site-packages\\sklearn\\preprocessing\\label.py:151: DeprecationWarning: The truth value of an empty array is ambiguous. Returning False, but in future this will result in an error. Use `array.size > 0` to check that an array is not empty.\n",
      "  if diff:\n",
      "d:\\gongju\\python3.6 64\\anzhuang\\lib\\site-packages\\sklearn\\preprocessing\\label.py:151: DeprecationWarning: The truth value of an empty array is ambiguous. Returning False, but in future this will result in an error. Use `array.size > 0` to check that an array is not empty.\n",
      "  if diff:\n",
      "d:\\gongju\\python3.6 64\\anzhuang\\lib\\site-packages\\sklearn\\preprocessing\\label.py:151: DeprecationWarning: The truth value of an empty array is ambiguous. Returning False, but in future this will result in an error. Use `array.size > 0` to check that an array is not empty.\n",
      "  if diff:\n",
      "d:\\gongju\\python3.6 64\\anzhuang\\lib\\site-packages\\sklearn\\preprocessing\\label.py:151: DeprecationWarning: The truth value of an empty array is ambiguous. Returning False, but in future this will result in an error. Use `array.size > 0` to check that an array is not empty.\n",
      "  if diff:\n",
      "d:\\gongju\\python3.6 64\\anzhuang\\lib\\site-packages\\sklearn\\preprocessing\\label.py:151: DeprecationWarning: The truth value of an empty array is ambiguous. Returning False, but in future this will result in an error. Use `array.size > 0` to check that an array is not empty.\n",
      "  if diff:\n",
      "d:\\gongju\\python3.6 64\\anzhuang\\lib\\site-packages\\sklearn\\preprocessing\\label.py:151: DeprecationWarning: The truth value of an empty array is ambiguous. Returning False, but in future this will result in an error. Use `array.size > 0` to check that an array is not empty.\n",
      "  if diff:\n",
      "d:\\gongju\\python3.6 64\\anzhuang\\lib\\site-packages\\sklearn\\preprocessing\\label.py:151: DeprecationWarning: The truth value of an empty array is ambiguous. Returning False, but in future this will result in an error. Use `array.size > 0` to check that an array is not empty.\n",
      "  if diff:\n",
      "d:\\gongju\\python3.6 64\\anzhuang\\lib\\site-packages\\sklearn\\preprocessing\\label.py:151: DeprecationWarning: The truth value of an empty array is ambiguous. Returning False, but in future this will result in an error. Use `array.size > 0` to check that an array is not empty.\n",
      "  if diff:\n",
      "d:\\gongju\\python3.6 64\\anzhuang\\lib\\site-packages\\sklearn\\preprocessing\\label.py:151: DeprecationWarning: The truth value of an empty array is ambiguous. Returning False, but in future this will result in an error. Use `array.size > 0` to check that an array is not empty.\n",
      "  if diff:\n",
      "d:\\gongju\\python3.6 64\\anzhuang\\lib\\site-packages\\sklearn\\preprocessing\\label.py:151: DeprecationWarning: The truth value of an empty array is ambiguous. Returning False, but in future this will result in an error. Use `array.size > 0` to check that an array is not empty.\n",
      "  if diff:\n"
     ]
    },
    {
     "name": "stdout",
     "output_type": "stream",
     "text": [
      "50\n"
     ]
    },
    {
     "name": "stderr",
     "output_type": "stream",
     "text": [
      "d:\\gongju\\python3.6 64\\anzhuang\\lib\\site-packages\\sklearn\\preprocessing\\label.py:151: DeprecationWarning: The truth value of an empty array is ambiguous. Returning False, but in future this will result in an error. Use `array.size > 0` to check that an array is not empty.\n",
      "  if diff:\n",
      "d:\\gongju\\python3.6 64\\anzhuang\\lib\\site-packages\\sklearn\\preprocessing\\label.py:151: DeprecationWarning: The truth value of an empty array is ambiguous. Returning False, but in future this will result in an error. Use `array.size > 0` to check that an array is not empty.\n",
      "  if diff:\n",
      "d:\\gongju\\python3.6 64\\anzhuang\\lib\\site-packages\\sklearn\\preprocessing\\label.py:151: DeprecationWarning: The truth value of an empty array is ambiguous. Returning False, but in future this will result in an error. Use `array.size > 0` to check that an array is not empty.\n",
      "  if diff:\n",
      "d:\\gongju\\python3.6 64\\anzhuang\\lib\\site-packages\\sklearn\\preprocessing\\label.py:151: DeprecationWarning: The truth value of an empty array is ambiguous. Returning False, but in future this will result in an error. Use `array.size > 0` to check that an array is not empty.\n",
      "  if diff:\n",
      "d:\\gongju\\python3.6 64\\anzhuang\\lib\\site-packages\\sklearn\\preprocessing\\label.py:151: DeprecationWarning: The truth value of an empty array is ambiguous. Returning False, but in future this will result in an error. Use `array.size > 0` to check that an array is not empty.\n",
      "  if diff:\n",
      "d:\\gongju\\python3.6 64\\anzhuang\\lib\\site-packages\\sklearn\\preprocessing\\label.py:151: DeprecationWarning: The truth value of an empty array is ambiguous. Returning False, but in future this will result in an error. Use `array.size > 0` to check that an array is not empty.\n",
      "  if diff:\n",
      "d:\\gongju\\python3.6 64\\anzhuang\\lib\\site-packages\\sklearn\\preprocessing\\label.py:151: DeprecationWarning: The truth value of an empty array is ambiguous. Returning False, but in future this will result in an error. Use `array.size > 0` to check that an array is not empty.\n",
      "  if diff:\n",
      "d:\\gongju\\python3.6 64\\anzhuang\\lib\\site-packages\\sklearn\\preprocessing\\label.py:151: DeprecationWarning: The truth value of an empty array is ambiguous. Returning False, but in future this will result in an error. Use `array.size > 0` to check that an array is not empty.\n",
      "  if diff:\n",
      "d:\\gongju\\python3.6 64\\anzhuang\\lib\\site-packages\\sklearn\\preprocessing\\label.py:151: DeprecationWarning: The truth value of an empty array is ambiguous. Returning False, but in future this will result in an error. Use `array.size > 0` to check that an array is not empty.\n",
      "  if diff:\n",
      "d:\\gongju\\python3.6 64\\anzhuang\\lib\\site-packages\\sklearn\\preprocessing\\label.py:151: DeprecationWarning: The truth value of an empty array is ambiguous. Returning False, but in future this will result in an error. Use `array.size > 0` to check that an array is not empty.\n",
      "  if diff:\n"
     ]
    },
    {
     "name": "stdout",
     "output_type": "stream",
     "text": [
      "60\n"
     ]
    },
    {
     "name": "stderr",
     "output_type": "stream",
     "text": [
      "d:\\gongju\\python3.6 64\\anzhuang\\lib\\site-packages\\sklearn\\preprocessing\\label.py:151: DeprecationWarning: The truth value of an empty array is ambiguous. Returning False, but in future this will result in an error. Use `array.size > 0` to check that an array is not empty.\n",
      "  if diff:\n",
      "d:\\gongju\\python3.6 64\\anzhuang\\lib\\site-packages\\sklearn\\preprocessing\\label.py:151: DeprecationWarning: The truth value of an empty array is ambiguous. Returning False, but in future this will result in an error. Use `array.size > 0` to check that an array is not empty.\n",
      "  if diff:\n",
      "d:\\gongju\\python3.6 64\\anzhuang\\lib\\site-packages\\sklearn\\preprocessing\\label.py:151: DeprecationWarning: The truth value of an empty array is ambiguous. Returning False, but in future this will result in an error. Use `array.size > 0` to check that an array is not empty.\n",
      "  if diff:\n",
      "d:\\gongju\\python3.6 64\\anzhuang\\lib\\site-packages\\sklearn\\preprocessing\\label.py:151: DeprecationWarning: The truth value of an empty array is ambiguous. Returning False, but in future this will result in an error. Use `array.size > 0` to check that an array is not empty.\n",
      "  if diff:\n",
      "d:\\gongju\\python3.6 64\\anzhuang\\lib\\site-packages\\sklearn\\preprocessing\\label.py:151: DeprecationWarning: The truth value of an empty array is ambiguous. Returning False, but in future this will result in an error. Use `array.size > 0` to check that an array is not empty.\n",
      "  if diff:\n",
      "d:\\gongju\\python3.6 64\\anzhuang\\lib\\site-packages\\sklearn\\preprocessing\\label.py:151: DeprecationWarning: The truth value of an empty array is ambiguous. Returning False, but in future this will result in an error. Use `array.size > 0` to check that an array is not empty.\n",
      "  if diff:\n",
      "d:\\gongju\\python3.6 64\\anzhuang\\lib\\site-packages\\sklearn\\preprocessing\\label.py:151: DeprecationWarning: The truth value of an empty array is ambiguous. Returning False, but in future this will result in an error. Use `array.size > 0` to check that an array is not empty.\n",
      "  if diff:\n",
      "d:\\gongju\\python3.6 64\\anzhuang\\lib\\site-packages\\sklearn\\preprocessing\\label.py:151: DeprecationWarning: The truth value of an empty array is ambiguous. Returning False, but in future this will result in an error. Use `array.size > 0` to check that an array is not empty.\n",
      "  if diff:\n",
      "d:\\gongju\\python3.6 64\\anzhuang\\lib\\site-packages\\sklearn\\preprocessing\\label.py:151: DeprecationWarning: The truth value of an empty array is ambiguous. Returning False, but in future this will result in an error. Use `array.size > 0` to check that an array is not empty.\n",
      "  if diff:\n",
      "d:\\gongju\\python3.6 64\\anzhuang\\lib\\site-packages\\sklearn\\preprocessing\\label.py:151: DeprecationWarning: The truth value of an empty array is ambiguous. Returning False, but in future this will result in an error. Use `array.size > 0` to check that an array is not empty.\n",
      "  if diff:\n"
     ]
    },
    {
     "name": "stdout",
     "output_type": "stream",
     "text": [
      "70\n"
     ]
    },
    {
     "name": "stderr",
     "output_type": "stream",
     "text": [
      "d:\\gongju\\python3.6 64\\anzhuang\\lib\\site-packages\\sklearn\\preprocessing\\label.py:151: DeprecationWarning: The truth value of an empty array is ambiguous. Returning False, but in future this will result in an error. Use `array.size > 0` to check that an array is not empty.\n",
      "  if diff:\n",
      "d:\\gongju\\python3.6 64\\anzhuang\\lib\\site-packages\\sklearn\\preprocessing\\label.py:151: DeprecationWarning: The truth value of an empty array is ambiguous. Returning False, but in future this will result in an error. Use `array.size > 0` to check that an array is not empty.\n",
      "  if diff:\n",
      "d:\\gongju\\python3.6 64\\anzhuang\\lib\\site-packages\\sklearn\\preprocessing\\label.py:151: DeprecationWarning: The truth value of an empty array is ambiguous. Returning False, but in future this will result in an error. Use `array.size > 0` to check that an array is not empty.\n",
      "  if diff:\n",
      "d:\\gongju\\python3.6 64\\anzhuang\\lib\\site-packages\\sklearn\\preprocessing\\label.py:151: DeprecationWarning: The truth value of an empty array is ambiguous. Returning False, but in future this will result in an error. Use `array.size > 0` to check that an array is not empty.\n",
      "  if diff:\n",
      "d:\\gongju\\python3.6 64\\anzhuang\\lib\\site-packages\\sklearn\\preprocessing\\label.py:151: DeprecationWarning: The truth value of an empty array is ambiguous. Returning False, but in future this will result in an error. Use `array.size > 0` to check that an array is not empty.\n",
      "  if diff:\n",
      "d:\\gongju\\python3.6 64\\anzhuang\\lib\\site-packages\\sklearn\\preprocessing\\label.py:151: DeprecationWarning: The truth value of an empty array is ambiguous. Returning False, but in future this will result in an error. Use `array.size > 0` to check that an array is not empty.\n",
      "  if diff:\n",
      "d:\\gongju\\python3.6 64\\anzhuang\\lib\\site-packages\\sklearn\\preprocessing\\label.py:151: DeprecationWarning: The truth value of an empty array is ambiguous. Returning False, but in future this will result in an error. Use `array.size > 0` to check that an array is not empty.\n",
      "  if diff:\n",
      "d:\\gongju\\python3.6 64\\anzhuang\\lib\\site-packages\\sklearn\\preprocessing\\label.py:151: DeprecationWarning: The truth value of an empty array is ambiguous. Returning False, but in future this will result in an error. Use `array.size > 0` to check that an array is not empty.\n",
      "  if diff:\n",
      "d:\\gongju\\python3.6 64\\anzhuang\\lib\\site-packages\\sklearn\\preprocessing\\label.py:151: DeprecationWarning: The truth value of an empty array is ambiguous. Returning False, but in future this will result in an error. Use `array.size > 0` to check that an array is not empty.\n",
      "  if diff:\n",
      "d:\\gongju\\python3.6 64\\anzhuang\\lib\\site-packages\\sklearn\\preprocessing\\label.py:151: DeprecationWarning: The truth value of an empty array is ambiguous. Returning False, but in future this will result in an error. Use `array.size > 0` to check that an array is not empty.\n",
      "  if diff:\n"
     ]
    },
    {
     "name": "stdout",
     "output_type": "stream",
     "text": [
      "80\n"
     ]
    },
    {
     "name": "stderr",
     "output_type": "stream",
     "text": [
      "d:\\gongju\\python3.6 64\\anzhuang\\lib\\site-packages\\sklearn\\preprocessing\\label.py:151: DeprecationWarning: The truth value of an empty array is ambiguous. Returning False, but in future this will result in an error. Use `array.size > 0` to check that an array is not empty.\n",
      "  if diff:\n",
      "d:\\gongju\\python3.6 64\\anzhuang\\lib\\site-packages\\sklearn\\preprocessing\\label.py:151: DeprecationWarning: The truth value of an empty array is ambiguous. Returning False, but in future this will result in an error. Use `array.size > 0` to check that an array is not empty.\n",
      "  if diff:\n",
      "d:\\gongju\\python3.6 64\\anzhuang\\lib\\site-packages\\sklearn\\preprocessing\\label.py:151: DeprecationWarning: The truth value of an empty array is ambiguous. Returning False, but in future this will result in an error. Use `array.size > 0` to check that an array is not empty.\n",
      "  if diff:\n",
      "d:\\gongju\\python3.6 64\\anzhuang\\lib\\site-packages\\sklearn\\preprocessing\\label.py:151: DeprecationWarning: The truth value of an empty array is ambiguous. Returning False, but in future this will result in an error. Use `array.size > 0` to check that an array is not empty.\n",
      "  if diff:\n",
      "d:\\gongju\\python3.6 64\\anzhuang\\lib\\site-packages\\sklearn\\preprocessing\\label.py:151: DeprecationWarning: The truth value of an empty array is ambiguous. Returning False, but in future this will result in an error. Use `array.size > 0` to check that an array is not empty.\n",
      "  if diff:\n",
      "d:\\gongju\\python3.6 64\\anzhuang\\lib\\site-packages\\sklearn\\preprocessing\\label.py:151: DeprecationWarning: The truth value of an empty array is ambiguous. Returning False, but in future this will result in an error. Use `array.size > 0` to check that an array is not empty.\n",
      "  if diff:\n",
      "d:\\gongju\\python3.6 64\\anzhuang\\lib\\site-packages\\sklearn\\preprocessing\\label.py:151: DeprecationWarning: The truth value of an empty array is ambiguous. Returning False, but in future this will result in an error. Use `array.size > 0` to check that an array is not empty.\n",
      "  if diff:\n",
      "d:\\gongju\\python3.6 64\\anzhuang\\lib\\site-packages\\sklearn\\preprocessing\\label.py:151: DeprecationWarning: The truth value of an empty array is ambiguous. Returning False, but in future this will result in an error. Use `array.size > 0` to check that an array is not empty.\n",
      "  if diff:\n",
      "d:\\gongju\\python3.6 64\\anzhuang\\lib\\site-packages\\sklearn\\preprocessing\\label.py:151: DeprecationWarning: The truth value of an empty array is ambiguous. Returning False, but in future this will result in an error. Use `array.size > 0` to check that an array is not empty.\n",
      "  if diff:\n",
      "d:\\gongju\\python3.6 64\\anzhuang\\lib\\site-packages\\sklearn\\preprocessing\\label.py:151: DeprecationWarning: The truth value of an empty array is ambiguous. Returning False, but in future this will result in an error. Use `array.size > 0` to check that an array is not empty.\n",
      "  if diff:\n"
     ]
    },
    {
     "name": "stdout",
     "output_type": "stream",
     "text": [
      "90\n"
     ]
    },
    {
     "name": "stderr",
     "output_type": "stream",
     "text": [
      "d:\\gongju\\python3.6 64\\anzhuang\\lib\\site-packages\\sklearn\\preprocessing\\label.py:151: DeprecationWarning: The truth value of an empty array is ambiguous. Returning False, but in future this will result in an error. Use `array.size > 0` to check that an array is not empty.\n",
      "  if diff:\n",
      "d:\\gongju\\python3.6 64\\anzhuang\\lib\\site-packages\\sklearn\\preprocessing\\label.py:151: DeprecationWarning: The truth value of an empty array is ambiguous. Returning False, but in future this will result in an error. Use `array.size > 0` to check that an array is not empty.\n",
      "  if diff:\n",
      "d:\\gongju\\python3.6 64\\anzhuang\\lib\\site-packages\\sklearn\\preprocessing\\label.py:151: DeprecationWarning: The truth value of an empty array is ambiguous. Returning False, but in future this will result in an error. Use `array.size > 0` to check that an array is not empty.\n",
      "  if diff:\n",
      "d:\\gongju\\python3.6 64\\anzhuang\\lib\\site-packages\\sklearn\\preprocessing\\label.py:151: DeprecationWarning: The truth value of an empty array is ambiguous. Returning False, but in future this will result in an error. Use `array.size > 0` to check that an array is not empty.\n",
      "  if diff:\n",
      "d:\\gongju\\python3.6 64\\anzhuang\\lib\\site-packages\\sklearn\\preprocessing\\label.py:151: DeprecationWarning: The truth value of an empty array is ambiguous. Returning False, but in future this will result in an error. Use `array.size > 0` to check that an array is not empty.\n",
      "  if diff:\n",
      "d:\\gongju\\python3.6 64\\anzhuang\\lib\\site-packages\\sklearn\\preprocessing\\label.py:151: DeprecationWarning: The truth value of an empty array is ambiguous. Returning False, but in future this will result in an error. Use `array.size > 0` to check that an array is not empty.\n",
      "  if diff:\n",
      "d:\\gongju\\python3.6 64\\anzhuang\\lib\\site-packages\\sklearn\\preprocessing\\label.py:151: DeprecationWarning: The truth value of an empty array is ambiguous. Returning False, but in future this will result in an error. Use `array.size > 0` to check that an array is not empty.\n",
      "  if diff:\n",
      "d:\\gongju\\python3.6 64\\anzhuang\\lib\\site-packages\\sklearn\\preprocessing\\label.py:151: DeprecationWarning: The truth value of an empty array is ambiguous. Returning False, but in future this will result in an error. Use `array.size > 0` to check that an array is not empty.\n",
      "  if diff:\n",
      "d:\\gongju\\python3.6 64\\anzhuang\\lib\\site-packages\\sklearn\\preprocessing\\label.py:151: DeprecationWarning: The truth value of an empty array is ambiguous. Returning False, but in future this will result in an error. Use `array.size > 0` to check that an array is not empty.\n",
      "  if diff:\n",
      "d:\\gongju\\python3.6 64\\anzhuang\\lib\\site-packages\\sklearn\\preprocessing\\label.py:151: DeprecationWarning: The truth value of an empty array is ambiguous. Returning False, but in future this will result in an error. Use `array.size > 0` to check that an array is not empty.\n",
      "  if diff:\n"
     ]
    },
    {
     "name": "stdout",
     "output_type": "stream",
     "text": [
      "100\n"
     ]
    },
    {
     "name": "stderr",
     "output_type": "stream",
     "text": [
      "d:\\gongju\\python3.6 64\\anzhuang\\lib\\site-packages\\sklearn\\preprocessing\\label.py:151: DeprecationWarning: The truth value of an empty array is ambiguous. Returning False, but in future this will result in an error. Use `array.size > 0` to check that an array is not empty.\n",
      "  if diff:\n",
      "d:\\gongju\\python3.6 64\\anzhuang\\lib\\site-packages\\sklearn\\preprocessing\\label.py:151: DeprecationWarning: The truth value of an empty array is ambiguous. Returning False, but in future this will result in an error. Use `array.size > 0` to check that an array is not empty.\n",
      "  if diff:\n",
      "d:\\gongju\\python3.6 64\\anzhuang\\lib\\site-packages\\sklearn\\preprocessing\\label.py:151: DeprecationWarning: The truth value of an empty array is ambiguous. Returning False, but in future this will result in an error. Use `array.size > 0` to check that an array is not empty.\n",
      "  if diff:\n",
      "d:\\gongju\\python3.6 64\\anzhuang\\lib\\site-packages\\sklearn\\preprocessing\\label.py:151: DeprecationWarning: The truth value of an empty array is ambiguous. Returning False, but in future this will result in an error. Use `array.size > 0` to check that an array is not empty.\n",
      "  if diff:\n",
      "d:\\gongju\\python3.6 64\\anzhuang\\lib\\site-packages\\sklearn\\preprocessing\\label.py:151: DeprecationWarning: The truth value of an empty array is ambiguous. Returning False, but in future this will result in an error. Use `array.size > 0` to check that an array is not empty.\n",
      "  if diff:\n",
      "d:\\gongju\\python3.6 64\\anzhuang\\lib\\site-packages\\sklearn\\preprocessing\\label.py:151: DeprecationWarning: The truth value of an empty array is ambiguous. Returning False, but in future this will result in an error. Use `array.size > 0` to check that an array is not empty.\n",
      "  if diff:\n",
      "d:\\gongju\\python3.6 64\\anzhuang\\lib\\site-packages\\sklearn\\preprocessing\\label.py:151: DeprecationWarning: The truth value of an empty array is ambiguous. Returning False, but in future this will result in an error. Use `array.size > 0` to check that an array is not empty.\n",
      "  if diff:\n",
      "d:\\gongju\\python3.6 64\\anzhuang\\lib\\site-packages\\sklearn\\preprocessing\\label.py:151: DeprecationWarning: The truth value of an empty array is ambiguous. Returning False, but in future this will result in an error. Use `array.size > 0` to check that an array is not empty.\n",
      "  if diff:\n",
      "d:\\gongju\\python3.6 64\\anzhuang\\lib\\site-packages\\sklearn\\preprocessing\\label.py:151: DeprecationWarning: The truth value of an empty array is ambiguous. Returning False, but in future this will result in an error. Use `array.size > 0` to check that an array is not empty.\n",
      "  if diff:\n",
      "d:\\gongju\\python3.6 64\\anzhuang\\lib\\site-packages\\sklearn\\preprocessing\\label.py:151: DeprecationWarning: The truth value of an empty array is ambiguous. Returning False, but in future this will result in an error. Use `array.size > 0` to check that an array is not empty.\n",
      "  if diff:\n"
     ]
    },
    {
     "name": "stdout",
     "output_type": "stream",
     "text": [
      "110\n"
     ]
    },
    {
     "name": "stderr",
     "output_type": "stream",
     "text": [
      "d:\\gongju\\python3.6 64\\anzhuang\\lib\\site-packages\\sklearn\\preprocessing\\label.py:151: DeprecationWarning: The truth value of an empty array is ambiguous. Returning False, but in future this will result in an error. Use `array.size > 0` to check that an array is not empty.\n",
      "  if diff:\n",
      "d:\\gongju\\python3.6 64\\anzhuang\\lib\\site-packages\\sklearn\\preprocessing\\label.py:151: DeprecationWarning: The truth value of an empty array is ambiguous. Returning False, but in future this will result in an error. Use `array.size > 0` to check that an array is not empty.\n",
      "  if diff:\n",
      "d:\\gongju\\python3.6 64\\anzhuang\\lib\\site-packages\\sklearn\\preprocessing\\label.py:151: DeprecationWarning: The truth value of an empty array is ambiguous. Returning False, but in future this will result in an error. Use `array.size > 0` to check that an array is not empty.\n",
      "  if diff:\n",
      "d:\\gongju\\python3.6 64\\anzhuang\\lib\\site-packages\\sklearn\\preprocessing\\label.py:151: DeprecationWarning: The truth value of an empty array is ambiguous. Returning False, but in future this will result in an error. Use `array.size > 0` to check that an array is not empty.\n",
      "  if diff:\n",
      "d:\\gongju\\python3.6 64\\anzhuang\\lib\\site-packages\\sklearn\\preprocessing\\label.py:151: DeprecationWarning: The truth value of an empty array is ambiguous. Returning False, but in future this will result in an error. Use `array.size > 0` to check that an array is not empty.\n",
      "  if diff:\n",
      "d:\\gongju\\python3.6 64\\anzhuang\\lib\\site-packages\\sklearn\\preprocessing\\label.py:151: DeprecationWarning: The truth value of an empty array is ambiguous. Returning False, but in future this will result in an error. Use `array.size > 0` to check that an array is not empty.\n",
      "  if diff:\n"
     ]
    },
    {
     "name": "stdout",
     "output_type": "stream",
     "text": [
      "文件为颗粒的正确率为： 0.905982905982906\n"
     ]
    },
    {
     "name": "stderr",
     "output_type": "stream",
     "text": [
      "d:\\gongju\\python3.6 64\\anzhuang\\lib\\site-packages\\sklearn\\preprocessing\\label.py:151: DeprecationWarning: The truth value of an empty array is ambiguous. Returning False, but in future this will result in an error. Use `array.size > 0` to check that an array is not empty.\n",
      "  if diff:\n"
     ]
    }
   ],
   "source": [
    "onlineTest = True\n",
    "\n",
    "if onlineTest == True:\n",
    "    train =  pd.read_csv(\"../trainFullNumberNew88.csv\",encoding = \"utf-8\",header = None)\n",
    "    print(\".............\")\n",
    "    l = 56\n",
    "    trainx = train.iloc[:,1:l]  # 取了20维度，效果明显提升。明天试下多少合适(用循环语句)\n",
    "    trainy = train.iloc[:,0]\n",
    "    trainx.fillna(-888,inplace = True)\n",
    "    trainx.columns = np.arange(0,l-1)\n",
    "    print(\"trainx\",trainx.head())\n",
    "    xgb1 = XGBClassifier(\n",
    "        #         booster = 'dart',\n",
    "                learning_rate =0.1,\n",
    "                n_estimators=100,\n",
    "                max_depth=5,\n",
    "                min_child_weight=5,\n",
    "                gamma=0.1,\n",
    "                subsample=0.8,\n",
    "                colsample_bytree=0.8,\n",
    "        #         objective= 'binary:logistic',\n",
    "                nthread=3,\n",
    "                scale_pos_weight=1,\n",
    "                StratifiedKFold = True,          #0.866124\t0.008005\t0.965337\t0.002286\n",
    "                seed=1)\n",
    "    #     xgb1.fit(trainx,trainy)\n",
    "    #     prexgb = xgb1.predict(validatax)\n",
    "    xgb1.fit(trainx,trainy)\n",
    "    print(trainx.shape,trainy.shape)\n",
    "rightNumber = 0\n",
    "\n",
    "number = 0\n",
    "fulldata = 0\n",
    "kk = 0\n",
    "\n",
    "for path,dirname,filenames in os.walk(dirs): \n",
    "    for filename in filenames:\n",
    "        if filename.endswith('.csv'):  #因为有ipython 在所以必须有这句\n",
    "            number += 1\n",
    "            data = pd.read_csv(filename,encoding = \"gb18030\",header = None)\n",
    "            cc = prepross(data.iloc[:,1:])\n",
    "#             cc = pd.Series(cc)\n",
    "            dataok = pd.concat([data.iloc[:,0],cc],axis = 1,ignore_index = True)\n",
    "#             dataok.columns = [\"Y\",\"content\"]\n",
    "            if onlineTest == False:\n",
    "                if kk == 0:\n",
    "                    fulldata = dataok\n",
    "                    kk = 5\n",
    "                    continue\n",
    "                fulldata = pd.concat([fulldata,dataok],axis = 0,ignore_index = True)\n",
    "            else:\n",
    "                #拼接前需要对索引重新编号\n",
    "                tmp = 0\n",
    "                cc.columns = np.arange(0,cc.shape[1])\n",
    "#                 print(\".................\")\n",
    "                tmp = pd.concat([trainx,cc],axis = 0, ignore_index = True)\n",
    "                cc1 = tmp.iloc[trainx.shape[0]:,0:l-1]\n",
    "                cc1.fillna(-888,inplace = True)\n",
    "#                 print(cc1.head())\n",
    "                prexgb = xgb1.predict(cc1)\n",
    "                aa = accuracy_score(prexgb,data.iloc[:,0])\n",
    "                if aa == 1:\n",
    "                    rightNumber += 1\n",
    "#                 else:\n",
    "#                     print(\".................\")\n",
    "#                     print(filename)\n",
    "            if number % 10 == 0:\n",
    "                print(number)\n",
    "#             print(1,data.head())\n",
    "#上面多了 ipython 和目录\n",
    "if onlineTest == True:\n",
    "    print(\"文件为颗粒的正确率为：\",rightNumber/number)\n",
    "else:\n",
    "    fulldata.to_csv(\"../validataFullNumberNew88.csv\",header = None,index = False)"
   ]
  },
  {
   "cell_type": "code",
   "execution_count": 6,
   "metadata": {},
   "outputs": [],
   "source": [
    "# 文件为颗粒的正确率为(15)： 0.7350427350427351    \n",
    "# 文件为颗粒的正确率为(20)： 0.8034188034188035\n",
    "# 文件为颗粒的正确率为(20)： 0.8034188034188035   后面都是更新后的特征\n",
    "#文件为颗粒的正确率为（表格特征数目为 55）： 0.8888888888888888\n",
    "#文件为颗粒的正确率为： 0.8888888888888888  所有特征\n"
   ]
  },
  {
   "cell_type": "code",
   "execution_count": 7,
   "metadata": {},
   "outputs": [
    {
     "name": "stdout",
     "output_type": "stream",
     "text": [
      "   a  1  5\n",
      "0  1  5  6\n",
      "1  5  6  8 \n",
      "      1    5    e\n",
      "0  NaN  6.0  NaN\n",
      "1  9.0  NaN  8.0\n",
      "2  5.0  6.0  8.0\n",
      "3  NaN  NaN  NaN\n"
     ]
    }
   ],
   "source": [
    "a = pd.DataFrame([[1,5,6],[5,6,8]],columns = ['a','1','5'])\n",
    "b = pd.DataFrame([[np.nan,6,np.nan],[9,np.nan,8],[5,6,8],[np.nan,np.nan,np.nan]],columns = ['1','5','e'])\n",
    "print(a,'\\n',b)\n",
    "# pd.concat([a,b],axis = 0,ignore_index = False)\n",
    "# np.arange(0,15)\n",
    "# if onlineTest = False:\n",
    "#     \n",
    "x = b.isnull().sum(axis = 1)"
   ]
  },
  {
   "cell_type": "code",
   "execution_count": 8,
   "metadata": {},
   "outputs": [],
   "source": [
    "# fulldata = pd.DataFrame(fulldata)\n",
    "# label = fulldata.columns\n",
    "# for i in range(fulldata.shape[0]):\n",
    "#     print(fulldata[label[i].unique()])"
   ]
  },
  {
   "cell_type": "code",
   "execution_count": 9,
   "metadata": {
    "scrolled": true
   },
   "outputs": [],
   "source": [
    "# # 测试\n",
    "# data = pd.read_csv(\"add2007nianjianhead1.csv\",encoding = \"gb18030\",header = None)\n",
    "# (data[0] == 3).sum()\n",
    "# # # print(\"data\",data.shape)\n",
    "# # a = [[1,3,2],[4,6,2]]\n",
    "# # (np.array(a[0]) > 1).sum()  #list很多功能都没有\n",
    "# # print(\"2222....................\")\n",
    "# cc = prepross(data.iloc[:,1:])\n",
    "# # cc.to_csv(\"add2007nianjianhead7mm.csv\",encoding = \"gb18030\",header = None)\n",
    "# cc\n",
    "# # cc = pd.Series(cc)\n",
    "# dataok = pd.concat([data.iloc[:,0],cc],axis = 1)\n",
    "# dataok.columns = [\"Y\",\"content\"]\n",
    "# # len(dataok) #回来就不是  pandas"
   ]
  },
  {
   "cell_type": "code",
   "execution_count": 10,
   "metadata": {},
   "outputs": [],
   "source": [
    "# mystring = u'今年18岁'\n",
    "# mystring2 = mystring.encode('gbk')\n",
    "# print(type(mystring2))\n",
    "# print(filter(str.isdigit, mystring2))\n",
    "# mm = \"wo 很 开心 18\"\n",
    "# if mm  >= u'\\u4e00' and mm <= u'\\u9fa5':\n",
    "#     print(\"包含汉字\") \n",
    "# else:\n",
    "#     print(\"bu包含汉字\") \n",
    "\n",
    "# -*- coding: utf-8 -*-\n",
    "# import re\n",
    "# zhPattern = re.compile(u'[\\u4e00-\\u9fa5]+')\n",
    "# #一个小应用，判断一段文本中是否包含简体中：\n",
    "# contents=u'一个小应用，判断一段文本中是否包含简体中：'\n",
    "# contents = '0.26'\n",
    "# match = zhPattern.search(contents)\n",
    "# if match:\n",
    "#     print (u'有中文：%s' % (match.group(0),))\n",
    "# else:\n",
    "#     print (u'没有包含中文')"
   ]
  }
 ],
 "metadata": {
  "kernelspec": {
   "display_name": "Python 3",
   "language": "python",
   "name": "python3"
  },
  "language_info": {
   "codemirror_mode": {
    "name": "ipython",
    "version": 3
   },
   "file_extension": ".py",
   "mimetype": "text/x-python",
   "name": "python",
   "nbconvert_exporter": "python",
   "pygments_lexer": "ipython3",
   "version": "3.6.3rc1"
  }
 },
 "nbformat": 4,
 "nbformat_minor": 2
}
